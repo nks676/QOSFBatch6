{
 "cells": [
  {
   "cell_type": "code",
   "execution_count": 2,
   "id": "07d61276",
   "metadata": {},
   "outputs": [
    {
     "name": "stderr",
     "output_type": "stream",
     "text": [
      "C:\\Users\\syed afaan\\anaconda3\\lib\\site-packages\\paddle\\tensor\\creation.py:125: DeprecationWarning: `np.object` is a deprecated alias for the builtin `object`. To silence this warning, use `object` by itself. Doing this will not modify any behavior and is safe. \n",
      "Deprecated in NumPy 1.20; for more details and guidance: https://numpy.org/devdocs/release/1.20.0-notes.html#deprecations\n",
      "  if data.dtype == np.object:\n"
     ]
    }
   ],
   "source": [
    "# Importing aLL important libraries\n",
    "import numpy as np\n",
    "import networkx as nx\n",
    "import matplotlib.pyplot as plt\n",
    "import warnings\n",
    "warnings.filterwarnings(\"ignore\")\n",
    "from paddle_quantum.hamiltonian import Hamiltonian\n",
    "from paddle_quantum.QAOA.tsp import tsp_hamiltonian  # Get the Hamiltonian for salesman problem\n",
    "from qiskit.tools.visualization import plot_histogram\n",
    "from qiskit import QuantumCircuit, QuantumRegister, ClassicalRegister,execute, Aer\n",
    "# Solving a TSP with QAOA\n",
    "from qiskit.algorithms.minimum_eigensolvers import QAOA\n",
    "from qiskit.primitives import Sampler\n",
    "from qiskit.algorithms.optimizers import COBYLA\n",
    "from qiskit.quantum_info import SparsePauliOp\n",
    "import numpy as np"
   ]
  },
  {
   "cell_type": "code",
   "execution_count": 3,
   "id": "4e014530",
   "metadata": {},
   "outputs": [
    {
     "name": "stdout",
     "output_type": "stream",
     "text": [
      "[(0, 1, 5), (0, 2, 6), (1, 2, 7)]\n"
     ]
    },
    {
     "data": {
      "image/png": "[encoded data removed]",
      "text/plain": [
       "<Figure size 432x288 with 1 Axes>"
      ]
     },
     "metadata": {},
     "output_type": "display_data"
    }
   ],
   "source": [
    "# Assume that you have a distance matrix called \"distances\"\n",
    "# and a list of cities called \"cities\"\n",
    "\n",
    "import networkx as nx\n",
    "import matplotlib.pyplot as plt\n",
    "\n",
    "# Define the distance matrix and list of cities\n",
    "cities = [0,1,2]\n",
    "distances=[[0,5,6], [5,0,7], [6,7,0]]\n",
    "\n",
    "# Initialize an empty list to hold the edges and their weights\n",
    "edges = []\n",
    "\n",
    "# Iterate over the distance matrix and add edges to the list\n",
    "for i in range(len(cities)):\n",
    "    for j in range(i+1, len(cities)):\n",
    "        if distances[i][j] != 0:\n",
    "            edges.append((cities[i], cities[j], distances[i][j]))\n",
    "print(edges)\n",
    "G = nx.Graph()\n",
    "G.add_weighted_edges_from(edges)\n",
    "\n",
    "# Print out the generated graph G\n",
    "pos = nx.spring_layout(G)\n",
    "options = {\n",
    "    \"with_labels\": True,\n",
    "    \"font_weight\": \"bold\",\n",
    "    \"font_color\": \"white\",\n",
    "    \"node_size\": 2000,\n",
    "    \"width\": 2\n",
    "}\n",
    "nx.draw_networkx(G, pos, **options)\n",
    "nx.draw_networkx_edge_labels(G, pos=pos, edge_labels=nx.get_edge_attributes(G,'weight'))\n",
    "ax = plt.gca()\n",
    "ax.margins(0.20)\n",
    "plt.axis(\"off\")\n",
    "plt.show()\n",
    "\n",
    "    \n",
    "\n",
    "    "
   ]
  },
  {
   "cell_type": "code",
   "execution_count": 4,
   "id": "9bc4cf1d",
   "metadata": {},
   "outputs": [
    {
     "name": "stdout",
     "output_type": "stream",
     "text": [
      "[[1.25, 'i1'], [1.25, 'z0,z3'], [-1.25, 'z0'], [-1.25, 'z3'], [3.0, 'i1'], [-3.0, 'z1'], [3.0, 'i1'], [-3.0, 'z0'], [1.25, 'i1'], [1.25, 'z2,z1'], [-1.25, 'z2'], [-1.25, 'z1'], [3.5, 'i1'], [-3.5, 'z3'], [3.5, 'i1'], [-3.5, 'z2'], [46, 'i1'], [-46.0, 'i1'], [46.0, 'z0'], [23.0, 'i1'], [-23.0, 'z0'], [-46.0, 'i1'], [46.0, 'z1'], [23.0, 'i1'], [-23.0, 'z1'], [23.0, 'i1'], [23.0, 'z1,z0'], [-23.0, 'z1'], [-23.0, 'z0'], [46, 'i1'], [-46.0, 'i1'], [46.0, 'z2'], [23.0, 'i1'], [-23.0, 'z2'], [-46.0, 'i1'], [46.0, 'z3'], [23.0, 'i1'], [-23.0, 'z3'], [23.0, 'i1'], [23.0, 'z3,z2'], [-23.0, 'z3'], [-23.0, 'z2'], [46, 'i1'], [-46.0, 'i1'], [46.0, 'z0'], [23.0, 'i1'], [-23.0, 'z0'], [-46.0, 'i1'], [46.0, 'z2'], [23.0, 'i1'], [-23.0, 'z2'], [23.0, 'i1'], [23.0, 'z2,z0'], [-23.0, 'z2'], [-23.0, 'z0'], [46, 'i1'], [-46.0, 'i1'], [46.0, 'z1'], [23.0, 'i1'], [-23.0, 'z1'], [-46.0, 'i1'], [46.0, 'z3'], [23.0, 'i1'], [-23.0, 'z3'], [23.0, 'i1'], [23.0, 'z3,z1'], [-23.0, 'z3'], [-23.0, 'z1']]\n"
     ]
    }
   ],
   "source": [
    "# Construct the Hamiltonian H_C in the form of list -- with build-in function tsp_hamiltonian(G, A, n)\n",
    "A = 46 # Penalty parameter\n",
    "n = len(distances) # n is the number of vertices in the graph G\n",
    "H_C_list = tsp_hamiltonian(G, A, n)\n",
    "# Generate the Hamiltonian\n",
    "#H_C =Hamiltonian(H_C_list)\n",
    "print(H_C_list)\n",
    "#cost_hamiltonian = H_C.construct_h_matrix()\n",
    "#print((cost_hamiltonian),len(cost_hamiltonian))\n"
   ]
  },
  {
   "cell_type": "code",
   "execution_count": 5,
   "id": "3ffb5279",
   "metadata": {},
   "outputs": [
    {
     "name": "stdout",
     "output_type": "stream",
     "text": [
      "[('IIII', 1.25), ('ZIIZ', 1.25), ('ZIII', -1.25), ('IIIZ', -1.25), ('IIII', 3.0), ('IZII', -3.0), ('IIII', 3.0), ('ZIII', -3.0), ('IIII', 1.25), ('IZZI', 1.25), ('IIZI', -1.25), ('IZII', -1.25), ('IIII', 3.5), ('IIIZ', -3.5), ('IIII', 3.5), ('IIZI', -3.5), ('IIII', 46), ('IIII', -46.0), ('ZIII', 46.0), ('IIII', 23.0), ('ZIII', -23.0), ('IIII', -46.0), ('IZII', 46.0), ('IIII', 23.0), ('IZII', -23.0), ('IIII', 23.0), ('ZZII', 23.0), ('IZII', -23.0), ('ZIII', -23.0), ('IIII', 46), ('IIII', -46.0), ('IIZI', 46.0), ('IIII', 23.0), ('IIZI', -23.0), ('IIII', -46.0), ('IIIZ', 46.0), ('IIII', 23.0), ('IIIZ', -23.0), ('IIII', 23.0), ('IIZZ', 23.0), ('IIIZ', -23.0), ('IIZI', -23.0), ('IIII', 46), ('IIII', -46.0), ('ZIII', 46.0), ('IIII', 23.0), ('ZIII', -23.0), ('IIII', -46.0), ('IIZI', 46.0), ('IIII', 23.0), ('IIZI', -23.0), ('IIII', 23.0), ('ZIZI', 23.0), ('IIZI', -23.0), ('ZIII', -23.0), ('IIII', 46), ('IIII', -46.0), ('IZII', 46.0), ('IIII', 23.0), ('IZII', -23.0), ('IIII', -46.0), ('IIIZ', 46.0), ('IIII', 23.0), ('IIIZ', -23.0), ('IIII', 23.0), ('IZIZ', 23.0), ('IIIZ', -23.0), ('IZII', -23.0)]\n"
     ]
    }
   ],
   "source": [
    "from qiskit.quantum_info import SparsePauliOp\n",
    "#The below code converts Paddle Pauli Z and I operator to Qiskit Pauli operator list.\n",
    "coeff = []\n",
    "term = []\n",
    "for i in range(len(H_C_list)):\n",
    "    \n",
    "    co, te = H_C_list[i]\n",
    "    te = te.upper()\n",
    "    coeff.append(co)\n",
    "    term.append(te)\n",
    "# The to_qiskit_pauli(ops) function takes a list of Pauli operators extracted by the previous step \n",
    "#and converts that into Qiskit native pauli \n",
    "def to_qiskit_pauli(ops):\n",
    "    qubits = set()\n",
    "    for op in ops:\n",
    "        qubits.update([int(q) for q in op[1:].replace(',', '') if q.isnumeric()])\n",
    "    max_qubit = max(qubits) if len(qubits) > 0 else 0\n",
    "    pauli_list = []\n",
    "    for op in ops:\n",
    "        pauli_str = ''\n",
    "        q_indices = [int(q) for q in op[1:].replace(',', '') if q.isnumeric()]\n",
    "        for q in range(max_qubit+1):\n",
    "            pauli_char = 'I'\n",
    "            if q in q_indices:\n",
    "                pauli_char = op[0]\n",
    "            pauli_str += pauli_char\n",
    "        pauli_list.append(pauli_str)\n",
    "    return pauli_list\n",
    "\n",
    "qiskit_pauli_term = to_qiskit_pauli(term) # should give output in the form ['IIIZIIZII', 'IIIIIZIII']\n",
    "#the below line zips botn coefficients and operators in one list\n",
    "result = [(x, y) for x, y in zip(qiskit_pauli_term, coeff)]\n",
    "print(result)\n",
    "\n"
   ]
  },
  {
   "cell_type": "code",
   "execution_count": 6,
   "id": "00ed756b",
   "metadata": {},
   "outputs": [
    {
     "name": "stdout",
     "output_type": "stream",
     "text": [
      "SparsePauliOp(['IIII', 'ZIIZ', 'ZIII', 'IIIZ', 'IIII', 'IZII', 'IIII', 'ZIII', 'IIII', 'IZZI', 'IIZI', 'IZII', 'IIII', 'IIIZ', 'IIII', 'IIZI', 'IIII', 'IIII', 'ZIII', 'IIII', 'ZIII', 'IIII', 'IZII', 'IIII', 'IZII', 'IIII', 'ZZII', 'IZII', 'ZIII', 'IIII', 'IIII', 'IIZI', 'IIII', 'IIZI', 'IIII', 'IIIZ', 'IIII', 'IIIZ', 'IIII', 'IIZZ', 'IIIZ', 'IIZI', 'IIII', 'IIII', 'ZIII', 'IIII', 'ZIII', 'IIII', 'IIZI', 'IIII', 'IIZI', 'IIII', 'ZIZI', 'IIZI', 'ZIII', 'IIII', 'IIII', 'IZII', 'IIII', 'IZII', 'IIII', 'IIIZ', 'IIII', 'IIIZ', 'IIII', 'IZIZ', 'IIIZ', 'IZII'],\n",
      "              coeffs=[  1.25+0.j,   1.25+0.j,  -1.25+0.j,  -1.25+0.j,   3.  +0.j,  -3.  +0.j,\n",
      "   3.  +0.j,  -3.  +0.j,   1.25+0.j,   1.25+0.j,  -1.25+0.j,  -1.25+0.j,\n",
      "   3.5 +0.j,  -3.5 +0.j,   3.5 +0.j,  -3.5 +0.j,  46.  +0.j, -46.  +0.j,\n",
      "  46.  +0.j,  23.  +0.j, -23.  +0.j, -46.  +0.j,  46.  +0.j,  23.  +0.j,\n",
      " -23.  +0.j,  23.  +0.j,  23.  +0.j, -23.  +0.j, -23.  +0.j,  46.  +0.j,\n",
      " -46.  +0.j,  46.  +0.j,  23.  +0.j, -23.  +0.j, -46.  +0.j,  46.  +0.j,\n",
      "  23.  +0.j, -23.  +0.j,  23.  +0.j,  23.  +0.j, -23.  +0.j, -23.  +0.j,\n",
      "  46.  +0.j, -46.  +0.j,  46.  +0.j,  23.  +0.j, -23.  +0.j, -46.  +0.j,\n",
      "  46.  +0.j,  23.  +0.j, -23.  +0.j,  23.  +0.j,  23.  +0.j, -23.  +0.j,\n",
      " -23.  +0.j,  46.  +0.j, -46.  +0.j,  46.  +0.j,  23.  +0.j, -23.  +0.j,\n",
      " -46.  +0.j,  46.  +0.j,  23.  +0.j, -23.  +0.j,  23.  +0.j,  23.  +0.j,\n",
      " -23.  +0.j, -23.  +0.j])\n"
     ]
    }
   ],
   "source": [
    "Sparsed_Pauli= SparsePauliOp.from_list(result)\n",
    "print(Sparsed_Pauli)"
   ]
  },
  {
   "cell_type": "code",
   "execution_count": 13,
   "id": "5f97eccc",
   "metadata": {},
   "outputs": [
    {
     "name": "stdout",
     "output_type": "stream",
     "text": [
      "SparsePauliOp(['IIII', 'ZIIZ', 'ZIII', 'IIIZ', 'IIII', 'IZII', 'IIII', 'ZIII', 'IIII', 'IZZI', 'IIZI', 'IZII', 'IIII', 'IIIZ', 'IIII', 'IIZI', 'IIII', 'IIII', 'ZIII', 'IIII', 'ZIII', 'IIII', 'IZII', 'IIII', 'IZII', 'IIII', 'ZZII', 'IZII', 'ZIII', 'IIII', 'IIII', 'IIZI', 'IIII', 'IIZI', 'IIII', 'IIIZ', 'IIII', 'IIIZ', 'IIII', 'IIZZ', 'IIIZ', 'IIZI', 'IIII', 'IIII', 'ZIII', 'IIII', 'ZIII', 'IIII', 'IIZI', 'IIII', 'IIZI', 'IIII', 'ZIZI', 'IIZI', 'ZIII', 'IIII', 'IIII', 'IZII', 'IIII', 'IZII', 'IIII', 'IIIZ', 'IIII', 'IIIZ', 'IIII', 'IZIZ', 'IIIZ', 'IZII'],\n",
      "              coeffs=[  1.25+0.j,   1.25+0.j,  -1.25+0.j,  -1.25+0.j,   3.  +0.j,  -3.  +0.j,\n",
      "   3.  +0.j,  -3.  +0.j,   1.25+0.j,   1.25+0.j,  -1.25+0.j,  -1.25+0.j,\n",
      "   3.5 +0.j,  -3.5 +0.j,   3.5 +0.j,  -3.5 +0.j,  46.  +0.j, -46.  +0.j,\n",
      "  46.  +0.j,  23.  +0.j, -23.  +0.j, -46.  +0.j,  46.  +0.j,  23.  +0.j,\n",
      " -23.  +0.j,  23.  +0.j,  23.  +0.j, -23.  +0.j, -23.  +0.j,  46.  +0.j,\n",
      " -46.  +0.j,  46.  +0.j,  23.  +0.j, -23.  +0.j, -46.  +0.j,  46.  +0.j,\n",
      "  23.  +0.j, -23.  +0.j,  23.  +0.j,  23.  +0.j, -23.  +0.j, -23.  +0.j,\n",
      "  46.  +0.j, -46.  +0.j,  46.  +0.j,  23.  +0.j, -23.  +0.j, -46.  +0.j,\n",
      "  46.  +0.j,  23.  +0.j, -23.  +0.j,  23.  +0.j,  23.  +0.j, -23.  +0.j,\n",
      " -23.  +0.j,  46.  +0.j, -46.  +0.j,  46.  +0.j,  23.  +0.j, -23.  +0.j,\n",
      " -46.  +0.j,  46.  +0.j,  23.  +0.j, -23.  +0.j,  23.  +0.j,  23.  +0.j,\n",
      " -23.  +0.j, -23.  +0.j])\n"
     ]
    },
    {
     "name": "stderr",
     "output_type": "stream",
     "text": [
      "INFO 2023-04-08 14:10:40,205 sampling_vqe.py:230] Optimization complete in 13.260785341262817 seconds.\n",
      "Found opt_params [-4.29499641 -4.59222947].\n"
     ]
    },
    {
     "name": "stdout",
     "output_type": "stream",
     "text": [
      "{0: 0.0326973117759171, 1: 0.0758882913030089, 2: 0.0758882913030088, 3: 0.0226961786544109, 4: 0.0297658895074733, 5: 0.0143385814692238, 6: 0.142995795910112, 7: 0.0167795688812784, 8: 0.0297658895074732, 9: 0.142995795910112, 10: 0.0143385814692238, 11: 0.0167795688812784, 12: 0.093806729272249, 13: 0.112636649966264, 14: 0.1126366499662641, 15: 0.0659902262227001}\n",
      "optimal_cost 91.77291861059818\n",
      "<qiskit.algorithms.minimum_eigensolvers.qaoa.QAOA object at 0x000002BF56993E80>\n",
      "['__abstractmethods__', '__class__', '__delattr__', '__dict__', '__dir__', '__doc__', '__eq__', '__format__', '__ge__', '__getattribute__', '__gt__', '__hash__', '__init__', '__init_subclass__', '__le__', '__lt__', '__module__', '__ne__', '__new__', '__reduce__', '__reduce_ex__', '__repr__', '__setattr__', '__sizeof__', '__slots__', '__str__', '__subclasshook__', '__weakref__', '_abc_impl', '_build_sampling_vqe_result', '_check_operator_ansatz', '_cost_operator', '_get_evaluate_energy', '_initial_point', 'aggregation', 'ansatz', 'callback', 'compute_minimum_eigenvalue', 'initial_point', 'initial_state', 'mixer', 'optimizer', 'reps', 'sampler', 'supports_aux_operators']\n",
      "SamplingMinimumEigensolverResult:\n",
      "\tEigenvalue: 91.77291861059818\n",
      "\tBest measurement\n",
      ": {'state': 6, 'bitstring': '0110', 'value': (18+0j), 'probability': 0.1526400021039616}\n",
      "\n"
     ]
    }
   ],
   "source": [
    "# Solving a TSP with QAOA\n",
    "from qiskit.algorithms.minimum_eigensolvers import QAOA\n",
    "from qiskit.primitives import Sampler\n",
    "from qiskit.algorithms.optimizers import COBYLA\n",
    "from qiskit.quantum_info import SparsePauliOp\n",
    "import matplotlib.pyplot as plt\n",
    "import numpy as np\n",
    "\n",
    "# To run the QAOA we need:\n",
    "# 1. The cost function / Hamiltonian => a function that encodes the problem we want to solve. The solution to our problem should be the lowest value of the cost function.\n",
    "# 2. A parameterized circuit (ansatz) => a circuit that has some parameters that we can change. The parameters are the ones that we will optimize.\n",
    "# 3. The optimizer => a function that \"knows\" how to search for the best parameters.\n",
    "# 4. The sampler => a way to run the circuit and get the results. This is the backend which can be a simulator or a real quantum computer.\n",
    "\n",
    "# #### --- 1. The cost function.\n",
    "# The cost function takes a \"solution\" as input and returns the cost of that solution. The lower the cost the better the solution.\n",
    "# For quantum algorithms, the cost function is usually a Hamiltonian. We have to define a Hamiltonian that encodes our problem.\n",
    "# A Hamiltonian acts on a quantum state and returns the state's energy. Thus, the lowest energy state is the best solution to our problem.\n",
    "# In general this is the most difficult part of the problem. We need to find a good way to encode our problem using quantum states and a Hamiltonian.\n",
    "# As we've discussed the general idea is to encode a solution as a bitstring \"00110101...\" and then encode the bistring to a quantum state.\n",
    "# This results in a Hamiltonian that can be represented either as an operator object or as a matrix.\n",
    "\n",
    "# The main difficulty of your work is to create a function that takes as input the \"cost matrix\" of the cities and returns the Hamiltonian operator or matrix:\n",
    "cost_matrix = np.array([[0,45,20,5], [45,0,35,25], [20,35,0,30], [5,25,30,0]])\n",
    "def cost_matrix_to_hamiltonian(cost_matrix):\n",
    "    \n",
    "    '''num_cities = len(cost_matrix)\n",
    "    pauli_terms = []\n",
    "    constant = 0\n",
    "    for i in range(num_cities):\n",
    "        for j in range(i):\n",
    "            if i != j:\n",
    "                # We need to create a Pauli term for each pair of cities.\n",
    "                # Each Pauli term will correspond to the interaction between two qubits.\n",
    "                # We'll use the formula from https://arxiv.org/pdf/1709.03489.pdf.\n",
    "                coefficient = cost_matrix[i,j]/2\n",
    "                pauli_string = 'I'*num_cities\n",
    "                pauli_string = pauli_string[:i] + 'Z' + pauli_string[i+1:]\n",
    "                pauli_string = pauli_string[:j] + 'Z' + pauli_string[j+1:]\n",
    "                pauli_terms.append((pauli_string, coefficient))\n",
    "                constant += coefficient\n",
    "    # Finally, we create the Hamiltonian by adding all the Pauli terms and the constant.\n",
    "    hamiltonian = SparsePauliOp.from_list(pauli_terms)\n",
    "    hamiltonian.chop(10**-10)\n",
    "    #hamiltonian = hamiltonian.to_matrix() + constant*np.eye(2**num_cities)\n",
    "    return hamiltonian'''\n",
    "\n",
    "#tsp_cost_h = cost_matrix_to_hamiltonian(cost_matrix)\n",
    "#print(tsp_cost_h )\n",
    "tsp_cost_h = Sparsed_Pauli # Using the list which we made in previous step\n",
    "print(tsp_cost_h )\n",
    "\n",
    "# #### --- 2. The ansatz.\n",
    "# We need to define a parameterized circuit. It can be anything we want. Of course, we want the circuit to be a good approximation of the solution to our problem.\n",
    "# For now we skip this step and use the default ansatz of QAOA provided by Qiskit.\n",
    "\n",
    "# #### --- 3. The optimizer.\n",
    "# To improve the initial (random) parameters of the circuit we need to define an optimizer.\n",
    "# COBYLA is a good start for QAOA.\n",
    "optimizer = COBYLA()\n",
    "\n",
    "# #### --- 4. The sampler. There are many ways to access simulators and real q devices. qiskit's `primitives` is one of them (rather new and perhaps recommended).\n",
    "sampler = Sampler()\n",
    "\n",
    "\n",
    "# ### RUN and get the results\n",
    "\n",
    "# Now to define and run the circuit.\n",
    "qaoa = QAOA(sampler, optimizer)\n",
    "\n",
    "# Run the circuit multiple times to find the best parameters.\n",
    "result = qaoa.compute_minimum_eigenvalue(tsp_cost_h)\n",
    "#ckt =  qaoa.dir()\n",
    "#print(ckt)\n",
    "# Show the state with the lowest energy.\n",
    "print(result.eigenstate)\n",
    "optimal_cost = result.eigenvalue.real # get the real part of the eigenvalue\n",
    "print('optimal_cost',optimal_cost)\n",
    "print(qaoa)\n",
    "print(dir(qaoa))\n",
    "print(result)\n",
    "\n"
   ]
  },
  {
   "cell_type": "code",
   "execution_count": null,
   "id": "944979fb",
   "metadata": {},
   "outputs": [],
   "source": []
  }
 ],
 "metadata": {
  "kernelspec": {
   "display_name": "Python 3 (ipykernel)",
   "language": "python",
   "name": "python3"
  },
  "language_info": {
   "codemirror_mode": {
    "name": "ipython",
    "version": 3
   },
   "file_extension": ".py",
   "mimetype": "text/x-python",
   "name": "python",
   "nbconvert_exporter": "python",
   "pygments_lexer": "ipython3",
   "version": "3.9.12"
  }
 },
 "nbformat": 4,
 "nbformat_minor": 5
}
