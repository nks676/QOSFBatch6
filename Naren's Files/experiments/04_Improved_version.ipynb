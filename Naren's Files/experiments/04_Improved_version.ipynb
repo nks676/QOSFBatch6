{
 "cells": [
  {
   "cell_type": "markdown",
   "metadata": {},
   "source": [
    "# TSP + QAOA - improvements"
   ]
  },
  {
   "cell_type": "markdown",
   "metadata": {},
   "source": [
    "In the previous part we have implemented an algorithm for solving TSP, we implemented the constraints for this problem, but the results were still not very convincing."
   ]
  },
  {
   "cell_type": "markdown",
   "metadata": {},
   "source": [
    "In this tutorial you will learn the following:\n",
    "\n",
    "- How to improve your QAOA algorithm\n",
    "- How to make sure that the improvements are real"
   ]
  },
  {
   "cell_type": "markdown",
   "metadata": {},
   "source": [
    "## Imports"
   ]
  },
  {
   "cell_type": "code",
   "execution_count": 1,
   "metadata": {},
   "outputs": [],
   "source": [
    "from scripts.forest_tsp_solver_naive import ForestTSPSolverNaive\n",
    "import numpy as np\n",
    "from scripts import utilities\n",
    "from scripts import analysis\n",
    "from scripts import plots\n",
    "import matplotlib.pyplot as plt"
   ]
  },
  {
   "cell_type": "code",
   "execution_count": 2,
   "metadata": {},
   "outputs": [
    {
     "data": {
      "image/png": "[encoded data removed]",
      "text/plain": [
       "<Figure size 640x480 with 1 Axes>"
      ]
     },
     "metadata": {},
     "output_type": "display_data"
    }
   ],
   "source": [
    "cities = np.array([[0, 4],[0, 0],[3, 0]])\n",
    "distance_matrix = utilities.get_distance_matrix(cities)\n",
    "plots.plot_cities(cities)\n",
    "plt.show()"
   ]
  },
  {
   "cell_type": "markdown",
   "metadata": {},
   "source": [
    "## Parameters"
   ]
  },
  {
   "cell_type": "markdown",
   "metadata": {},
   "source": [
    "One of the most obvious and universal ways of improving the performance of an algorithm is changing it parameters. Some algorithms have very few parameters and some have a lot of them.\n",
    "We covered the parameters of QAOA in the second notebook, so if you don't remember what they are, you can come back there."
   ]
  },
  {
   "cell_type": "markdown",
   "metadata": {},
   "source": [
    "From all these parameters, there are three that we care about most for now:\n",
    "`steps`, `xtol` and `ftol`."
   ]
  },
  {
   "cell_type": "markdown",
   "metadata": {},
   "source": [
    "`steps` specifies how many times we apply cost and driver operators. Higher value of `steps` should give better results, but also increase the size of our circuit and hence - runtime."
   ]
  },
  {
   "cell_type": "markdown",
   "metadata": {},
   "source": [
    "`xtol` and `ftol` are the parameters of the classical optimizer (in our case it's Nelder-Mead algorithm) we use to find the optimal values of `betas` and `gammas`. They say how small the changes should be so that we can say that our optimization converged. Generally - the smaller, the better results we should get but again, it will take more time. \n",
    "\n",
    "If you are interested, you can read more about Nelder-Mead method in the [scipy docs](https://docs.scipy.org/doc/scipy/reference/optimize.minimize-neldermead.html) or [wiki](https://en.wikipedia.org/wiki/Nelder–Mead_method)."
   ]
  },
  {
   "cell_type": "markdown",
   "metadata": {},
   "source": [
    "For the sake of simplicity we will assume that xtol and ftol always have the same values. We will call this parameter `tol`."
   ]
  },
  {
   "cell_type": "markdown",
   "metadata": {},
   "source": [
    "Now that we know what we are doing, please experiment with the values to find those for which we get reasonable results (defaults are `steps=1` and `xtol=ftol=10e-2`)"
   ]
  },
  {
   "cell_type": "code",
   "execution_count": 3,
   "metadata": {},
   "outputs": [
    {
     "name": "stdout",
     "output_type": "stream",
     "text": [
      "WARNING: Fast method for expectation will be used. Noise\n",
      "                     models will be ineffective\n"
     ]
    },
    {
     "name": "stderr",
     "output_type": "stream",
     "text": [
      "c:\\Users\\naren\\.conda\\envs\\pyquil\\lib\\site-packages\\grove\\pyvqe\\vqe.py:172: OptimizeWarning: Unknown solver options: ftol, xtol\n",
      "  result = self.minimizer(*args, **self.minimizer_kwargs)\n"
     ]
    },
    {
     "name": "stdout",
     "output_type": "stream",
     "text": [
      "Solution: [0, 1, 2, 0, 0]\n",
      "Naive distribution: {(1, 2, 0): 186, (0, 1, 2, 0, 0): 299, (2, 1, 0): 126, (0, 1, 0, 2): 101, (0, 1, 2, 1, 0): 23, (2, 2, 1): 24, (2, 0, 1, 0): 49, (2, 0, 1, 2): 204, (1, 0, 1, 2): 159, (2, 0, 2, 2): 51, (0, 0, 1): 76, (0, 2, 0, 1, 2, 2): 7, (0, 2, 0, 1): 89, (0, 1, 2): 611, (2, 1, 2, 1): 8, (2, 1, 2, 2): 79, (0, 2, 2, 1): 5, (0, 0, 1, 2, 0, 1): 10, (1, 0, 2, 0): 65, (0, 1, 1, 1, 2): 47, (0, 1, 0, 1, 2): 73, (1, 1, 2, 1): 47, (1, 1, 2, 0): 19, (0, 2, 2): 77, (2, 0, 1): 186, (0, 0, 1, 2, 0): 139, (0, 1, 0, 0): 74, (0, 1, 0): 37, (2, 0, 1, 1): 22, (0, 2, 2, 1, 2): 60, (1, 0, 1, 2, 0, 1): 12, (1, 0, 0, 1, 2): 22, (0, 0, 1, 2, 0, 2): 3, (1, 2, 1, 2): 14, (1, 2, 1, 2, 0, 2): 4, (0, 1, 2, 0, 1): 48, (0, 0, 1, 2): 149, (1, 2, 1, 0): 28, (0, 1, 2, 0, 1, 0, 1): 40, (1, 2, 2): 89, (0, 1, 2, 0, 1, 1, 2): 3, (0, 1, 1, 1): 26, (0, 1, 2, 2, 0): 13, (1, 0, 0): 22, (2, 0, 1, 2, 2): 161, (1, 1, 0): 39, (0, 1, 2, 2, 2): 126, (0, 1, 2, 2, 1, 2): 24, (2, 1, 2): 36, (1, 1, 2, 0, 1, 2): 19, (0, 2, 1): 297, (0, 1, 0, 2, 0): 33, (0, 2, 1, 2): 90, (2, 2, 0, 1, 2): 273, (0, 1, 2, 0): 171, (0, 1): 42, (0, 2, 0, 1, 2): 52, (1, 0, 1, 2, 0, 1, 2): 21, (2, 1, 1): 43, (2, 2): 21, (1, 0, 2): 300, (2, 2, 0): 13, (0, 2, 0, 0, 1): 58, (1, 0, 1, 2, 1): 169, (1, 1, 2): 64, (0, 0, 0, 1): 18, (0, 2): 65, (0, 1, 2, 1, 1): 187, (1, 0, 1, 2, 0): 70, (0, 2, 0, 2, 0, 1, 2): 25, (1, 2, 0, 1, 2, 0): 2, (1, 1, 0, 1): 11, (2, 1, 0, 1, 2): 34, (0, 1, 2, 0, 1, 0): 31, (1, 0, 1, 1): 36, (2, 2, 1, 2): 62, (1, 0, 1, 2, 0, 2): 9, (2, 0, 0): 20, (0, 0, 0, 2): 35, (1, 2, 0, 2, 2): 41, (2, 0, 1, 0, 1, 2): 9, (1, 1, 1, 2): 33, (0, 0, 1, 0, 2): 21, (0, 1, 1): 59, (0, 1, 2, 1, 2): 70, (0, 0, 1, 0, 1, 2): 7, (1, 1, 0, 1, 2): 190, (1, 0, 1, 2, 2): 25, (0, 1, 2, 0, 2): 64, (1, 1, 0, 2): 26, (2, 2, 2): 36, (1, 2, 0, 1): 26, (1, 2, 0, 1, 2, 1, 2): 15, (0, 0, 2): 74, (1, 2, 0, 1, 1): 67, (0, 1, 2, 1): 112, (1, 2, 1): 63, (1, 2, 0, 1, 2): 53, (1, 1, 2, 0, 1): 60, (2, 0, 1, 2, 0): 100, (0, 1, 2, 0, 0, 1, 2): 28, (0, 0): 31, (0, 2, 2, 0, 1, 2): 10, (1,): 15, (0, 1, 0, 1, 2, 0, 1): 8, (0, 0, 2, 0): 50, (0, 1, 0, 0, 2): 55, (2, 0, 2, 1, 2): 14, (2, 2, 0, 2): 23, (0, 0, 0, 1, 2): 97, (2, 0, 1, 2, 0, 1, 2): 15, (0, 0, 2, 1): 15, (0, 1, 2, 0, 1, 1): 10, (2, 0, 0, 1, 2): 14, (0, 2, 2, 2): 20, (1, 2, 1, 2, 1, 2): 6, (2, 1, 0, 1): 17, (1, 2, 1, 0, 1, 2): 15, (0, 0, 2, 0, 1): 39, (0, 1, 2, 0, 1, 2): 65, (0, 2, 0, 1, 2, 0, 2): 31, (2, 1, 2, 0, 2): 46, (0, 1, 2, 2, 1): 17, (0, 1, 2, 2): 131, (): 7, (0, 1, 2, 0, 1, 2, 0): 13, (1, 2, 0, 2): 53, (2, 0, 2): 37, (0, 1, 2, 0, 2, 0, 2): 22, (0, 2, 0, 1, 2, 1): 5, (0, 2, 1, 1): 36, (2, 0): 45, (0, 1, 1, 2, 0): 5, (0, 1, 2, 2, 0, 2): 15, (1, 2, 1, 1): 14, (1, 0, 1, 1, 2): 5, (1, 0): 41, (1, 2, 2, 0, 2): 44, (0, 1, 1, 0, 1, 2): 12, (2, 1, 2, 0): 23, (0, 1, 0, 1, 2, 1): 15, (0, 2, 0, 1, 0): 59, (0, 0, 0): 53, (1, 0, 1, 0): 9, (2, 0, 1, 2, 1): 63, (1, 1): 27, (0, 1, 2, 0, 1, 2, 0, 1, 2): 23, (2, 1, 2, 0, 1, 2): 41, (0, 0, 1, 2, 2): 15, (1, 0, 1): 43, (1, 2, 0, 1, 0): 10, (1, 2): 33, (1, 2, 1, 2, 0, 1, 2): 37, (1, 2, 0, 1, 2, 1): 13, (0, 1, 2, 1, 0, 1, 2): 33, (0, 1, 0, 1, 0, 1, 2): 24, (2, 0, 2, 1): 60, (0, 0, 1, 1, 2): 15, (0, 1, 2, 2, 0, 1, 2): 36, (0, 1, 0, 0, 1, 2): 21, (2, 0, 1, 1, 2): 11, (0, 2, 0, 1, 2, 0): 1, (0, 1, 2, 1, 2, 0): 8, (0, 2, 1, 2, 0): 14, (0, 2, 0, 0): 46, (2, 2, 0, 1): 20, (0, 1, 0, 2, 2): 8, (2, 1): 36, (0, 1, 2, 1, 2, 1, 2): 14, (0, 1, 2, 1, 1, 2): 16, (1, 0, 0, 2): 8, (0, 2, 0, 1, 0, 2): 4, (1, 2, 1, 0, 1): 39, (0, 2, 0, 2): 6, (0, 0, 1, 0): 48, (1, 2, 0, 0): 13, (0, 2, 0): 33, (0, 1, 2, 1, 2, 0, 1): 1, (1, 2, 2, 0): 5, (0, 2, 0, 2, 1): 13, (1, 0, 1, 0, 1, 2): 5, (0, 2, 1, 2, 1): 2, (1, 2, 2, 1): 3, (0, 2, 1, 0): 5, (1, 2, 0, 1, 2, 0, 1): 4, (1, 2, 2, 0, 1, 2): 8, (2,): 12, (0, 1, 1, 2, 1, 2): 5, (0, 1, 2, 0, 0, 1): 13, (0, 1, 0, 1, 1, 2): 9, (1, 2, 0, 2, 1, 2): 4, (0, 2, 0, 2, 1, 2): 6, (2, 1, 2, 0, 1): 15, (0, 1, 2, 0, 0, 2): 6, (0, 0, 2, 1, 2): 22, (0, 1, 2, 0, 1, 2, 1): 9, (1, 0, 2, 0, 1): 1, (1, 0, 2, 2): 18, (0, 2, 1, 2, 2): 11, (0, 1, 2, 0, 2, 0, 1, 2): 2, (0, 1, 2, 0, 2, 0): 16, (0, 1, 1, 0, 1): 3, (0, 1, 1, 2, 0, 1): 8, (2, 0, 2, 0, 1): 7, (2, 1, 0, 2): 9, (0, 1, 2, 0, 1, 2, 0, 1): 12, (2, 0, 1, 0, 2): 16, (0, 1, 2, 1, 0, 1): 12, (0, 2, 0, 0, 1, 2): 14, (0, 1, 1, 2, 0, 1, 2): 8, (1, 0, 2, 1, 2): 3, (1, 2, 0, 1, 2, 2): 11, (0, 1, 0, 1): 5, (1, 0, 2, 1): 5, (0, 1, 1, 2): 41, (1, 0, 2, 0, 1, 2): 3, (1, 2, 2, 1, 2): 2, (2, 0, 2, 0, 2): 3, (2, 1, 2, 1, 2): 5, (1, 0, 2, 0, 2): 4, (2, 0, 2, 0, 1, 2): 12, (1, 2, 0, 0, 2): 4, (0, 1, 2, 0, 2, 2): 6, (0, 0, 1, 2, 1): 13, (1, 2, 1, 2, 0): 6, (1, 0, 1, 2, 1, 2): 4, (0, 2, 1, 2, 0, 1, 2): 3, (1, 2, 0, 1, 2, 0, 1, 2): 8, (0, 2, 0, 2, 0, 2): 9, (1, 2, 0, 2, 0): 7, (1, 2, 2, 0, 1): 2, (0, 1, 2, 0, 1, 0, 1, 2): 4, (1, 0, 1, 0, 1): 3, (0, 0, 1, 2, 0, 1, 2): 8, (0, 2, 2, 0): 2, (0, 1, 2, 1, 2, 2): 6, (2, 0, 0, 1): 7, (2, 0, 2, 0): 2, (1, 2, 2, 2): 19, (1, 1, 1): 22, (0, 1, 2, 0, 1, 0, 2): 7, (0, 1, 2, 0, 1, 2, 2): 8, (0, 2, 0, 1, 0, 1): 3, (2, 0, 1, 2, 0, 2): 8, (0, 2, 1, 0, 2): 1, (0, 1, 0, 1, 0, 1): 8, (0, 1, 0, 2, 1, 2): 3, (0, 2, 0, 1, 1): 4, (0, 2, 2, 0, 1): 2, (0, 0, 2, 0, 1, 2): 5, (0, 1, 1, 2, 2): 10, (0, 2, 0, 1, 2, 1, 2): 3, (0, 2, 1, 2, 0, 2): 2, (1, 2, 0, 1, 1, 2): 5, (1, 1, 2, 1, 2): 3, (0, 2, 1, 1, 2): 5, (0, 2, 1, 2, 1, 2): 3, (2, 0, 1, 2, 0, 1): 2, (0, 1, 1, 2, 1): 6, (0, 1, 1, 0, 2): 2, (1, 2, 1, 0, 2): 1, (1, 0, 0, 1): 1, (0, 1, 0, 1, 2, 2): 3, (1, 2, 1, 2, 0, 1): 1, (1, 2, 1, 1, 2): 1, (1, 2, 0, 2, 0, 1): 1, (0,): 10, (0, 1, 2, 0, 2, 1, 2): 2, (0, 1, 2, 1, 2, 1): 2, (0, 1, 2, 0, 2, 1): 3, (0, 0, 1, 2, 1, 2): 2, (1, 2, 0, 1, 2, 0, 2): 2, (1, 2, 0, 0, 1): 1, (0, 1, 2, 0, 1, 2, 0, 2): 3, (0, 1, 0, 2, 1): 1, (1, 2, 0, 2, 1): 1, (0, 2, 0, 1, 2, 0, 1): 3, (0, 1, 0, 2, 0, 2): 3, (2, 0, 1, 0, 1): 3, (0, 1, 0, 1, 2, 1, 2): 1, (0, 0, 1, 1): 1, (0, 1, 0, 1, 2, 0): 1, (0, 1, 2, 1, 2, 0, 1, 2): 1, (0, 1, 2, 1, 2, 0, 2): 2, (0, 2, 0, 1, 2, 0, 1, 2): 2, (1, 1, 2, 2): 1, (0, 2, 1, 0, 1, 2): 1, (0, 1, 0, 1, 2, 0, 2): 2, (1, 1, 2, 0, 2): 1, (0, 1, 0, 1, 0): 1, (2, 0, 0, 2): 1}\n"
     ]
    }
   ],
   "source": [
    "steps = 1\n",
    "tol = 10e-2\n",
    "tsp_solver = ForestTSPSolverNaive(distance_matrix, steps=steps, xtol=tol, ftol=tol, use_constraints=True)\n",
    "solution, naive_distribution = tsp_solver.solve_tsp()\n",
    "print(\"Solution:\", solution)\n",
    "print(\"Naive distribution:\", naive_distribution)"
   ]
  },
  {
   "cell_type": "code",
   "execution_count": 4,
   "metadata": {},
   "outputs": [
    {
     "data": {
      "image/png": "[encoded data removed]",
      "text/plain": [
       "<Figure size 640x480 with 1 Axes>"
      ]
     },
     "metadata": {},
     "output_type": "display_data"
    }
   ],
   "source": [
    "%matplotlib inline\n",
    "from scripts import plots\n",
    "\n",
    "states_with_probs = []\n",
    "for state in tsp_solver.sampling_results:\n",
    "    states_with_probs.append([''.join(map(str,state)), tsp_solver.sampling_results[state]/10000])\n",
    "states_with_probs = sorted(states_with_probs,key=lambda x: -x[1])\n",
    "plots.plot_state_histogram(states_with_probs[:10][::-1])"
   ]
  },
  {
   "cell_type": "markdown",
   "metadata": {},
   "source": [
    "## Are the improvements really significant?"
   ]
  },
  {
   "cell_type": "markdown",
   "metadata": {},
   "source": [
    "One problem that we face here is that every time we get different result. And one time it might be a good solution, but the next time it's really crappy.\n",
    "To deal with this we need to run it multiple times to get some reasonable statistics."
   ]
  },
  {
   "cell_type": "markdown",
   "metadata": {},
   "source": [
    "So I have a task for you.\n",
    "Write a funtion, which will do the following:\n",
    "    1. Run QAOA multiple times (let's say 10)\n",
    "    2. Specify the parameters of QAOA\n",
    "    3. For each run save the following results to a file:\n",
    "        - time of calculations\n",
    "        - total probability of all valid solutions\n",
    "        - cost of the best solution (if valid)\n",
    "        - probability of the best solution\n",
    "        - values of the parameters\n",
    "        - optimal cost\n",
    "\n",
    "Then we will analyze this data to determine what is the best set of parameters."
   ]
  },
  {
   "cell_type": "markdown",
   "metadata": {},
   "source": [
    "This is the format of the file we want:"
   ]
  },
  {
   "cell_type": "markdown",
   "metadata": {},
   "source": [
    "`steps,tol,time,valid_prob,best_prob,best_valid,best_cost,optimal_cost`"
   ]
  },
  {
   "cell_type": "markdown",
   "metadata": {},
   "source": [
    "Below there are a couple of functions stubs to help you start:"
   ]
  },
  {
   "cell_type": "code",
   "execution_count": 5,
   "metadata": {},
   "outputs": [],
   "source": [
    "def analyze_singe_QAOA_run(distance_matrix, steps, tol, filename):\n",
    "    # Open proper file\n",
    "    # Run ForestTSPSolverNaive\n",
    "    # Calculate all the variables you need (time, probabilities, costs, etc.)\n",
    "    pass"
   ]
  },
  {
   "cell_type": "code",
   "execution_count": 6,
   "metadata": {},
   "outputs": [],
   "source": [
    "def get_probability_of_valid_solutions(sampling_results):\n",
    "    pass"
   ]
  },
  {
   "cell_type": "code",
   "execution_count": 7,
   "metadata": {},
   "outputs": [],
   "source": [
    "def check_if_solution_is_valid(solution):\n",
    "    pass"
   ]
  },
  {
   "cell_type": "code",
   "execution_count": 8,
   "metadata": {},
   "outputs": [],
   "source": [
    "def calculate_cost_of_solution(solution):\n",
    "    pass"
   ]
  },
  {
   "cell_type": "markdown",
   "metadata": {},
   "source": [
    "If you get stuck, you can check out `analysis.py` for my implementation."
   ]
  },
  {
   "cell_type": "markdown",
   "metadata": {},
   "source": [
    "Now that you have all these functions, let's run it for given set of parameters and see how well does it perform."
   ]
  },
  {
   "cell_type": "code",
   "execution_count": 9,
   "metadata": {
    "scrolled": true
   },
   "outputs": [
    {
     "ename": "SyntaxError",
     "evalue": "invalid syntax (1333261366.py, line 5)",
     "output_type": "error",
     "traceback": [
      "\u001b[1;36m  Cell \u001b[1;32mIn[9], line 5\u001b[1;36m\u001b[0m\n\u001b[1;33m    for steps in [1, ??, ??]:\u001b[0m\n\u001b[1;37m                     ^\u001b[0m\n\u001b[1;31mSyntaxError\u001b[0m\u001b[1;31m:\u001b[0m invalid syntax\n"
     ]
    }
   ],
   "source": [
    "# %%capture \n",
    "filename = \"results.csv\"\n",
    "# cities = utilities.create_cities(3)\n",
    "for i in range(50):\n",
    "    for steps in [1, ??, ??]:\n",
    "        for tol in [10e-2, ??, ??]:\n",
    "            print(i, steps, tol)\n",
    "            distance_matrix = utilities.get_distance_matrix(cities)\n",
    "            analysis.analyze_singe_QAOA_run(distance_matrix, steps, tol, filename)    "
   ]
  },
  {
   "cell_type": "markdown",
   "metadata": {},
   "source": [
    "I know these calculations might take a long time, so if you don't want to wait, for the next step feel free to use the data I provided in `results_notebook_04.csv`."
   ]
  },
  {
   "cell_type": "markdown",
   "metadata": {},
   "source": [
    "### Some tips on running experiments"
   ]
  },
  {
   "cell_type": "markdown",
   "metadata": {},
   "source": [
    "Since you need a lot of repetitions and calculations might take a long time, there are some tips how to make it go smoother:\n",
    "\n",
    "- personally, I prefer running such calculations from the terminal, not notebook. It's easier for me to run several processes then.\n",
    "- check how many processes you can run in parallel, so they don't steal resources from each other. If your code is using a single thread it usually depends on the number of cores you have.\n",
    "- use a different filename every time you run the code. Why? Because you can accidentally erase your results if you don't change the filename. How? You can manually change the name of the file every time - but at some point you will forget to do so. I usually add a timestamp to the filename.\n",
    "- if the execution of your code may stop in the middle (e.g. because you need internet connection) or you need as much data as you can, you can use random set of parameters every time you run it. In our case, instead of writing: `for steps in [1,2,3]` you can write: `while True: steps = random.choice([1,2,3])`. This will make your program run as long as it can (e.g. all night or until crash) and after enough repetitions you will get roughly the same number of results for each parameter set."
   ]
  },
  {
   "cell_type": "markdown",
   "metadata": {},
   "source": [
    "## Analyzing results"
   ]
  },
  {
   "cell_type": "markdown",
   "metadata": {},
   "source": [
    "Now, that we have gathered the measurements, we can analyze them to see which set of parameters gives us reasonable results in reasonable time."
   ]
  },
  {
   "cell_type": "code",
   "execution_count": null,
   "metadata": {},
   "outputs": [],
   "source": [
    "import pandas as pd\n",
    "filename = \"results_notebook_04.csv\"\n",
    "results = pd.read_csv(filename)"
   ]
  },
  {
   "cell_type": "code",
   "execution_count": null,
   "metadata": {
    "scrolled": true
   },
   "outputs": [],
   "source": [
    "for steps in results.steps.unique():\n",
    "    for tol in results.tol.unique():\n",
    "        subset = results[results.steps==steps]\n",
    "        subset = subset[subset.tol==tol]\n",
    "        count = len(subset)\n",
    "        time = subset.time.mean()\n",
    "        best_sol_valid_prob = subset.best_valid.sum() / len(subset)\n",
    "        valid_sol_perc = subset.valid_prob.mean() * 100\n",
    "        best_sol_prob = subset.best_prob.mean()\n",
    "        print(\"steps:\", steps, \"tol:\", tol, \"count:\", count)\n",
    "        print(\"Probability of best solution being valid:\", best_sol_valid_prob)\n",
    "        print(\"Mean percentage of valid solutions:\", valid_sol_perc)\n",
    "        print(\"Probability of best solution:\", best_sol_prob)\n",
    "        print(\"Mean calculation time\", time)\n",
    "        print(\"\\n\")\n",
    "            "
   ]
  },
  {
   "cell_type": "markdown",
   "metadata": {},
   "source": [
    "We can also do the following for a more compact representation:"
   ]
  },
  {
   "cell_type": "code",
   "execution_count": null,
   "metadata": {},
   "outputs": [
    {
     "data": {
      "text/html": [
       "<div>\n",
       "<style scoped>\n",
       "    .dataframe tbody tr th:only-of-type {\n",
       "        vertical-align: middle;\n",
       "    }\n",
       "\n",
       "    .dataframe tbody tr th {\n",
       "        vertical-align: top;\n",
       "    }\n",
       "\n",
       "    .dataframe thead th {\n",
       "        text-align: right;\n",
       "    }\n",
       "</style>\n",
       "<table border=\"1\" class=\"dataframe\">\n",
       "  <thead>\n",
       "    <tr style=\"text-align: right;\">\n",
       "      <th></th>\n",
       "      <th>steps</th>\n",
       "      <th>tol</th>\n",
       "      <th>count</th>\n",
       "      <th>time</th>\n",
       "      <th>best_sol_valid_prob</th>\n",
       "      <th>valid_sol_perc</th>\n",
       "      <th>best_sol_prob</th>\n",
       "    </tr>\n",
       "  </thead>\n",
       "  <tbody>\n",
       "    <tr>\n",
       "      <th>0</th>\n",
       "      <td>1</td>\n",
       "      <td>0.100</td>\n",
       "      <td>50</td>\n",
       "      <td>12.841700</td>\n",
       "      <td>0.14</td>\n",
       "      <td>2.7916</td>\n",
       "      <td>0.036282</td>\n",
       "    </tr>\n",
       "    <tr>\n",
       "      <th>1</th>\n",
       "      <td>1</td>\n",
       "      <td>0.010</td>\n",
       "      <td>50</td>\n",
       "      <td>12.231217</td>\n",
       "      <td>0.16</td>\n",
       "      <td>3.6626</td>\n",
       "      <td>0.028970</td>\n",
       "    </tr>\n",
       "    <tr>\n",
       "      <th>2</th>\n",
       "      <td>1</td>\n",
       "      <td>0.001</td>\n",
       "      <td>50</td>\n",
       "      <td>10.992243</td>\n",
       "      <td>0.12</td>\n",
       "      <td>2.9140</td>\n",
       "      <td>0.026822</td>\n",
       "    </tr>\n",
       "    <tr>\n",
       "      <th>3</th>\n",
       "      <td>2</td>\n",
       "      <td>0.100</td>\n",
       "      <td>50</td>\n",
       "      <td>10.540390</td>\n",
       "      <td>0.16</td>\n",
       "      <td>2.7670</td>\n",
       "      <td>0.023370</td>\n",
       "    </tr>\n",
       "    <tr>\n",
       "      <th>4</th>\n",
       "      <td>2</td>\n",
       "      <td>0.010</td>\n",
       "      <td>50</td>\n",
       "      <td>11.941149</td>\n",
       "      <td>0.18</td>\n",
       "      <td>3.1754</td>\n",
       "      <td>0.023816</td>\n",
       "    </tr>\n",
       "    <tr>\n",
       "      <th>5</th>\n",
       "      <td>2</td>\n",
       "      <td>0.001</td>\n",
       "      <td>50</td>\n",
       "      <td>10.634088</td>\n",
       "      <td>0.16</td>\n",
       "      <td>3.3540</td>\n",
       "      <td>0.027508</td>\n",
       "    </tr>\n",
       "    <tr>\n",
       "      <th>6</th>\n",
       "      <td>3</td>\n",
       "      <td>0.100</td>\n",
       "      <td>50</td>\n",
       "      <td>9.769331</td>\n",
       "      <td>0.10</td>\n",
       "      <td>3.1338</td>\n",
       "      <td>0.024058</td>\n",
       "    </tr>\n",
       "    <tr>\n",
       "      <th>7</th>\n",
       "      <td>3</td>\n",
       "      <td>0.010</td>\n",
       "      <td>50</td>\n",
       "      <td>13.200291</td>\n",
       "      <td>0.16</td>\n",
       "      <td>3.1818</td>\n",
       "      <td>0.030872</td>\n",
       "    </tr>\n",
       "    <tr>\n",
       "      <th>8</th>\n",
       "      <td>3</td>\n",
       "      <td>0.001</td>\n",
       "      <td>50</td>\n",
       "      <td>11.099619</td>\n",
       "      <td>0.14</td>\n",
       "      <td>3.0058</td>\n",
       "      <td>0.024244</td>\n",
       "    </tr>\n",
       "  </tbody>\n",
       "</table>\n",
       "</div>"
      ],
      "text/plain": [
       "   steps    tol  count       time  best_sol_valid_prob  valid_sol_perc  \\\n",
       "0      1  0.100     50  12.841700                 0.14          2.7916   \n",
       "1      1  0.010     50  12.231217                 0.16          3.6626   \n",
       "2      1  0.001     50  10.992243                 0.12          2.9140   \n",
       "3      2  0.100     50  10.540390                 0.16          2.7670   \n",
       "4      2  0.010     50  11.941149                 0.18          3.1754   \n",
       "5      2  0.001     50  10.634088                 0.16          3.3540   \n",
       "6      3  0.100     50   9.769331                 0.10          3.1338   \n",
       "7      3  0.010     50  13.200291                 0.16          3.1818   \n",
       "8      3  0.001     50  11.099619                 0.14          3.0058   \n",
       "\n",
       "   best_sol_prob  \n",
       "0       0.036282  \n",
       "1       0.028970  \n",
       "2       0.026822  \n",
       "3       0.023370  \n",
       "4       0.023816  \n",
       "5       0.027508  \n",
       "6       0.024058  \n",
       "7       0.030872  \n",
       "8       0.024244  "
      ]
     },
     "metadata": {},
     "output_type": "display_data"
    }
   ],
   "source": [
    "analysis_array = []\n",
    "for steps in results.steps.unique():\n",
    "    for tol in results.tol.unique():\n",
    "            subset = results[results.steps==steps]\n",
    "            subset = subset[subset.tol==tol]\n",
    "            count = len(subset)\n",
    "            time = subset.time.mean()\n",
    "            best_sol_valid_prob = subset.best_valid.sum() / len(subset)\n",
    "            valid_sol_perc = subset.valid_prob.mean() * 100\n",
    "            best_sol_prob = subset.best_prob.mean()\n",
    "            analysis_array.append([steps, tol, count, time, best_sol_valid_prob, valid_sol_perc, best_sol_prob])\n",
    "\n",
    "analysis_df = pd.DataFrame(analysis_array, columns=['steps', 'tol', 'count', 'time', 'best_sol_valid_prob', 'valid_sol_perc', 'best_sol_prob'])\n",
    "display(analysis_df)\n"
   ]
  },
  {
   "cell_type": "code",
   "execution_count": null,
   "metadata": {},
   "outputs": [],
   "source": [
    "def plot_color_map(result_name):\n",
    "    fig, ax = plt.subplots()\n",
    "    ax.set_yscale('log')\n",
    "    scatter_plot = ax.scatter(analysis_df.steps, analysis_df.tol, s=200, c=analysis_df[result_name], cmap='plasma')\n",
    "    cbar = fig.colorbar(scatter_plot)\n",
    "    ax.set_xlabel(\"steps\")\n",
    "    ax.set_ylabel(\"tol\")\n",
    "    ax.set_title(result_name + \" for different parameters\")\n",
    "    plt.show()"
   ]
  },
  {
   "cell_type": "code",
   "execution_count": null,
   "metadata": {},
   "outputs": [
    {
     "data": {
      "image/png": "[encoded data removed]",
      "text/plain": [
       "<Figure size 432x288 with 2 Axes>"
      ]
     },
     "metadata": {},
     "output_type": "display_data"
    },
    {
     "data": {
      "image/png": "[encoded data removed]",
      "text/plain": [
       "<Figure size 432x288 with 2 Axes>"
      ]
     },
     "metadata": {},
     "output_type": "display_data"
    },
    {
     "data": {
      "image/png": "[encoded data removed]",
      "text/plain": [
       "<Figure size 432x288 with 2 Axes>"
      ]
     },
     "metadata": {},
     "output_type": "display_data"
    },
    {
     "data": {
      "image/png": "[encoded data removed]",
      "text/plain": [
       "<Figure size 432x288 with 2 Axes>"
      ]
     },
     "metadata": {},
     "output_type": "display_data"
    }
   ],
   "source": [
    "plot_color_map('time')\n",
    "plot_color_map('best_sol_valid_prob')\n",
    "plot_color_map('valid_sol_perc')\n",
    "plot_color_map('best_sol_prob')"
   ]
  },
  {
   "cell_type": "markdown",
   "metadata": {},
   "source": [
    "Now, based on the results above, you can choose what parameters are the best :)"
   ]
  },
  {
   "cell_type": "markdown",
   "metadata": {},
   "source": [
    "### Warning / I'm sorry"
   ]
  },
  {
   "cell_type": "markdown",
   "metadata": {},
   "source": [
    "These results are not as good as they have been with the previous version of this algorithm I was working on. Frankly, they are extremely crappy. I think this is due to a bug somewhere, but I was unable to find it. For one set of parameters the best solution was valid around 75% of the time, and for the same parameters here - well it's around 15%.\n",
    "\n",
    "I'm really sorry for that, but I decided that I prefer to publish this imperfect version, rather than wait until I find the bug.\n",
    "\n",
    "I'm still hunting - if you would like to help me, write at michal.stechly@gmail.com and I will provide you with more details."
   ]
  },
  {
   "cell_type": "markdown",
   "metadata": {},
   "source": [
    "## Fixing starting city"
   ]
  },
  {
   "cell_type": "markdown",
   "metadata": {},
   "source": [
    "There is another thing we can do to hugely improve how well our algorithm works.\n",
    "If we know from which city we start (and we do), we can introduce that straight into our cost operators and hence reduce number of qubits we need to use from N^2 to (N-1)^2.\n",
    "\n",
    "Let's take look at the example. Let's say we have 4 cities and we know that we always start from city 0.\n",
    "\n",
    "Hence all the valid strings should start with [1,0,0,0,...].\n",
    "\n",
    "This allows us to use representation for 3 cities and simply include cost to the 1st city in the cost operator.\n",
    "\n",
    "So if we know that the first city is always the 0-th one, instead of having bitstring: [1,0,0,0, 0,1,0,0, 0,0,1,0, 0,0,0,1], we get [1,0,0, 0,1,0, 0,0,1]."
   ]
  },
  {
   "cell_type": "markdown",
   "metadata": {},
   "source": [
    "There are three ways you can proceed now:\n",
    "\n",
    "1. Figure it out by yourself\n",
    "2. Follow my tips\n",
    "3. Take a look at my code and reproduce it."
   ]
  },
  {
   "cell_type": "markdown",
   "metadata": {},
   "source": [
    "### 1. Figure it out by yourself"
   ]
  },
  {
   "cell_type": "markdown",
   "metadata": {},
   "source": [
    "Make a copy of `scripts/forest_tsp_solver_naive.py` and solve it by yourself :)"
   ]
  },
  {
   "cell_type": "markdown",
   "metadata": {},
   "source": [
    "### 2. Follow my tips"
   ]
  },
  {
   "cell_type": "markdown",
   "metadata": {},
   "source": [
    "1. You need to exclude the first city from all your calculations\n",
    "2. In `create_weights_cost_operators` you need to add costs of travelling to the first city.\n",
    "3. Make sure you decode your solution properly! I have created `binary_state_to_points_order_with_fixed_start` method for that."
   ]
  },
  {
   "cell_type": "markdown",
   "metadata": {},
   "source": [
    "### 3. Take a look at my code"
   ]
  },
  {
   "cell_type": "markdown",
   "metadata": {},
   "source": [
    "My approach to this problem is inside `scripts/forest_tsp_solver_improved.py`. Feel free to check it out if you get stucked, but remember - the more time you spend by trying to do it by yourself, the more you will learn out of it :)"
   ]
  },
  {
   "cell_type": "markdown",
   "metadata": {},
   "source": [
    "## Finally"
   ]
  },
  {
   "cell_type": "markdown",
   "metadata": {},
   "source": [
    "After you have finished, import your new class and "
   ]
  },
  {
   "cell_type": "code",
   "execution_count": null,
   "metadata": {},
   "outputs": [
    {
     "name": "stdout",
     "output_type": "stream",
     "text": [
      "WARNING: Fast method for expectation will be used. Noise\n",
      "                     models will be ineffective\n",
      "Solution: [0, 1, 2, 3, 3]\n"
     ]
    },
    {
     "data": {
      "image/png": "[encoded data removed]",
      "text/plain": [
       "<Figure size 432x288 with 1 Axes>"
      ]
     },
     "metadata": {},
     "output_type": "display_data"
    }
   ],
   "source": [
    "%matplotlib inline\n",
    "from scripts.forest_tsp_solver_improved import ForestTSPSolverImproved\n",
    "from scripts import utilities\n",
    "from scripts import plots\n",
    "\n",
    "steps = 3\n",
    "tol = 10e-3\n",
    "\n",
    "cities = utilities.create_cities(4)\n",
    "distance_matrix = utilities.get_distance_matrix(cities)\n",
    "tsp_solver = ForestTSPSolverImproved(distance_matrix, steps=steps, xtol=tol, ftol=tol, use_constraints=True)\n",
    "solution, _ = tsp_solver.solve_tsp()\n",
    "print(\"Solution:\", solution)\n",
    "\n",
    "states_with_probs = []\n",
    "for state in tsp_solver.sampling_results:\n",
    "    states_with_probs.append([''.join(map(str,state)), tsp_solver.sampling_results[state]/10000])\n",
    "states_with_probs = sorted(states_with_probs,key=lambda x: -x[1])\n",
    "plots.plot_state_histogram(states_with_probs[:10][::-1])"
   ]
  },
  {
   "cell_type": "markdown",
   "metadata": {},
   "source": [
    "## Exercises"
   ]
  },
  {
   "cell_type": "markdown",
   "metadata": {},
   "source": [
    "With all that you have already learned, it's time for you to experiment.\n",
    "Here are some propositions for that:\n",
    "- see how much better results you can get from the \"improved\" version - do a proper analysis, as we did!\n",
    "- for the analysis print out not only mean, but also standard deviation - this will give you a better picture.\n",
    "- try running it for different types and si"
   ]
  },
  {
   "cell_type": "markdown",
   "metadata": {},
   "source": [
    "## Summary and next steps"
   ]
  },
  {
   "cell_type": "markdown",
   "metadata": {},
   "source": [
    "What we learned?\n",
    "- how to tune parameters for QAOA\n",
    "- how to use a more compact encoding for TSP\n",
    "- how to check if the changes we did are really valid\n",
    "\n",
    "What's next?\n",
    "- using ACADEMIC PAPERS to get really awesome results!"
   ]
  }
 ],
 "metadata": {
  "kernelspec": {
   "display_name": "pyquil",
   "language": "python",
   "name": "python3"
  },
  "language_info": {
   "codemirror_mode": {
    "name": "ipython",
    "version": 3
   },
   "file_extension": ".py",
   "mimetype": "text/x-python",
   "name": "python",
   "nbconvert_exporter": "python",
   "pygments_lexer": "ipython3",
   "version": "3.10.9"
  }
 },
 "nbformat": 4,
 "nbformat_minor": 2
}
