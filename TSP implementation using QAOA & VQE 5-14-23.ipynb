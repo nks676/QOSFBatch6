{
 "cells": [
  {
   "cell_type": "code",
   "execution_count": null,
   "id": "1cb6398f-25e4-4e72-97a4-6f0a08ac79a8",
   "metadata": {
    "tags": []
   },
   "outputs": [],
   "source": []
  },
  {
   "cell_type": "code",
   "execution_count": 7,
   "id": "56ac7a8e-0663-4efb-aa8c-9da7dcdd8ec8",
   "metadata": {
    "tags": []
   },
   "outputs": [
    {
     "name": "stdout",
     "output_type": "stream",
     "text": [
      "distance\n",
      " [[ 0. 48. 91.]\n",
      " [48.  0. 63.]\n",
      " [91. 63.  0.]]\n",
      "Problem name: TSP\n",
      "\n",
      "Minimize\n",
      "  48*x_0_0*x_1_1 + 48*x_0_0*x_1_2 + 91*x_0_0*x_2_1 + 91*x_0_0*x_2_2\n",
      "  + 48*x_0_1*x_1_0 + 48*x_0_1*x_1_2 + 91*x_0_1*x_2_0 + 91*x_0_1*x_2_2\n",
      "  + 48*x_0_2*x_1_0 + 48*x_0_2*x_1_1 + 91*x_0_2*x_2_0 + 91*x_0_2*x_2_1\n",
      "  + 63*x_1_0*x_2_1 + 63*x_1_0*x_2_2 + 63*x_1_1*x_2_0 + 63*x_1_1*x_2_2\n",
      "  + 63*x_1_2*x_2_0 + 63*x_1_2*x_2_1\n",
      "\n",
      "Subject to\n",
      "  Linear constraints (6)\n",
      "    x_0_0 + x_0_1 + x_0_2 == 1  'c0'\n",
      "    x_1_0 + x_1_1 + x_1_2 == 1  'c1'\n",
      "    x_2_0 + x_2_1 + x_2_2 == 1  'c2'\n",
      "    x_0_0 + x_1_0 + x_2_0 == 1  'c3'\n",
      "    x_0_1 + x_1_1 + x_2_1 == 1  'c4'\n",
      "    x_0_2 + x_1_2 + x_2_2 == 1  'c5'\n",
      "\n",
      "  Binary variables (9)\n",
      "    x_0_0 x_0_1 x_0_2 x_1_0 x_1_1 x_1_2 x_2_0 x_2_1 x_2_2\n",
      "\n",
      "-1282.5 * IIIIIIIIZ\n",
      "- 1282.5 * IIIIIIIZI\n",
      "- 1282.5 * IIIIIIZII\n",
      "- 1268.5 * IIIIIZIII\n",
      "- 1268.5 * IIIIZIIII\n",
      "- 1268.5 * IIIZIIIII\n",
      "- 1290.0 * IIZIIIIII\n",
      "- 1290.0 * IZIIIIIII\n",
      "- 1290.0 * ZIIIIIIII\n",
      "+ 606.5 * IIIIIIIZZ\n",
      "+ 606.5 * IIIIIIZIZ\n",
      "+ 606.5 * IIIIIIZZI\n",
      "+ 606.5 * IIIIIZIIZ\n",
      "+ 12.0 * IIIIIZIZI\n",
      "+ 12.0 * IIIIIZZII\n",
      "+ 12.0 * IIIIZIIIZ\n",
      "+ 606.5 * IIIIZIIZI\n",
      "+ 12.0 * IIIIZIZII\n",
      "+ 606.5 * IIIIZZIII\n",
      "+ 12.0 * IIIZIIIIZ\n",
      "+ 12.0 * IIIZIIIZI\n",
      "+ 606.5 * IIIZIIZII\n",
      "+ 606.5 * IIIZIZIII\n",
      "+ 606.5 * IIIZZIIII\n",
      "+ 606.5 * IIZIIIIIZ\n",
      "+ 22.75 * IIZIIIIZI\n",
      "+ 22.75 * IIZIIIZII\n",
      "+ 606.5 * IIZIIZIII\n",
      "+ 15.75 * IIZIZIIII\n",
      "+ 15.75 * IIZZIIIII\n",
      "+ 22.75 * IZIIIIIIZ\n",
      "+ 606.5 * IZIIIIIZI\n",
      "+ 22.75 * IZIIIIZII\n",
      "+ 15.75 * IZIIIZIII\n",
      "+ 606.5 * IZIIZIIII\n",
      "+ 15.75 * IZIZIIIII\n",
      "+ 606.5 * IZZIIIIII\n",
      "+ 22.75 * ZIIIIIIIZ\n",
      "+ 22.75 * ZIIIIIIZI\n",
      "+ 606.5 * ZIIIIIZII\n",
      "+ 15.75 * ZIIIIZIII\n",
      "+ 15.75 * ZIIIZIIII\n",
      "+ 606.5 * ZIIZIIIII\n",
      "+ 606.5 * ZIZIIIIII\n",
      "+ 606.5 * ZZIIIIIII 7581.0\n",
      "\n",
      "QAOA:\n",
      " SamplingMinimumEigensolverResult:\n",
      "\tEigenvalue: -956.5792101366512\n",
      "\tBest measurement\n",
      ": {'state': 84, 'bitstring': '001010100', 'value': (-7379+0j), 'probability': 0.0060842526937022}\n",
      "\n",
      "energy: -7379.0\n",
      "tsp objective: 202.0\n",
      "time: 10.18515396118164\n"
     ]
    },
    {
     "ename": "TypeError",
     "evalue": "'int' object is not iterable",
     "output_type": "error",
     "traceback": [
      "\u001b[1;31m---------------------------------------------------------------------------\u001b[0m",
      "\u001b[1;31mTypeError\u001b[0m                                 Traceback (most recent call last)",
      "Input \u001b[1;32mIn [7]\u001b[0m, in \u001b[0;36m<cell line: 85>\u001b[1;34m()\u001b[0m\n\u001b[0;32m     83\u001b[0m \u001b[38;5;28mprint\u001b[39m(\u001b[38;5;124m\"\u001b[39m\u001b[38;5;124mtsp objective:\u001b[39m\u001b[38;5;124m\"\u001b[39m, lowest_eigen_value\u001b[38;5;241m.\u001b[39mreal \u001b[38;5;241m+\u001b[39m offset)\n\u001b[0;32m     84\u001b[0m \u001b[38;5;28mprint\u001b[39m(\u001b[38;5;124m\"\u001b[39m\u001b[38;5;124mtime:\u001b[39m\u001b[38;5;124m\"\u001b[39m, qaoa_result\u001b[38;5;241m.\u001b[39moptimizer_time)\n\u001b[1;32m---> 85\u001b[0m sample \u001b[38;5;241m=\u001b[39m \u001b[43mtsp\u001b[49m\u001b[38;5;241;43m.\u001b[39;49m\u001b[43msample_most_likely\u001b[49m\u001b[43m(\u001b[49m\u001b[43mqaoa_result\u001b[49m\u001b[38;5;241;43m.\u001b[39;49m\u001b[43meigenstate\u001b[49m\u001b[43m)\u001b[49m\n\u001b[0;32m     86\u001b[0m \u001b[38;5;28mprint\u001b[39m(\u001b[38;5;124m'\u001b[39m\u001b[38;5;124msameple\u001b[39m\u001b[38;5;124m'\u001b[39m,sample)\n\u001b[0;32m     88\u001b[0m z \u001b[38;5;241m=\u001b[39m tsp\u001b[38;5;241m.\u001b[39minterpret(sample)\n",
      "File \u001b[1;32m~\\anaconda3\\lib\\site-packages\\qiskit_optimization\\applications\\optimization_application.py:74\u001b[0m, in \u001b[0;36mOptimizationApplication.sample_most_likely\u001b[1;34m(state_vector)\u001b[0m\n\u001b[0;32m     71\u001b[0m \u001b[38;5;28;01mif\u001b[39;00m \u001b[38;5;28misinstance\u001b[39m(state_vector, (OrderedDict, \u001b[38;5;28mdict\u001b[39m)):\n\u001b[0;32m     72\u001b[0m     \u001b[38;5;66;03m# get the binary string with the largest count\u001b[39;00m\n\u001b[0;32m     73\u001b[0m     binary_string \u001b[38;5;241m=\u001b[39m \u001b[38;5;28msorted\u001b[39m(state_vector\u001b[38;5;241m.\u001b[39mitems(), key\u001b[38;5;241m=\u001b[39m\u001b[38;5;28;01mlambda\u001b[39;00m kv: kv[\u001b[38;5;241m1\u001b[39m])[\u001b[38;5;241m-\u001b[39m\u001b[38;5;241m1\u001b[39m][\u001b[38;5;241m0\u001b[39m]\n\u001b[1;32m---> 74\u001b[0m     x \u001b[38;5;241m=\u001b[39m np\u001b[38;5;241m.\u001b[39masarray([\u001b[38;5;28mint\u001b[39m(y) \u001b[38;5;28;01mfor\u001b[39;00m y \u001b[38;5;129;01min\u001b[39;00m \u001b[38;5;28mreversed\u001b[39m(\u001b[38;5;28;43mlist\u001b[39;49m\u001b[43m(\u001b[49m\u001b[43mbinary_string\u001b[49m\u001b[43m)\u001b[49m)])\n\u001b[0;32m     75\u001b[0m     \u001b[38;5;28;01mreturn\u001b[39;00m x\n\u001b[0;32m     76\u001b[0m \u001b[38;5;28;01melif\u001b[39;00m \u001b[38;5;28misinstance\u001b[39m(state_vector, StateFn):\n",
      "\u001b[1;31mTypeError\u001b[0m: 'int' object is not iterable"
     ]
    },
    {
     "data": {
      "image/png": "[encoded data removed]",
      "text/plain": [
       "<Figure size 432x288 with 1 Axes>"
      ]
     },
     "metadata": {},
     "output_type": "display_data"
    }
   ],
   "source": [
    "from qiskit import Aer\n",
    "from qiskit.algorithms.optimizers import COBYLA\n",
    "from qiskit.quantum_info.operators import Operator\n",
    "#from qiskit.optimization.applications.ising import tsp\n",
    "from qiskit_optimization.applications import Tsp\n",
    "#from qiskit.aqua.algorithms import NumPyMinimumEigensolver, QAOA\n",
    "from qiskit.algorithms.minimum_eigensolvers import QAOA , NumPyMinimumEigensolver\n",
    "#from qiskit.aqua import aqua_globals, QuantumInstance\n",
    "from qiskit.utils import QuantumInstance\n",
    "from qiskit_optimization.algorithms import MinimumEigenOptimizer\n",
    "#from qiskit.optimization.problems import QuadraticProgram\n",
    "from qiskit_optimization import QuadraticProgram\n",
    "from qiskit_optimization.converters import QuadraticProgramToQubo\n",
    "from qiskit.primitives import Sampler\n",
    "import matplotlib.pyplot as plt\n",
    "import networkx as nx\n",
    "from qiskit.utils import algorithm_globals\n",
    "# NOTE  Run this Code on IBM Quantum LAB \n",
    "\n",
    "#The below code is an implementation of solving TSP with QAOA and VQE\n",
    "# the errors are in result of probable compatibitlity between Qiskit QAOA and Tsp Function.\n",
    "#I have submitted the issue on GitHub\n",
    "    default_axes = plt.axes(frameon=True)\n",
    "    nx.draw_networkx(G, node_color=colors, node_size=600, alpha=0.8, ax=default_axes, pos=pos)\n",
    "    edge_labels = nx.get_edge_attributes(G, \"weight\")\n",
    "    nx.draw_networkx_edge_labels(G, pos=pos, edge_labels=edge_labels)\n",
    "    \n",
    "    \n",
    "def draw_tsp_solution(G, order, colors, pos):\n",
    "    G2 = nx.DiGraph()\n",
    "    G2.add_nodes_from(G)\n",
    "    n = len(order)\n",
    "    for i in range(n):\n",
    "        j = (i + 1) % n\n",
    "        G2.add_edge(order[i], order[j], weight=G[order[i]][order[j]][\"weight\"])\n",
    "    default_axes = plt.axes(frameon=True)\n",
    "    nx.draw_networkx(\n",
    "        G2, node_color=colors, edge_color=\"b\", node_size=600, alpha=0.8, ax=default_axes, pos=pos\n",
    "    )\n",
    "    edge_labels = nx.get_edge_attributes(G2, \"weight\")\n",
    "    nx.draw_networkx_edge_labels(G2, pos, font_color=\"b\", edge_labels=edge_labels)\n",
    "    \n",
    "# Generating a TSP instance of n cities\n",
    "\n",
    "n = 3\n",
    "num_qubits = n**2\n",
    "tsp = Tsp.create_random_instance(n, seed=123)\n",
    "adj_matrix = nx.to_numpy_array(tsp.graph)\n",
    "print(\"distance\\n\", adj_matrix)\n",
    "\n",
    "colors = [\"r\" for node in tsp.graph.nodes]\n",
    "pos = [tsp.graph.nodes[node][\"pos\"] for node in tsp.graph.nodes]\n",
    "draw_graph(tsp.graph, colors, pos)\n",
    "\n",
    "\n",
    "# Create a random TSP Hamiltonian\n",
    "qp = tsp.to_quadratic_program()\n",
    "print(qp.prettyprint())\n",
    "\n",
    "qp2qubo = QuadraticProgramToQubo()\n",
    "qubo = qp2qubo.convert(qp)\n",
    "qubitOp, offset = qubo.to_ising()\n",
    "print(qubitOp, offset)\n",
    "\n",
    "algorithm_globals.random_seed = 10598\n",
    "\n",
    "\n",
    "optimizer = COBYLA()\n",
    "sampler = Sampler()\n",
    "qaoa = QAOA(sampler, optimizer, reps=2)\n",
    "\n",
    "\n",
    "# solving the Problem using QAOA\n",
    "\n",
    "qaoa_result =qaoa.compute_minimum_eigenvalue(qubitOp)\n",
    "\n",
    "print(\"\\nQAOA:\\n\", qaoa_result)\n",
    "\n",
    "#v = qaoa_result.optimal_circuit\n",
    "\n",
    "lowest_eigen_value=  qaoa_result.best_measurement['value']\n",
    "print(\"energy:\", lowest_eigen_value.real)\n",
    "\n",
    "\n",
    "print(\"tsp objective:\", lowest_eigen_value.real + offset)\n",
    "print(\"time:\", qaoa_result.optimizer_time)\n",
    "sample = tsp.sample_most_likely(qaoa_result.eigenstate)\n",
    "print('sameple',sample)\n",
    "\n",
    "z = tsp.interpret(sample)\n",
    "\n",
    "\n",
    "#print('tsp._draw_result(qaoa_result)',tsp._draw_result(sample,pos))\n",
    "print(\"solution:\", z)\n",
    "print(\"solution objective:\", tsp.tsp_value(z, adj_matrix))"
   ]
  },
  {
   "cell_type": "code",
   "execution_count": 8,
   "id": "4ad3aef8-030d-4552-8e4d-996b7c467d28",
   "metadata": {},
   "outputs": [
    {
     "name": "stdout",
     "output_type": "stream",
     "text": [
      "energy: -7326.02469952186\n",
      "time: 72.70078086853027\n"
     ]
    },
    {
     "ename": "TypeError",
     "evalue": "'int' object is not iterable",
     "output_type": "error",
     "traceback": [
      "\u001b[1;31m---------------------------------------------------------------------------\u001b[0m",
      "\u001b[1;31mTypeError\u001b[0m                                 Traceback (most recent call last)",
      "Input \u001b[1;32mIn [8]\u001b[0m, in \u001b[0;36m<cell line: 15>\u001b[1;34m()\u001b[0m\n\u001b[0;32m     13\u001b[0m \u001b[38;5;28mprint\u001b[39m(\u001b[38;5;124m\"\u001b[39m\u001b[38;5;124menergy:\u001b[39m\u001b[38;5;124m\"\u001b[39m, result\u001b[38;5;241m.\u001b[39meigenvalue\u001b[38;5;241m.\u001b[39mreal)\n\u001b[0;32m     14\u001b[0m \u001b[38;5;28mprint\u001b[39m(\u001b[38;5;124m\"\u001b[39m\u001b[38;5;124mtime:\u001b[39m\u001b[38;5;124m\"\u001b[39m, result\u001b[38;5;241m.\u001b[39moptimizer_time)\n\u001b[1;32m---> 15\u001b[0m x \u001b[38;5;241m=\u001b[39m \u001b[43mtsp\u001b[49m\u001b[38;5;241;43m.\u001b[39;49m\u001b[43msample_most_likely\u001b[49m\u001b[43m(\u001b[49m\u001b[43mresult\u001b[49m\u001b[38;5;241;43m.\u001b[39;49m\u001b[43meigenstate\u001b[49m\u001b[43m)\u001b[49m\n\u001b[0;32m     16\u001b[0m \u001b[38;5;28mprint\u001b[39m(\u001b[38;5;124m\"\u001b[39m\u001b[38;5;124mfeasible:\u001b[39m\u001b[38;5;124m\"\u001b[39m, qubo\u001b[38;5;241m.\u001b[39mis_feasible(x))\n\u001b[0;32m     17\u001b[0m z \u001b[38;5;241m=\u001b[39m tsp\u001b[38;5;241m.\u001b[39minterpret(x)\n",
      "File \u001b[1;32m~\\anaconda3\\lib\\site-packages\\qiskit_optimization\\applications\\optimization_application.py:74\u001b[0m, in \u001b[0;36mOptimizationApplication.sample_most_likely\u001b[1;34m(state_vector)\u001b[0m\n\u001b[0;32m     71\u001b[0m \u001b[38;5;28;01mif\u001b[39;00m \u001b[38;5;28misinstance\u001b[39m(state_vector, (OrderedDict, \u001b[38;5;28mdict\u001b[39m)):\n\u001b[0;32m     72\u001b[0m     \u001b[38;5;66;03m# get the binary string with the largest count\u001b[39;00m\n\u001b[0;32m     73\u001b[0m     binary_string \u001b[38;5;241m=\u001b[39m \u001b[38;5;28msorted\u001b[39m(state_vector\u001b[38;5;241m.\u001b[39mitems(), key\u001b[38;5;241m=\u001b[39m\u001b[38;5;28;01mlambda\u001b[39;00m kv: kv[\u001b[38;5;241m1\u001b[39m])[\u001b[38;5;241m-\u001b[39m\u001b[38;5;241m1\u001b[39m][\u001b[38;5;241m0\u001b[39m]\n\u001b[1;32m---> 74\u001b[0m     x \u001b[38;5;241m=\u001b[39m np\u001b[38;5;241m.\u001b[39masarray([\u001b[38;5;28mint\u001b[39m(y) \u001b[38;5;28;01mfor\u001b[39;00m y \u001b[38;5;129;01min\u001b[39;00m \u001b[38;5;28mreversed\u001b[39m(\u001b[38;5;28;43mlist\u001b[39;49m\u001b[43m(\u001b[49m\u001b[43mbinary_string\u001b[49m\u001b[43m)\u001b[49m)])\n\u001b[0;32m     75\u001b[0m     \u001b[38;5;28;01mreturn\u001b[39;00m x\n\u001b[0;32m     76\u001b[0m \u001b[38;5;28;01melif\u001b[39;00m \u001b[38;5;28misinstance\u001b[39m(state_vector, StateFn):\n",
      "\u001b[1;31mTypeError\u001b[0m: 'int' object is not iterable"
     ]
    }
   ],
   "source": [
    "from qiskit.circuit.library import TwoLocal\n",
    "from qiskit.algorithms.optimizers import SPSA\n",
    "from qiskit.algorithms.minimum_eigensolvers import SamplingVQE\n",
    "\n",
    "algorithm_globals.random_seed = 123\n",
    "seed = 10598\n",
    "optimizer = SPSA(maxiter=300)\n",
    "ry = TwoLocal(qubitOp.num_qubits, \"ry\", \"cz\", reps=5, entanglement=\"linear\")\n",
    "vqe = SamplingVQE(sampler=Sampler(), ansatz=ry, optimizer=optimizer)\n",
    "\n",
    "result = vqe.compute_minimum_eigenvalue(qubitOp)\n",
    "\n",
    "print(\"energy:\", result.eigenvalue.real)\n",
    "print(\"time:\", result.optimizer_time)\n",
    "x = tsp.sample_most_likely(result.eigenstate)\n",
    "print(\"feasible:\", qubo.is_feasible(x))\n",
    "z = tsp.interpret(x)\n",
    "print(\"solution:\", z)\n",
    "print(\"solution objective:\", tsp.tsp_value(z, adj_matrix))\n",
    "\n",
    "draw_tsp_solution(tsp.graph, z, colors, pos)"
   ]
  },
  {
   "cell_type": "code",
   "execution_count": 71,
   "id": "14af5cf2-b8ee-42b3-8863-4686eb447c29",
   "metadata": {},
   "outputs": [
    {
     "name": "stdout",
     "output_type": "stream",
     "text": [
      "\n",
      "QAOA:\n",
      " SamplingMinimumEigensolverResult:\n",
      "\tEigenvalue: -216.54100224461524\n",
      "\tBest measurement\n",
      ": {'state': 84, 'bitstring': '001010100', 'value': (-7379+0j), 'probability': 0.0073193861539587}\n",
      "\n",
      "tsp objective: 7364.458997755385\n",
      "energy: -216.54100224461524\n",
      "time: 4.261896133422852\n",
      "feasible: True\n",
      "solution: [0, 0, 0]\n",
      "solution objective: 0.0\n",
      "Traceback \u001b[1;36m(most recent call last)\u001b[0m:\n",
      "\u001b[0m  Cell \u001b[0;32mIn[71], line 24\u001b[0m\n",
      "    draw_tsp_solution(tsp.graph, z, colors, pos)\u001b[0m\n",
      "\u001b[0m  Cell \u001b[0;32mIn[65], line 26\u001b[0m in \u001b[0;35mdraw_tsp_solution\u001b[0m\n",
      "    G2.add_edge(order[i], order[j], weight=G[order[i]][order[j]][\"weight\"])\u001b[0m\n",
      "\u001b[1;36m  File \u001b[1;32m/opt/conda/lib/python3.10/site-packages/networkx/classes/coreviews.py:54\u001b[1;36m in \u001b[1;35m__getitem__\u001b[1;36m\n",
      "\u001b[1;33m    return self._atlas[key]\u001b[1;36m\n",
      "\u001b[1;31mKeyError\u001b[0m\u001b[1;31m:\u001b[0m 0\n",
      "\n",
      "Use %tb to get the full traceback.\n"
     ]
    },
    {
     "data": {
      "text/html": [
       "\n",
       "<style>\n",
       ".button {\n",
       "  border: none;\n",
       "  color: white;\n",
       "  padding: 4px 8px;\n",
       "  text-align: center;\n",
       "  text-decoration: none;\n",
       "  display: inline-block;\n",
       "  font-size: 12px;\n",
       "  margin: 4px 2px;\n",
       "  transition-duration: 0.2s;\n",
       "  cursor: pointer;\n",
       "}\n",
       ".iqx-button {\n",
       "  background-color: #0f62fe; \n",
       "  color: white; \n",
       "}\n",
       ".iqx-button:hover {\n",
       "  background-color: #0043ce;\n",
       "  color: white;\n",
       "}\n",
       "</style>\n",
       "<a href=\"https://stackoverflow.com/search?q=KeyError: 0\" target='_blank'><button class='button iqx-button'>Search for solution online</button></a>\n"
      ],
      "text/plain": [
       "<IPython.core.display.HTML object>"
      ]
     },
     "metadata": {},
     "output_type": "display_data"
    }
   ],
   "source": [
    "#There is an issue with QAOA function if you use compute_minimum_eigenvalue\n",
    "#the energy its returning is not matching with VQE min energy but in the result \n",
    "#dict it is giving the lowest energy in the value pair.So the above code is working based on that.\n",
    "algorithm_globals.random_seed = 123\n",
    "seed = 10598\n",
    "optimizer = COBYLA()\n",
    "sampler = Sampler()\n",
    "qaoa = QAOA(sampler, optimizer, reps=2)\n",
    "\n",
    "\n",
    "# solving the Problem using QAOA\n",
    "\n",
    "qaoa_result =qaoa.compute_minimum_eigenvalue(qubitOp)\n",
    "\n",
    "print(\"\\nQAOA:\\n\", qaoa_result)\n",
    "\n",
    "print(\"tsp objective:\", qaoa_result.eigenvalue.real+ offset)\n",
    "print(\"energy:\", result.eigenvalue.real)\n",
    "print(\"time:\", result.optimizer_time)\n",
    "x = tsp.sample_most_likely(result.eigenstate)\n",
    "print(\"feasible:\", qubo.is_feasible(x))\n",
    "z = tsp.interpret(x)\n",
    "print(\"solution:\", z)\n",
    "print(\"solution objective:\", tsp.tsp_value(z, adj_matrix))\n",
    "\n",
    "draw_tsp_solution(tsp.graph, z, colors, pos)"
   ]
  },
  {
   "cell_type": "code",
   "execution_count": null,
   "id": "1dbda284-a22f-4f21-b154-b575b9df6d7f",
   "metadata": {},
   "outputs": [],
   "source": []
  },
  {
   "cell_type": "code",
   "execution_count": null,
   "id": "71c9801d-f712-40ac-b508-92790e8c849e",
   "metadata": {},
   "outputs": [],
   "source": []
  }
 ],
 "metadata": {
  "kernelspec": {
   "display_name": "Python 3 (ipykernel)",
   "language": "python",
   "name": "python3"
  },
  "language_info": {
   "codemirror_mode": {
    "name": "ipython",
    "version": 3
   },
   "file_extension": ".py",
   "mimetype": "text/x-python",
   "name": "python",
   "nbconvert_exporter": "python",
   "pygments_lexer": "ipython3",
   "version": "3.9.12"
  },
  "widgets": {
   "application/vnd.jupyter.widget-state+json": {
    "state": {
     "069fa12ca73948e5a2c27912cc1d6fca": {
      "model_module": "@jupyter-widgets/controls",
      "model_module_version": "2.0.0",
      "model_name": "HBoxModel",
      "state": {
       "children": [
        "IPY_MODEL_8c0853bf47494faf916fa63483da8bd8",
        "IPY_MODEL_0be3ada735ad49d6849f13b07df038d4",
        "IPY_MODEL_af79fe420f6249c28d2be75c08f1c212",
        "IPY_MODEL_50c65d68931c4cb68c1742ab4b135429",
        "IPY_MODEL_c3e939a333f94631aacd3bc0fc371276"
       ],
       "layout": "IPY_MODEL_e1f3af5e4ef847bda37a382f6cd64cfd"
      }
     },
     "0be3ada735ad49d6849f13b07df038d4": {
      "model_module": "@jupyter-widgets/controls",
      "model_module_version": "2.0.0",
      "model_name": "HTMLModel",
      "state": {
       "layout": "IPY_MODEL_67bd5c8a13be4b6f8c126025c4e43b8c",
       "style": "IPY_MODEL_3f094d6998f740e59c363debfff04c8f",
       "value": "<h5>Backend</h5>"
      }
     },
     "269921f32ca64aa9a20d894ff1a7162a": {
      "model_module": "@jupyter-widgets/controls",
      "model_module_version": "2.0.0",
      "model_name": "ButtonModel",
      "state": {
       "button_style": "primary",
       "description": "Clear",
       "layout": "IPY_MODEL_ecc41a204c16420b974330ee464a4263",
       "style": "IPY_MODEL_cba3bfdfbdfd4e3a842c3f85bd58e951",
       "tooltip": null
      }
     },
     "2a9c13987f894c29829167adf4053f9f": {
      "model_module": "@jupyter-widgets/controls",
      "model_module_version": "2.0.0",
      "model_name": "HTMLModel",
      "state": {
       "layout": "IPY_MODEL_384c10fc0aef4c4ea0b3da9b2f0cbc4d",
       "style": "IPY_MODEL_39e552e63a934a73815e4b88c1d61675",
       "value": "<p style='font-family: IBM Plex Sans, Arial, Helvetica, sans-serif; font-size: 20px; font-weight: medium;'>Circuit Properties</p>"
      }
     },
     "312527d9d01d477eb7a136544a93be47": {
      "model_module": "@jupyter-widgets/base",
      "model_module_version": "2.0.0",
      "model_name": "LayoutModel",
      "state": {
       "width": "95px"
      }
     },
     "3693b15c530846e6aa56347dc03e72b2": {
      "model_module": "@jupyter-widgets/base",
      "model_module_version": "2.0.0",
      "model_name": "LayoutModel",
      "state": {
       "grid_template_areas": "\n                                       \". . . . right \"\n                                        ",
       "grid_template_columns": "20% 20% 20% 20% 20%",
       "width": "100%"
      }
     },
     "384c10fc0aef4c4ea0b3da9b2f0cbc4d": {
      "model_module": "@jupyter-widgets/base",
      "model_module_version": "2.0.0",
      "model_name": "LayoutModel",
      "state": {
       "margin": "0px 0px 10px 0px"
      }
     },
     "39e552e63a934a73815e4b88c1d61675": {
      "model_module": "@jupyter-widgets/controls",
      "model_module_version": "2.0.0",
      "model_name": "HTMLStyleModel",
      "state": {
       "description_width": "",
       "font_size": null,
       "text_color": null
      }
     },
     "3f094d6998f740e59c363debfff04c8f": {
      "model_module": "@jupyter-widgets/controls",
      "model_module_version": "2.0.0",
      "model_name": "HTMLStyleModel",
      "state": {
       "description_width": "",
       "font_size": null,
       "text_color": null
      }
     },
     "50c65d68931c4cb68c1742ab4b135429": {
      "model_module": "@jupyter-widgets/controls",
      "model_module_version": "2.0.0",
      "model_name": "HTMLModel",
      "state": {
       "layout": "IPY_MODEL_685c3f8a0afa4e5e99ac57bbc2185db7",
       "style": "IPY_MODEL_cc682e9a8abe4cd5b418120f83482dab",
       "value": "<h5>Queue</h5>"
      }
     },
     "67bd5c8a13be4b6f8c126025c4e43b8c": {
      "model_module": "@jupyter-widgets/base",
      "model_module_version": "2.0.0",
      "model_name": "LayoutModel",
      "state": {
       "width": "145px"
      }
     },
     "685c3f8a0afa4e5e99ac57bbc2185db7": {
      "model_module": "@jupyter-widgets/base",
      "model_module_version": "2.0.0",
      "model_name": "LayoutModel",
      "state": {
       "width": "70px"
      }
     },
     "87f9e3f5bc23470ebd42042f5f1c756c": {
      "model_module": "@jupyter-widgets/controls",
      "model_module_version": "2.0.0",
      "model_name": "HTMLStyleModel",
      "state": {
       "description_width": "",
       "font_size": null,
       "text_color": null
      }
     },
     "8c0853bf47494faf916fa63483da8bd8": {
      "model_module": "@jupyter-widgets/controls",
      "model_module_version": "2.0.0",
      "model_name": "HTMLModel",
      "state": {
       "layout": "IPY_MODEL_e72b4526c5914732b7abbb8a10bd31fb",
       "style": "IPY_MODEL_87f9e3f5bc23470ebd42042f5f1c756c",
       "value": "<h5>Job ID</h5>"
      }
     },
     "af79fe420f6249c28d2be75c08f1c212": {
      "model_module": "@jupyter-widgets/controls",
      "model_module_version": "2.0.0",
      "model_name": "HTMLModel",
      "state": {
       "layout": "IPY_MODEL_312527d9d01d477eb7a136544a93be47",
       "style": "IPY_MODEL_e034933ca8c34a6aaba2b980e4e545a8",
       "value": "<h5>Status</h5>"
      }
     },
     "b765abbf226d4820907a10715163886f": {
      "model_module": "@jupyter-widgets/controls",
      "model_module_version": "2.0.0",
      "model_name": "HTMLStyleModel",
      "state": {
       "description_width": "",
       "font_size": null,
       "text_color": null
      }
     },
     "c2c55769253b4c28a35d37ce26a77ea7": {
      "model_module": "@jupyter-widgets/controls",
      "model_module_version": "2.0.0",
      "model_name": "GridBoxModel",
      "state": {
       "children": [
        "IPY_MODEL_269921f32ca64aa9a20d894ff1a7162a"
       ],
       "layout": "IPY_MODEL_3693b15c530846e6aa56347dc03e72b2"
      }
     },
     "c3e939a333f94631aacd3bc0fc371276": {
      "model_module": "@jupyter-widgets/controls",
      "model_module_version": "2.0.0",
      "model_name": "HTMLModel",
      "state": {
       "layout": "IPY_MODEL_d298ad198f33439b86e9395d4d44e055",
       "style": "IPY_MODEL_b765abbf226d4820907a10715163886f",
       "value": "<h5>Message</h5>"
      }
     },
     "cba3bfdfbdfd4e3a842c3f85bd58e951": {
      "model_module": "@jupyter-widgets/controls",
      "model_module_version": "2.0.0",
      "model_name": "ButtonStyleModel",
      "state": {
       "font_family": null,
       "font_size": null,
       "font_style": null,
       "font_variant": null,
       "font_weight": null,
       "text_color": null,
       "text_decoration": null
      }
     },
     "cc682e9a8abe4cd5b418120f83482dab": {
      "model_module": "@jupyter-widgets/controls",
      "model_module_version": "2.0.0",
      "model_name": "HTMLStyleModel",
      "state": {
       "description_width": "",
       "font_size": null,
       "text_color": null
      }
     },
     "d298ad198f33439b86e9395d4d44e055": {
      "model_module": "@jupyter-widgets/base",
      "model_module_version": "2.0.0",
      "model_name": "LayoutModel",
      "state": {}
     },
     "e034933ca8c34a6aaba2b980e4e545a8": {
      "model_module": "@jupyter-widgets/controls",
      "model_module_version": "2.0.0",
      "model_name": "HTMLStyleModel",
      "state": {
       "description_width": "",
       "font_size": null,
       "text_color": null
      }
     },
     "e1f3af5e4ef847bda37a382f6cd64cfd": {
      "model_module": "@jupyter-widgets/base",
      "model_module_version": "2.0.0",
      "model_name": "LayoutModel",
      "state": {
       "margin": "0px 0px 0px 37px",
       "width": "600px"
      }
     },
     "e72b4526c5914732b7abbb8a10bd31fb": {
      "model_module": "@jupyter-widgets/base",
      "model_module_version": "2.0.0",
      "model_name": "LayoutModel",
      "state": {
       "width": "190px"
      }
     },
     "ecc41a204c16420b974330ee464a4263": {
      "model_module": "@jupyter-widgets/base",
      "model_module_version": "2.0.0",
      "model_name": "LayoutModel",
      "state": {
       "grid_area": "right",
       "padding": "0px 0px 0px 0px",
       "width": "70px"
      }
     }
    },
    "version_major": 2,
    "version_minor": 0
   }
  }
 },
 "nbformat": 4,
 "nbformat_minor": 5
}
