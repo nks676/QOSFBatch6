{
 "cells": [
  {
   "cell_type": "code",
   "execution_count": 4,
   "id": "6edfcc2e-3319-4207-be89-7d9cfcf5e9f0",
   "metadata": {
    "tags": []
   },
   "outputs": [],
   "source": [
    "# Importing standard Qiskit libraries\n",
    "from qiskit import QuantumCircuit, transpile\n",
    "from qiskit.visualization import *\n",
    "\n",
    "from qiskit_aer import AerSimulator\n",
    "# Importing standard Qiskit libraries\n",
    "from qiskit import QuantumCircuit, transpile,execute, Aer\n",
    "from qiskit.visualization import *\n",
    "\n",
    "from qiskit_aer import AerSimulator\n",
    "import networkx as nx\n",
    "from qiskit.algorithms.optimizers import COBYLA\n",
    "\n",
    "from qiskit.utils import algorithm_globals\n"
   ]
  },
  {
   "cell_type": "code",
   "execution_count": 6,
   "id": "8edce5c8-4ca5-4fc7-bdba-d946a112154c",
   "metadata": {
    "tags": []
   },
   "outputs": [],
   "source": [
    "from qiskit import Aer\n",
    "import networkx as nx\n",
    "from qiskit.circuit.quantumcircuit import QuantumCircuit\n",
    "from qiskit.circuit import QuantumCircuit, ParameterVector\n",
    "import numpy as np\n",
    "#from qiskit.optimization.applications.ising import tsp\n",
    "from qiskit_optimization.applications import Tsp\n",
    "#from qiskit.aqua.algorithms import NumPyMinimumEigensolver, QAOA\n",
    "from qiskit.algorithms.minimum_eigensolvers import QAOA , NumPyMinimumEigensolver\n",
    "#from qiskit.aqua import aqua_globals, QuantumInstance\n",
    "from qiskit.utils import QuantumInstance\n",
    "from qiskit_optimization.algorithms import MinimumEigenOptimizer\n",
    "#from qiskit.optimization.problems import QuadraticProgram\n",
    "from qiskit_optimization import QuadraticProgram\n",
    "from qiskit_optimization.converters import QuadraticProgramToQubo\n",
    "from qiskit.primitives import Sampler\n",
    "from qiskit.circuit.library.n_local.qaoa_ansatz import QAOAAnsatz\n",
    "from qiskit.quantum_info.operators import Operator # Generating a TSP instance of n cities\n",
    "#\n",
    "#YOU CAN IGNORE THE BELOW FUNCTIONS SINCE THEY ARE MADE FOR ANALYSIS PURPOSE\n",
    "def interpret_tsp_all(counts, adj_matrix):\n",
    "    total_counts = 0\n",
    "\n",
    "    for meas, meas_count in counts.items():\n",
    "        binary_list = list(map(int, meas))  # Convert '010101' to [0, 1, 0, 1, 0, 1]\n",
    "        meas_arr = np.array(binary_list)\n",
    "        \n",
    "        try:\n",
    "            tsp_interpretation = tsp.interpret(meas_arr)\n",
    "            obj_for_meas = tsp.tsp_value(tsp_interpretation, adj_matrix)\n",
    "            print(f\"Measurement: {binary_list}, Count: {meas_count}, Objective Value: {obj_for_meas}\")\n",
    "            total_counts += meas_count\n",
    "        except:\n",
    "            pass\n",
    "\n",
    "    return total_counts\n",
    "\n",
    "from collections import Counter\n",
    "\n",
    "def interpret_tsp(counts, adj_matrix):\n",
    "    total_counts = 0\n",
    "    objective_values = []\n",
    "\n",
    "    for meas, meas_count in counts.items():\n",
    "        binary_list = list(map(int, meas))  # Convert '010101' to [0, 1, 0, 1, 0, 1]\n",
    "        meas_arr = np.array(binary_list)\n",
    "\n",
    "        try:\n",
    "            obj_for_meas = tsp.tsp_value(tsp.interpret(meas_arr), adj_matrix)\n",
    "            if isinstance(obj_for_meas, np.ndarray) and obj_for_meas.size == 1:\n",
    "                objective_values.append(obj_for_meas[0])\n",
    "                print(f\"Measurement: {binary_list}, Count: {meas_count}, Objective Value: {obj_for_meas[0]}\")\n",
    "            elif isinstance(obj_for_meas, np.ndarray) and obj_for_meas.size > 1:\n",
    "                continue\n",
    "            elif not obj_for_meas:\n",
    "                continue\n",
    "            else:\n",
    "                objective_values.append(obj_for_meas)\n",
    "                print(f\"Measurement: {binary_list}, Count: {meas_count}, Objective Value: {obj_for_meas}\")\n",
    "\n",
    "            total_counts += meas_count\n",
    "        except:\n",
    "            pass\n",
    "\n",
    "    objective_values_count = Counter(objective_values)\n",
    "\n",
    "    print(\"\\nObjective Value Summary:\")\n",
    "    for obj_val, count in objective_values_count.items():\n",
    "        print(f\"Objective Value: {obj_val}, Count: {count}\")\n",
    "\n",
    "    return total_counts\n",
    "def analyze_counts(counts):\n",
    "    highest_count = 0\n",
    "    highest_outcome = None\n",
    "\n",
    "    # Dictionary to store the count occurrences\n",
    "    count_occurrences = {}\n",
    "\n",
    "    for outcome, count in counts.items():\n",
    "        if count > highest_count:\n",
    "            highest_count = count\n",
    "            highest_outcome = outcome\n",
    "        \n",
    "        # Update count occurrences\n",
    "        if count in count_occurrences:\n",
    "            count_occurrences[count].append(outcome)\n",
    "        else:\n",
    "            count_occurrences[count] = [outcome]\n",
    "\n",
    "    print(\"Highest Count:\", highest_count)\n",
    "    print(\"Highest Outcome:\", highest_outcome)\n",
    "\n",
    "    # Find the lowest count and its corresponding outcome\n",
    "    lowest_count = float('inf')\n",
    "    lowest_outcome = None\n",
    "\n",
    "    for outcome, count in counts.items():\n",
    "        if count < lowest_count:\n",
    "            lowest_count = count\n",
    "            lowest_outcome = outcome\n",
    "\n",
    "    print(\"Lowest Count:\", lowest_count)\n",
    "    print(\"Lowest Outcome:\", lowest_outcome)\n",
    "\n",
    "    # Show count occurrences\n",
    "    print(\"Count Occurrences:\")\n",
    "    for count, outcomes in count_occurrences.items():\n",
    "        print(\"Count:\", count)\n",
    "        print(\"Occurrences:\", len(outcomes))\n",
    "        print(\"Outcomes:\", outcomes)\n",
    "        print()\n",
    "\n",
    "def correct_dict_all(counts, adj_matrix):\n",
    "    result_dict = {}\n",
    "\n",
    "    for meas, meas_count in counts.items():\n",
    "        binary_list = list(map(int, meas))  # Convert '010101' to [0, 1, 0, 1, 0, 1]\n",
    "        meas_arr = np.array(binary_list)\n",
    "        \n",
    "        try:\n",
    "            tsp_interpretation = tsp.interpret(meas_arr)\n",
    "            obj_for_meas = tsp.tsp_value(tsp_interpretation, adj_matrix)\n",
    "            result_dict[''.join(map(str, binary_list))] = meas_count\n",
    "            \n",
    "        except:\n",
    "            pass\n",
    "\n",
    "    return result_dict\n",
    "\n",
    "\n",
    "def correct_dict(counts, adj_matrix):\n",
    "    result_dict = {}\n",
    "\n",
    "    for meas, meas_count in counts.items():\n",
    "        binary_list = list(map(int, meas))  # Convert '010101' to [0, 1, 0, 1, 0, 1]\n",
    "        meas_arr = np.array(binary_list)\n",
    "\n",
    "        try:\n",
    "            obj_for_meas = tsp.tsp_value(tsp.interpret(meas_arr), adj_matrix)\n",
    "            if isinstance(obj_for_meas, np.ndarray) and obj_for_meas.size == 1:\n",
    "                objective_value = obj_for_meas[0]\n",
    "            elif isinstance(obj_for_meas, np.ndarray) and obj_for_meas.size > 1:\n",
    "                continue\n",
    "            elif not obj_for_meas:\n",
    "                continue\n",
    "            else:\n",
    "                objective_value = obj_for_meas\n",
    "\n",
    "            result_dict[''.join(map(str, binary_list))] = meas_count\n",
    "        except:\n",
    "            pass\n",
    "\n",
    "    return result_dict\n"
   ]
  },
  {
   "cell_type": "code",
   "execution_count": 7,
   "id": "9017fa91-b35b-4939-ab65-ebf088de1061",
   "metadata": {
    "tags": []
   },
   "outputs": [],
   "source": [
    "import itertools\n",
    "#THE BELOW FUNCTION CALCULATES TSP CLASSICALLY\n",
    "\n",
    "def tsp_brute_force(distances):\n",
    "    num_cities = len(distances)\n",
    "    all_cities = set(range(num_cities))\n",
    "    shortest_path = None\n",
    "    shortest_distance = float('inf')\n",
    "\n",
    "    for permutation in itertools.permutations(all_cities):\n",
    "        distance = 0\n",
    "        for i in range(num_cities - 1):\n",
    "            current_city = permutation[i]\n",
    "            next_city = permutation[i + 1]\n",
    "            distance += distances[current_city][next_city]\n",
    "\n",
    "        # Add the last leg of the path to complete the cycle\n",
    "        distance += distances[permutation[-1]][permutation[0]]\n",
    "\n",
    "        if distance < shortest_distance:\n",
    "            shortest_distance = distance\n",
    "            shortest_path = permutation\n",
    "\n",
    "    return  shortest_distance #,shortest_path"
   ]
  },
  {
   "cell_type": "code",
   "execution_count": 8,
   "id": "dfb68977-2b8a-4155-9510-ebbf3a57fa44",
   "metadata": {
    "tags": []
   },
   "outputs": [
    {
     "name": "stdout",
     "output_type": "stream",
     "text": [
      "distance\n",
      " [[ 0. 48. 91.]\n",
      " [48.  0. 63.]\n",
      " [91. 63.  0.]]\n",
      "Problem name: TSP\n",
      "\n",
      "Minimize\n",
      "  48*x_0_0*x_1_1 + 48*x_0_0*x_1_2 + 91*x_0_0*x_2_1 + 91*x_0_0*x_2_2\n",
      "  + 48*x_0_1*x_1_0 + 48*x_0_1*x_1_2 + 91*x_0_1*x_2_0 + 91*x_0_1*x_2_2\n",
      "  + 48*x_0_2*x_1_0 + 48*x_0_2*x_1_1 + 91*x_0_2*x_2_0 + 91*x_0_2*x_2_1\n",
      "  + 63*x_1_0*x_2_1 + 63*x_1_0*x_2_2 + 63*x_1_1*x_2_0 + 63*x_1_1*x_2_2\n",
      "  + 63*x_1_2*x_2_0 + 63*x_1_2*x_2_1\n",
      "\n",
      "Subject to\n",
      "  Linear constraints (6)\n",
      "    x_0_0 + x_0_1 + x_0_2 == 1  'c0'\n",
      "    x_1_0 + x_1_1 + x_1_2 == 1  'c1'\n",
      "    x_2_0 + x_2_1 + x_2_2 == 1  'c2'\n",
      "    x_0_0 + x_1_0 + x_2_0 == 1  'c3'\n",
      "    x_0_1 + x_1_1 + x_2_1 == 1  'c4'\n",
      "    x_0_2 + x_1_2 + x_2_2 == 1  'c5'\n",
      "\n",
      "  Binary variables (9)\n",
      "    x_0_0 x_0_1 x_0_2 x_1_0 x_1_1 x_1_2 x_2_0 x_2_1 x_2_2\n",
      "\n",
      "-1282.5 * IIIIIIIIZ\n",
      "- 1282.5 * IIIIIIIZI\n",
      "- 1282.5 * IIIIIIZII\n",
      "- 1268.5 * IIIIIZIII\n",
      "- 1268.5 * IIIIZIIII\n",
      "- 1268.5 * IIIZIIIII\n",
      "- 1290.0 * IIZIIIIII\n",
      "- 1290.0 * IZIIIIIII\n",
      "- 1290.0 * ZIIIIIIII\n",
      "+ 606.5 * IIIIIIIZZ\n",
      "+ 606.5 * IIIIIIZIZ\n",
      "+ 606.5 * IIIIIIZZI\n",
      "+ 606.5 * IIIIIZIIZ\n",
      "+ 12.0 * IIIIIZIZI\n",
      "+ 12.0 * IIIIIZZII\n",
      "+ 12.0 * IIIIZIIIZ\n",
      "+ 606.5 * IIIIZIIZI\n",
      "+ 12.0 * IIIIZIZII\n",
      "+ 606.5 * IIIIZZIII\n",
      "+ 12.0 * IIIZIIIIZ\n",
      "+ 12.0 * IIIZIIIZI\n",
      "+ 606.5 * IIIZIIZII\n",
      "+ 606.5 * IIIZIZIII\n",
      "+ 606.5 * IIIZZIIII\n",
      "+ 606.5 * IIZIIIIIZ\n",
      "+ 22.75 * IIZIIIIZI\n",
      "+ 22.75 * IIZIIIZII\n",
      "+ 606.5 * IIZIIZIII\n",
      "+ 15.75 * IIZIZIIII\n",
      "+ 15.75 * IIZZIIIII\n",
      "+ 22.75 * IZIIIIIIZ\n",
      "+ 606.5 * IZIIIIIZI\n",
      "+ 22.75 * IZIIIIZII\n",
      "+ 15.75 * IZIIIZIII\n",
      "+ 606.5 * IZIIZIIII\n",
      "+ 15.75 * IZIZIIIII\n",
      "+ 606.5 * IZZIIIIII\n",
      "+ 22.75 * ZIIIIIIIZ\n",
      "+ 22.75 * ZIIIIIIZI\n",
      "+ 606.5 * ZIIIIIZII\n",
      "+ 15.75 * ZIIIIZIII\n",
      "+ 15.75 * ZIIIZIIII\n",
      "+ 606.5 * ZIIZIIIII\n",
      "+ 606.5 * ZIZIIIIII\n",
      "+ 606.5 * ZZIIIIIII 7581.0\n"
     ]
    }
   ],
   "source": [
    "#THIS PART CREATES AN INSTANCE OF TSP THEN IT CONVERTS THAT INTO PAULI OPERATOR LIST(IN SHORT THIS WHERE ENCODING PART IS DONE)\n",
    "n = 3\n",
    "num_qubits = n ** 2\n",
    "tsp =Tsp.create_random_instance(n, seed=123)\n",
    "adj_matrix = nx.to_numpy_array(tsp.graph)\n",
    "print(\"distance\\n\", adj_matrix)\n",
    "\n",
    "# Create a random TSP Hamiltonian\n",
    "qp = tsp.to_quadratic_program()\n",
    "print(qp.prettyprint())\n",
    "\n",
    "qp2qubo = QuadraticProgramToQubo()\n",
    "qubo = qp2qubo.convert(qp)\n",
    "qubitOp, offset = qubo.to_ising()\n",
    "print(qubitOp, offset)"
   ]
  },
  {
   "cell_type": "code",
   "execution_count": 9,
   "id": "ef4651d4-8ed9-417a-9135-79d911d6a71b",
   "metadata": {
    "tags": []
   },
   "outputs": [
    {
     "data": {
      "text/plain": [
       "\"p =1\\nalpha = ParameterVector('α', length=(1))\\ncircuit.barrier()\\nfor i in range(num_qubits - 1):\\n    circuit.crz(alpha[0], i, i+1)\\n\\n        \\n\\n# Apply X gates to all qubits\\n\\ncircuit.x(range(num_qubits))\\ncircuit.bind_parameters({alpha[0] : 1}).draw()\""
      ]
     },
     "execution_count": 9,
     "metadata": {},
     "output_type": "execute_result"
    }
   ],
   "source": [
    "def getckt(qubitOp, theta, reps):\n",
    "    circuit = QAOAAnsatz( cost_operator=qubitOp, reps=reps)  #CREATES STANDARD QAOA CIRCUIT\n",
    "    circuit =circuit.decompose( reps=3) # DECOMPOSES FOR VISUALIZATION PURPOSES\n",
    "    bind_dict = {}                      # THESE LINES ASSIGNS THE PARAMETERS OF BETA AND GAMMA TO THE QAOA CIRCUIT\n",
    "    param =theta\n",
    "    for i, key in enumerate(circuit.parameters):\n",
    "        bind_dict[key] = param[i]\n",
    "\n",
    "        \n",
    "    circuit = circuit.bind_parameters(bind_dict)\n",
    "    \n",
    "    for i in range(num_qubits - 1):      # THE BELOW LINES CONSTRUCTS THE PROBLEM INDEPENDENT LAYER WITH RANDOM PARAMETERS \n",
    "    \n",
    "        random_param = np.random.uniform(low=-(0.01*np.pi), high=0.01*np.pi)\n",
    "        circuit.crz(random_param, i, i+1)\n",
    "        circuit.x(range(num_qubits))\n",
    "    \n",
    "    circuit.measure_all()\n",
    "    return circuit\n",
    "\n",
    "#NOTE THAT BETA AND GAMMA PARAMETERS ARE DEPENDENT ON P SO IF P = 1 THE THE PARAMS WOULD BE 2P ONE FOR BETA NAD ONE FOR GAMMA \n",
    "#BUT IN THE CASE OF PROBLEM INDEPENDENT LAYER IT DEPENDS ON THE NUMBER OF QUBIT HENCE IT IS CALLED A MULTIPARAMETER LAYER\n",
    "\n",
    "'''circuit.barrier()\n",
    "# Apply CRZ gates iteratively between adjacent qubits with random parameters\n",
    "for i in range(num_qubits - 1):\n",
    "    random_param = np.random.uniform(low=-(0.01*np.pi), high=0.01*np.pi)\n",
    "    circuit.crz(random_param, i, i+1)\n",
    "\n",
    "circuit.barrier()\n",
    "# Apply X gates to all qubits\n",
    "circuit.x(range(num_qubits))'''\n",
    "\n",
    "# IGNORE THE BELOW BIND PART \n",
    "\n",
    "'''p =1\n",
    "alpha = ParameterVector('α', length=(1))\n",
    "circuit.barrier()\n",
    "for i in range(num_qubits - 1):\n",
    "    circuit.crz(alpha[0], i, i+1)\n",
    "\n",
    "        \n",
    "\n",
    "# Apply X gates to all qubits\n",
    "\n",
    "circuit.x(range(num_qubits))\n",
    "circuit.bind_parameters({alpha[0] : 1}).draw()'''"
   ]
  },
  {
   "cell_type": "code",
   "execution_count": 10,
   "id": "b6598926-cfe0-4ac6-8e0d-c71312fae685",
   "metadata": {
    "tags": []
   },
   "outputs": [],
   "source": [
    "def invert_counts(counts):\n",
    "    return {k[::-1]:v for k, v in counts.items()} #MSB most significant bit"
   ]
  },
  {
   "cell_type": "code",
   "execution_count": 11,
   "id": "f6d9f1eb-5231-4dec-a5c1-4fb3e7e2f6fd",
   "metadata": {
    "tags": []
   },
   "outputs": [
    {
     "data": {
      "text/plain": [
       "'\\nquasi_dists = {}\\nfor key,count in counts.items():\\n    quasi_dists[key] = count/1024\\n#print(\"counts: \", counts)\\nprint(\"quasi_dists: \", quasi_dists)\\nplot_histogram(quasi_dists)'"
      ]
     },
     "execution_count": 11,
     "metadata": {},
     "output_type": "execute_result"
    }
   ],
   "source": [
    "#print(\"result: \", result)\n",
    "'''\n",
    "quasi_dists = {}\n",
    "for key,count in counts.items():\n",
    "    quasi_dists[key] = count/1024\n",
    "#print(\"counts: \", counts)\n",
    "print(\"quasi_dists: \", quasi_dists)\n",
    "plot_histogram(quasi_dists)'''"
   ]
  },
  {
   "cell_type": "code",
   "execution_count": 12,
   "id": "8ea6b5bd-4266-4737-bc83-a9606c1aaa93",
   "metadata": {
    "tags": []
   },
   "outputs": [
    {
     "data": {
      "text/plain": [
       "\"from qiskit.circuit import ParameterVector, QuantumCircuit\\n\\n# define your parameters\\np = ParameterVector('p', 1)  \\n\\ncircuit = QuantumCircuit(2)\\ncircuit.rx(p[0], 0)  # RX(p[0]) on qubit 0\\ncircuit.ry(p[0], 0)  # RY(p[1]) on qubit 1\\ncircuit.crz(p[0], 0, 1)  # CRZ(p[2]) controlled on qubit 0, acting on qubit 1\\n\\n# bind the values\\nbound_circuit = circuit.bind_parameters({p: [0]})\\nbound_circuit.draw()\""
      ]
     },
     "execution_count": 12,
     "metadata": {},
     "output_type": "execute_result"
    }
   ],
   "source": [
    "'''from qiskit.circuit import ParameterVector, QuantumCircuit\n",
    "\n",
    "# define your parameters\n",
    "p = ParameterVector('p', 1)  \n",
    "\n",
    "circuit = QuantumCircuit(2)\n",
    "circuit.rx(p[0], 0)  # RX(p[0]) on qubit 0\n",
    "circuit.ry(p[0], 0)  # RY(p[1]) on qubit 1\n",
    "circuit.crz(p[0], 0, 1)  # CRZ(p[2]) controlled on qubit 0, acting on qubit 1\n",
    "\n",
    "# bind the values\n",
    "bound_circuit = circuit.bind_parameters({p: [0]})\n",
    "bound_circuit.draw()'''\n"
   ]
  },
  {
   "cell_type": "code",
   "execution_count": 13,
   "id": "d5482d14-9875-48a0-936c-a98997cd2ff6",
   "metadata": {
    "tags": []
   },
   "outputs": [
    {
     "data": {
      "text/plain": [
       "'def compute_tsp_energy(counts, G):\\n    energy = 0\\n    total_counts = 0\\n    for meas, meas_count in counts.items():\\n        binary_list = [int(bit) for bit in meas]\\n        meas_arr = np.array(binary_list)\\n        obj_for_meas = tsp.tsp_value(tsp.interpret(meas_arr),adj_matrix)\\n        energy += obj_for_meas * meas_count\\n        total_counts += meas_count\\n    return energy / total_counts\\n\\ncompute_tsp_energy(invert_counts(result.get_counts()), adj_matrix)'"
      ]
     },
     "execution_count": 13,
     "metadata": {},
     "output_type": "execute_result"
    }
   ],
   "source": [
    "'''def compute_tsp_energy(counts, G):\n",
    "    energy = 0\n",
    "    total_counts = 0\n",
    "    for meas, meas_count in counts.items():\n",
    "        binary_list = [int(bit) for bit in meas]\n",
    "        meas_arr = np.array(binary_list)\n",
    "        obj_for_meas = tsp.tsp_value(tsp.interpret(meas_arr),adj_matrix)\n",
    "        energy += obj_for_meas * meas_count\n",
    "        total_counts += meas_count\n",
    "    return energy / total_counts\n",
    "\n",
    "compute_tsp_energy(invert_counts(result.get_counts()), adj_matrix)'''"
   ]
  },
  {
   "cell_type": "code",
   "execution_count": 14,
   "id": "3f063415-4eff-483f-ae75-781b2e6a874d",
   "metadata": {
    "tags": []
   },
   "outputs": [
    {
     "data": {
      "text/plain": [
       "'interpret_tsp_all(counts, adj_matrix)'"
      ]
     },
     "execution_count": 14,
     "metadata": {},
     "output_type": "execute_result"
    }
   ],
   "source": [
    "\n",
    "\n",
    "# Example usage\n",
    "\n",
    "  # Example adjacency matrix\n",
    "\n",
    "'''interpret_tsp_all(counts, adj_matrix)'''\n"
   ]
  },
  {
   "cell_type": "code",
   "execution_count": 15,
   "id": "7ff9b9a6-47c0-4c2a-90c2-b328c02af656",
   "metadata": {
    "tags": []
   },
   "outputs": [
    {
     "data": {
      "text/plain": [
       "'interpret_tsp(counts, adj_matrix)'"
      ]
     },
     "execution_count": 15,
     "metadata": {},
     "output_type": "execute_result"
    }
   ],
   "source": [
    "\n",
    "\n",
    "# Example usage\n",
    "\n",
    " # Example adjacency matrix\n",
    "\n",
    "'''interpret_tsp(counts, adj_matrix)'''\n"
   ]
  },
  {
   "cell_type": "code",
   "execution_count": 16,
   "id": "f3d8294c-3419-4e62-b316-aee3d4f6a8de",
   "metadata": {
    "tags": []
   },
   "outputs": [
    {
     "data": {
      "text/plain": [
       "'c0 = correct_dict(counts, adj_matrix)\\nprint(c0)\\nquasi_dists = {}\\nfor key,count in c0.items():\\n    quasi_dists[key] = count/1024\\n#print(\"counts: \", counts)\\nprint(\"quasi_dists: \", quasi_dists)\\nplot_histogram(quasi_dists)'"
      ]
     },
     "execution_count": 16,
     "metadata": {},
     "output_type": "execute_result"
    }
   ],
   "source": [
    "from collections import defaultdict\n",
    "\n",
    "\n",
    "\n",
    "'''c0 = correct_dict(counts, adj_matrix)\n",
    "print(c0)\n",
    "quasi_dists = {}\n",
    "for key,count in c0.items():\n",
    "    quasi_dists[key] = count/1024\n",
    "#print(\"counts: \", counts)\n",
    "print(\"quasi_dists: \", quasi_dists)\n",
    "plot_histogram(quasi_dists)'''"
   ]
  },
  {
   "cell_type": "code",
   "execution_count": 17,
   "id": "69437ca0-44f0-42a5-958c-412219d83284",
   "metadata": {
    "tags": []
   },
   "outputs": [],
   "source": [
    "def tsp_obj( result, adj_matrix: np.ndarray) -> float:\n",
    "    x = result\n",
    "    n = int(np.sqrt(len(x)))\n",
    "    total_cost = 0.0\n",
    "\n",
    "    for p__ in range(n):\n",
    "        for i in range(n):\n",
    "            if x[i * n + p__]:\n",
    "                total_cost += adj_matrix[i, p__]\n",
    "\n",
    "    return total_cost\n",
    "# result = 01010101 , adj_matrix = distance matrix"
   ]
  },
  {
   "cell_type": "code",
   "execution_count": 18,
   "id": "3bd689a3-652f-4ee6-8eda-1cb7fc3f98e4",
   "metadata": {
    "tags": []
   },
   "outputs": [
    {
     "data": {
      "text/plain": [
       "'c1 = correct_dict(counts, adj_matrix)\\nplot_histogram(c1 )'"
      ]
     },
     "execution_count": 18,
     "metadata": {},
     "output_type": "execute_result"
    }
   ],
   "source": [
    "'''c1 = correct_dict(counts, adj_matrix)\n",
    "plot_histogram(c1 )'''"
   ]
  },
  {
   "cell_type": "code",
   "execution_count": 19,
   "id": "592ec2d5-9273-48bf-b859-a5eb6eff505b",
   "metadata": {
    "tags": []
   },
   "outputs": [],
   "source": [
    "'''def compute_tsp_energy(counts, G):\n",
    "    energy = 0\n",
    "    total_counts = 0\n",
    "    counts =  correct_dict(counts, adj_matrix)\n",
    "    \n",
    "    for meas, meas_count in counts.items():\n",
    "        binary_list = [int(bit) for bit in meas]\n",
    "        meas_arr = np.array(binary_list)\n",
    "        obj_for_meas = tsp.tsp_value(tsp.interpret(meas_arr),adj_matrix)\n",
    "        energy += obj_for_meas * meas_count\n",
    "        total_counts += meas_count\n",
    "    return energy '''\n",
    "def compute_tsp_energy(counts, distances):\n",
    "    energy = 0\n",
    "    total_counts = 0\n",
    "    #counts =  correct_dict(counts, adj_matrix)\n",
    "    \n",
    "    for meas, meas_count in counts.items():\n",
    "        binary_list = [int(bit) for bit in meas]\n",
    "        meas_arr = np.array(binary_list)\n",
    "        obj_for_meas = tsp_obj(meas_arr,adj_matrix)\n",
    "        energy += obj_for_meas * meas_count\n",
    "        total_counts += meas_count\n",
    "    return (energy /total_counts)\n",
    "    \n",
    "\n",
    "#compute_tsp_energy(invert_counts(counts), adj_matrix)"
   ]
  },
  {
   "cell_type": "code",
   "execution_count": 20,
   "id": "910e329d-235e-4140-8047-08b99b830a63",
   "metadata": {
    "tags": []
   },
   "outputs": [],
   "source": [
    "def get_black_box_objective(adj_matrix,p):\n",
    "    backend = Aer.get_backend('qasm_simulator')\n",
    "    def f(theta):\n",
    "        # let's assume first half is betas, second half is gammas\n",
    "        circuit = getckt(qubitOp, theta , reps= 1)\n",
    "        counts = execute(circuit, backend, seed_simulator=10,shots = 5048).result().get_counts()\n",
    "        \n",
    "        # return the energy\n",
    "        return -compute_tsp_energy(invert_counts(counts), adj_matrix)\n",
    "    return f\n"
   ]
  },
  {
   "cell_type": "code",
   "execution_count": 25,
   "id": "e767e7c8-08c2-41fa-9382-e2018cab40eb",
   "metadata": {
    "tags": []
   },
   "outputs": [
    {
     "name": "stdout",
     "output_type": "stream",
     "text": [
      "Optimization terminated successfully.\n",
      "         Current function value: -226.151941\n",
      "         Iterations: 43\n",
      "         Function evaluations: 103\n"
     ]
    },
    {
     "data": {
      "text/plain": [
       " final_simplex: (array([[ 0.97661511, -1.01251465],\n",
       "       [ 0.97661188, -1.01251466],\n",
       "       [ 0.97661413, -1.01251466]]), array([-226.15194136, -226.15194136, -226.15194136]))\n",
       "           fun: -226.151941362916\n",
       "       message: 'Optimization terminated successfully.'\n",
       "          nfev: 103\n",
       "           nit: 43\n",
       "        status: 0\n",
       "       success: True\n",
       "             x: array([ 0.97661511, -1.01251465])"
      ]
     },
     "execution_count": 25,
     "metadata": {},
     "output_type": "execute_result"
    }
   ],
   "source": [
    "from scipy.optimize import minimize\n",
    "# p is the number of QAOA alternating operators\n",
    "p = 1\n",
    "obj = get_black_box_objective(adj_matrix, p=1)\n",
    "\n",
    "init_point = np.array([1,-1])\n",
    "# We are going to limit the number of iterations to 2500\n",
    "\n",
    "res_sample = minimize(obj, init_point, method='Nelder-Mead', options={'maxiter':2500, 'disp': True})\n",
    "res_sample\n",
    "\n",
    "methods = [‘Nelder-Mead’, ‘Powell’, ‘CG’, ‘BFGS’\n",
    "\n",
    "‘Newton-CG’\n",
    "\n",
    "‘L-BFGS-B’\n",
    "\n",
    "‘TNC’\n",
    "\n",
    "‘COBYLA’\n",
    "\n",
    "‘SLSQP’\n",
    "\n",
    "‘trust-constr’\n",
    "\n",
    "‘dogleg’\n",
    "\n",
    "‘trust-ncg’\n",
    "\n",
    "‘trust-exact’\n",
    "\n",
    "‘trust-krylov’]\n"
   ]
  },
  {
   "cell_type": "code",
   "execution_count": null,
   "id": "ba3d2cb6-4e3b-4664-a960-6aa494a4cb99",
   "metadata": {
    "tags": []
   },
   "outputs": [],
   "source": [
    "#import spsa\n",
    "#sps = spsa.minimize(obj, init_point)"
   ]
  },
  {
   "cell_type": "code",
   "execution_count": 202,
   "id": "0ded19c0-d8bf-4ee9-a1df-a290872bba6d",
   "metadata": {
    "tags": []
   },
   "outputs": [
    {
     "data": {
      "text/plain": [
       "{'100000111': 1,\n",
       " '111000110': 1,\n",
       " '001010111': 1,\n",
       " '010011011': 1,\n",
       " '101011101': 2,\n",
       " '010110111': 1,\n",
       " '101011001': 1,\n",
       " '101010001': 1,\n",
       " '111100011': 1,\n",
       " '000111011': 1,\n",
       " '010101011': 1,\n",
       " '100110010': 1,\n",
       " '011000100': 1,\n",
       " '110101110': 3,\n",
       " '110011100': 1,\n",
       " '101101100': 1,\n",
       " '100100110': 1,\n",
       " '111110010': 2,\n",
       " '101100111': 1,\n",
       " '111010011': 3,\n",
       " '010000110': 1,\n",
       " '011110110': 2,\n",
       " '011100110': 2,\n",
       " '100010101': 1,\n",
       " '100100100': 1,\n",
       " '000010111': 1,\n",
       " '110101101': 4,\n",
       " '001100110': 2,\n",
       " '110011110': 3,\n",
       " '101110001': 4,\n",
       " '011110111': 8,\n",
       " '011010111': 1,\n",
       " '111100111': 2,\n",
       " '111111100': 16,\n",
       " '011101110': 4,\n",
       " '111111011': 72,\n",
       " '110110111': 4,\n",
       " '111111010': 15,\n",
       " '111011011': 6,\n",
       " '011101101': 2,\n",
       " '000111000': 1,\n",
       " '011111011': 12,\n",
       " '101110111': 7,\n",
       " '010100101': 1,\n",
       " '011110011': 5,\n",
       " '111101100': 5,\n",
       " '011001011': 1,\n",
       " '101111101': 8,\n",
       " '110111100': 1,\n",
       " '010111110': 1,\n",
       " '111110101': 3,\n",
       " '011100111': 2,\n",
       " '111111000': 8,\n",
       " '011101111': 13,\n",
       " '010111111': 3,\n",
       " '001001011': 1,\n",
       " '011011101': 1,\n",
       " '011111111': 39,\n",
       " '101111111': 34,\n",
       " '100101101': 1,\n",
       " '101011111': 13,\n",
       " '110011011': 2,\n",
       " '010100011': 2,\n",
       " '101101101': 3,\n",
       " '111011111': 24,\n",
       " '001101111': 1,\n",
       " '110011111': 12,\n",
       " '101001111': 1,\n",
       " '001100111': 2,\n",
       " '101011011': 4,\n",
       " '111111001': 22,\n",
       " '100010111': 1,\n",
       " '111101011': 4,\n",
       " '100011110': 1,\n",
       " '110011010': 3,\n",
       " '110100111': 1,\n",
       " '100011111': 12,\n",
       " '101001011': 1,\n",
       " '001001001': 1,\n",
       " '110101111': 11,\n",
       " '100110111': 2,\n",
       " '111111111': 205,\n",
       " '011011111': 1,\n",
       " '101110110': 3,\n",
       " '111111101': 54,\n",
       " '001110111': 11,\n",
       " '110001111': 10,\n",
       " '011011011': 1,\n",
       " '010101110': 1,\n",
       " '101010111': 6,\n",
       " '000011101': 2,\n",
       " '110011001': 1,\n",
       " '000100111': 2,\n",
       " '100111111': 1,\n",
       " '111110000': 2,\n",
       " '101010110': 2,\n",
       " '111101101': 9,\n",
       " '111011100': 1,\n",
       " '110011101': 5,\n",
       " '111111110': 62,\n",
       " '111101111': 20,\n",
       " '001010011': 1,\n",
       " '011101011': 5,\n",
       " '010001101': 2,\n",
       " '001111110': 1,\n",
       " '111011000': 1,\n",
       " '100011101': 2,\n",
       " '111110111': 25,\n",
       " '000111111': 4,\n",
       " '101011100': 2,\n",
       " '001001111': 1,\n",
       " '110111101': 3,\n",
       " '000011011': 1,\n",
       " '000111100': 1,\n",
       " '100001111': 3,\n",
       " '010101111': 5,\n",
       " '101011110': 8,\n",
       " '100001010': 1,\n",
       " '010110110': 2,\n",
       " '100100111': 1,\n",
       " '000010101': 1,\n",
       " '000001111': 4,\n",
       " '111001111': 1,\n",
       " '101110101': 1,\n",
       " '101101110': 1,\n",
       " '111011001': 1,\n",
       " '010100111': 1,\n",
       " '101110011': 6,\n",
       " '111011110': 2,\n",
       " '101101111': 8,\n",
       " '111110110': 5,\n",
       " '011111001': 1,\n",
       " '011110100': 2,\n",
       " '110111110': 5,\n",
       " '010000111': 1,\n",
       " '011010000': 1,\n",
       " '111010000': 1,\n",
       " '101110100': 2,\n",
       " '010111101': 2,\n",
       " '100011011': 1,\n",
       " '001111111': 1,\n",
       " '111101110': 4,\n",
       " '011110010': 1,\n",
       " '101111011': 1,\n",
       " '011101100': 1,\n",
       " '001010101': 2,\n",
       " '010001010': 1,\n",
       " '001011111': 2,\n",
       " '110001101': 1,\n",
       " '111011101': 1,\n",
       " '110001110': 1,\n",
       " '101011010': 1,\n",
       " '010010111': 2,\n",
       " '010001001': 1,\n",
       " '110101011': 2,\n",
       " '001111000': 1,\n",
       " '101111110': 2,\n",
       " '111001100': 1,\n",
       " '011101001': 1,\n",
       " '001110101': 1,\n",
       " '101110010': 1,\n",
       " '111110100': 1,\n",
       " '110111111': 28,\n",
       " '111110011': 2,\n",
       " '111011010': 1,\n",
       " '011110000': 1}"
      ]
     },
     "execution_count": 202,
     "metadata": {},
     "output_type": "execute_result"
    }
   ],
   "source": [
    "optimal_theta = res_sample['x']\n",
    "backend = Aer.get_backend('qasm_simulator')\n",
    "qc = getckt(qubitOp, optimal_theta, reps= 1)\n",
    "counts = invert_counts(execute(qc, backend).result().get_counts())\n",
    "counts\n"
   ]
  },
  {
   "cell_type": "code",
   "execution_count": 203,
   "id": "bb175020-4778-4a0a-bd09-16dfee7416b4",
   "metadata": {
    "tags": []
   },
   "outputs": [
    {
     "name": "stdout",
     "output_type": "stream",
     "text": [
      "obtained_cost 329.1259765625\n",
      "correct_cost 202.0\n",
      "approximation_ratio 1.6293365176361385\n",
      "error % 62.93365176361386\n"
     ]
    }
   ],
   "source": [
    "obtained_cost =compute_tsp_energy(counts, adj_matrix)\n",
    "correct_cost = tsp_brute_force(adj_matrix)\n",
    "approximation_ratio = obtained_cost/correct_cost\n",
    "error = ((obtained_cost-correct_cost)/correct_cost)*100\n",
    "print('obtained_cost',obtained_cost)\n",
    "print('correct_cost',correct_cost)\n",
    "\n",
    "print('approximation_ratio',approximation_ratio)\n",
    "print('error %',abs(error))\n"
   ]
  },
  {
   "cell_type": "code",
   "execution_count": 204,
   "id": "80b1c5c4-c3f5-44a9-a073-ab70b3300b2f",
   "metadata": {
    "tags": []
   },
   "outputs": [
    {
     "name": "stdout",
     "output_type": "stream",
     "text": [
      "(154.0, 293.0, 245.0, 174.0, 250.0, 91.0, 222.0, 111.0, 230.0, 313.0, 202.0, 341.0, 139.0, 265.0, 404.0, 187.0, 278.0, 217.0, 356.0, 308.0, 159.0, 126.0, 182.0) (10, 44, 13, 8, 62, 3, 3, 4, 5, 165, 34, 133, 7, 41, 347, 4, 6, 27, 76, 25, 2, 3, 2)\n",
      "329.1259765625\n"
     ]
    },
    {
     "data": {
      "text/plain": [
       "<BarContainer object of 23 artists>"
      ]
     },
     "execution_count": 204,
     "metadata": {},
     "output_type": "execute_result"
    },
    {
     "data": {
      "image/png": "[encoded data removed]",
      "text/plain": [
       "<Figure size 640x480 with 1 Axes>"
      ]
     },
     "metadata": {},
     "output_type": "display_data"
    }
   ],
   "source": [
    "import matplotlib.pyplot as plt\n",
    "energies = defaultdict(int)\n",
    "for k, v in counts.items():\n",
    "    binary_list = [int(bit) for bit in k]\n",
    "    k = np.array(binary_list)\n",
    "    \n",
    "    \n",
    "    try:\n",
    "        energies[tsp_obj(k,adj_matrix)] += v#energies[tsp.tsp_value(tsp.interpret(k),adj_matrix)] += v\n",
    "        \n",
    "        \n",
    "        #print(tsp.tsp_value(tsp.interpret(k),adj_matrix))\n",
    "    except:\n",
    "        pass\n",
    "\n",
    "x,y = zip(*energies.items())\n",
    "\n",
    "\n",
    "\n",
    "print(x,y)\n",
    "print(compute_tsp_energy(counts, adj_matrix))\n",
    "plt.bar(x,y)"
   ]
  },
  {
   "cell_type": "code",
   "execution_count": 170,
   "id": "cc3bfae8-da01-4f25-a729-f0274dd69ef5",
   "metadata": {
    "tags": []
   },
   "outputs": [
    {
     "name": "stdout",
     "output_type": "stream",
     "text": [
      "150\n",
      "341.0\n"
     ]
    },
    {
     "data": {
      "image/png": "[encoded data removed]",
      "text/plain": [
       "<Figure size 700x500 with 1 Axes>"
      ]
     },
     "execution_count": 170,
     "metadata": {},
     "output_type": "execute_result"
    }
   ],
   "source": [
    "keys = x\n",
    "values = y\n",
    "\n",
    "tuple_list = list(zip(keys, values))\n",
    "dictionary = dict(tuple_list)\n",
    "my_dict = dictionary\n",
    "\n",
    "sorted_dict = dict(sorted(my_dict.items(), key=lambda x: x[0]))\n",
    "\n",
    "print(max(dictionary.values()))\n",
    "max_key = max(my_dict, key=my_dict.get)\n",
    "\n",
    "print(max_key)\n",
    "plot_histogram(dictionary)"
   ]
  },
  {
   "cell_type": "code",
   "execution_count": 56,
   "id": "c4e3ceda-40a8-4146-8b78-d79bf7f0a8fe",
   "metadata": {
    "tags": []
   },
   "outputs": [
    {
     "name": "stdout",
     "output_type": "stream",
     "text": [
      "(404.0, '111111111')\n",
      "Middle value: (404.0, '001000101')\n"
     ]
    }
   ],
   "source": [
    "from operator import itemgetter\n",
    "best_cut = max([(tsp_obj(x,adj_matrix),x) for x in counts.keys()])\n",
    "print(best_cut)\n",
    "from operator import itemgetter\n",
    "\n",
    "# Assuming counts is a dictionary where the keys represent paths and the values represent their respective counts\n",
    "# Assuming adj_matrix is the adjacency matrix for the TSP problem\n",
    "\n",
    "# Calculate the objective function values for each path in counts\n",
    "objective_values = [(tsp_obj(x, adj_matrix), x) for x in counts.keys()]\n",
    "\n",
    "# Sort the list of tuples based on the objective function values\n",
    "sorted_values = sorted(objective_values, key=itemgetter(0))\n",
    "\n",
    "# Get the middle element\n",
    "middle_val = sorted_values[len(sorted_values) // 2]\n",
    "\n",
    "print(\"Middle value:\", middle_val)\n"
   ]
  },
  {
   "cell_type": "code",
   "execution_count": null,
   "id": "6083c7c0-48b8-4385-9b91-8bacbbf8b05e",
   "metadata": {},
   "outputs": [],
   "source": []
  },
  {
   "cell_type": "code",
   "execution_count": 50,
   "id": "115f16ee-d3b6-4b3b-9649-2c0df2323255",
   "metadata": {
    "tags": []
   },
   "outputs": [
    {
     "name": "stdout",
     "output_type": "stream",
     "text": [
      "(202.0, 174.0, 139.0, 187.0, 96.0, 182.0, 154.0, 250.0, 341.0, 265.0, 230.0, 308.0, 293.0, 245.0, 313.0, 356.0, 159.0, 278.0, 111.0, 48.0, 404.0, 91.0, 217.0, 126.0, 222.0, 63.0, 0.0) (493, 78, 243, 71, 58, 39, 642, 143, 68, 229, 59, 70, 225, 124, 96, 68, 67, 31, 180, 363, 48, 364, 213, 50, 29, 356, 641)\n",
      "433\n"
     ]
    },
    {
     "data": {
      "image/png": "[encoded data removed]",
      "text/plain": [
       "<Figure size 640x480 with 1 Axes>"
      ]
     },
     "metadata": {},
     "output_type": "display_data"
    }
   ],
   "source": [
    "theta = [0.81, 2.201]\n",
    "backend = Aer.get_backend('qasm_simulator')\n",
    "qc = getckt(qubitOp, theta , reps= 1)\n",
    "counts = execute(qc,backend, seed_simulator=10,shots = 5048).result().get_counts()\n",
    "#print(interpret_tsp_all(count,adj_matrix))\n",
    "import matplotlib.pyplot as plt\n",
    "energies = defaultdict(int)\n",
    "for k, v in counts.items():\n",
    "    binary_list = [int(bit) for bit in k]\n",
    "    k = np.array(binary_list)\n",
    "    \n",
    "    \n",
    "    try:\n",
    "        energies[tsp_obj(k,adj_matrix)] += v#energies[tsp.tsp_value(tsp.interpret(k),adj_matrix)] += v\n",
    "        \n",
    "        \n",
    "        #print(tsp.tsp_value(tsp.interpret(k),adj_matrix))\n",
    "    except:\n",
    "        pass\n",
    "\n",
    "x,y = zip(*energies.items())\n",
    "plt.bar(x,y)\n",
    "print(x,y)\n",
    "print(len(counts))"
   ]
  },
  {
   "cell_type": "code",
   "execution_count": 57,
   "id": "4c795deb-f935-4ce1-bc6c-58bc59897cb7",
   "metadata": {},
   "outputs": [
    {
     "data": {
      "text/plain": [
       "203.32824881141045"
      ]
     },
     "execution_count": 57,
     "metadata": {},
     "output_type": "execute_result"
    }
   ],
   "source": [
    "\n",
    "compute_tsp_energy(counts, adj_matrix,offset = 0)\n"
   ]
  },
  {
   "cell_type": "code",
   "execution_count": 46,
   "id": "aa284856-9fa4-49ab-9df2-e82fffcef43d",
   "metadata": {},
   "outputs": [
    {
     "data": {
      "text/plain": [
       "214.45958795562538"
      ]
     },
     "execution_count": 46,
     "metadata": {},
     "output_type": "execute_result"
    }
   ],
   "source": [
    "import numpy as np\n",
    "\n",
    "def calculate_tsp_expected_energy(counts, distance_matrix):\n",
    "    total_energy = 0.0\n",
    "    total_counts = sum(counts.values())\n",
    "    \n",
    "    for path, count in counts.items():\n",
    "        energy = 0.0\n",
    "        binary_path = [int(bit) for bit in path]  # Convert binary path to a list of integers\n",
    "        for i in range(len(binary_path)):\n",
    "            j = (i +1) % len(binary_path)\n",
    "            energy += distance_matrix[binary_path[i]][binary_path[j]]\n",
    "        total_energy += energy * (count / total_counts)\n",
    "    \n",
    "    return total_energy\n",
    "calculate_tsp_expected_energy(counts,adj_matrix)"
   ]
  },
  {
   "cell_type": "code",
   "execution_count": 39,
   "id": "6b737e6e-73f5-4e8c-a20c-82f98f1a14be",
   "metadata": {
    "tags": []
   },
   "outputs": [
    {
     "name": "stdout",
     "output_type": "stream",
     "text": [
      "-7377.300316957211\n"
     ]
    }
   ],
   "source": [
    "print(res_sample['fun'])"
   ]
  },
  {
   "cell_type": "code",
   "execution_count": null,
   "id": "ba11b63e-80a7-4159-ac55-1cc26c84b017",
   "metadata": {},
   "outputs": [],
   "source": [
    "print(tsp.interpret(np.array([0,0,1,1,0,0,0,1,0])))"
   ]
  },
  {
   "cell_type": "code",
   "execution_count": null,
   "id": "a6034f25-6584-4f32-9da5-2cbb46f93c92",
   "metadata": {},
   "outputs": [],
   "source": []
  },
  {
   "cell_type": "code",
   "execution_count": null,
   "id": "b1ff98c2-803e-4092-ae0b-bb04a4ad496a",
   "metadata": {},
   "outputs": [],
   "source": []
  }
 ],
 "metadata": {
  "kernelspec": {
   "display_name": "Python 3 (ipykernel)",
   "language": "python",
   "name": "python3"
  },
  "language_info": {
   "codemirror_mode": {
    "name": "ipython",
    "version": 3
   },
   "file_extension": ".py",
   "mimetype": "text/x-python",
   "name": "python",
   "nbconvert_exporter": "python",
   "pygments_lexer": "ipython3",
   "version": "3.10.12"
  },
  "widgets": {
   "application/vnd.jupyter.widget-state+json": {
    "state": {
     "03cc4e26a9b64cfc800c1adb04f610cb": {
      "model_module": "@jupyter-widgets/controls",
      "model_module_version": "2.0.0",
      "model_name": "ButtonStyleModel",
      "state": {
       "font_family": null,
       "font_size": null,
       "font_style": null,
       "font_variant": null,
       "font_weight": null,
       "text_color": null,
       "text_decoration": null
      }
     },
     "0893fbe9540b4d91a3989d1de673d9fa": {
      "model_module": "@jupyter-widgets/controls",
      "model_module_version": "2.0.0",
      "model_name": "HTMLStyleModel",
      "state": {
       "description_width": "",
       "font_size": null,
       "text_color": null
      }
     },
     "0efbfa3e7f6448f29ee8a4fffdec8dd7": {
      "model_module": "@jupyter-widgets/controls",
      "model_module_version": "2.0.0",
      "model_name": "HTMLModel",
      "state": {
       "layout": "IPY_MODEL_76e68adcf9fb44fdabeb378c776bc0a7",
       "style": "IPY_MODEL_393e62df7f2441d387999fd69b7d94c4",
       "value": "<h5>Message</h5>"
      }
     },
     "1002027e052e4b57a28966834f3bc347": {
      "model_module": "@jupyter-widgets/controls",
      "model_module_version": "2.0.0",
      "model_name": "GridBoxModel",
      "state": {
       "children": [
        "IPY_MODEL_d545ee5e484b4ce19b4ab01e0a55a98d"
       ],
       "layout": "IPY_MODEL_e0020d3ccb6443dc8edc121ce06394d1"
      }
     },
     "213cc0c97f8d462fb57cff080000ae6c": {
      "model_module": "@jupyter-widgets/base",
      "model_module_version": "2.0.0",
      "model_name": "LayoutModel",
      "state": {
       "width": "145px"
      }
     },
     "24789b0eb18b49a7b12d34ae9a67c1dd": {
      "model_module": "@jupyter-widgets/controls",
      "model_module_version": "2.0.0",
      "model_name": "HBoxModel",
      "state": {
       "children": [
        "IPY_MODEL_767689b7dbed4fceb229eac90e77a9f0",
        "IPY_MODEL_28dec60feec54ac58093e48f190f9582",
        "IPY_MODEL_d0a0cf73a97142ca9ab65067564f303b",
        "IPY_MODEL_b30c838e6ccd49119d2c037d67971495",
        "IPY_MODEL_0efbfa3e7f6448f29ee8a4fffdec8dd7"
       ],
       "layout": "IPY_MODEL_7833f8d086394216897716fcfec4944a"
      }
     },
     "28dec60feec54ac58093e48f190f9582": {
      "model_module": "@jupyter-widgets/controls",
      "model_module_version": "2.0.0",
      "model_name": "HTMLModel",
      "state": {
       "layout": "IPY_MODEL_213cc0c97f8d462fb57cff080000ae6c",
       "style": "IPY_MODEL_67ef178f733d4add95020ec6856bb269",
       "value": "<h5>Backend</h5>"
      }
     },
     "2d21263963214da9b6f857ed98bad845": {
      "model_module": "@jupyter-widgets/base",
      "model_module_version": "2.0.0",
      "model_name": "LayoutModel",
      "state": {
       "margin": "0px 0px 10px 0px"
      }
     },
     "393e62df7f2441d387999fd69b7d94c4": {
      "model_module": "@jupyter-widgets/controls",
      "model_module_version": "2.0.0",
      "model_name": "HTMLStyleModel",
      "state": {
       "description_width": "",
       "font_size": null,
       "text_color": null
      }
     },
     "3f27073eacd44ceab021770087454f16": {
      "model_module": "@jupyter-widgets/base",
      "model_module_version": "2.0.0",
      "model_name": "LayoutModel",
      "state": {
       "grid_area": "right",
       "padding": "0px 0px 0px 0px",
       "width": "70px"
      }
     },
     "44ab0e03e8704ae0a31a2586cc40d829": {
      "model_module": "@jupyter-widgets/base",
      "model_module_version": "2.0.0",
      "model_name": "LayoutModel",
      "state": {
       "width": "190px"
      }
     },
     "472b0d1776d64e5ca6b6ef53a1a0f7b0": {
      "model_module": "@jupyter-widgets/controls",
      "model_module_version": "2.0.0",
      "model_name": "HTMLModel",
      "state": {
       "layout": "IPY_MODEL_2d21263963214da9b6f857ed98bad845",
       "style": "IPY_MODEL_bf4d7a305a3949b0b5a16c0e74b00963",
       "value": "<p style='font-family: IBM Plex Sans, Arial, Helvetica, sans-serif; font-size: 20px; font-weight: medium;'>Circuit Properties</p>"
      }
     },
     "4c3c859c89bc45079fd1b3b2ad197733": {
      "model_module": "@jupyter-widgets/controls",
      "model_module_version": "2.0.0",
      "model_name": "HTMLStyleModel",
      "state": {
       "description_width": "",
       "font_size": null,
       "text_color": null
      }
     },
     "67ef178f733d4add95020ec6856bb269": {
      "model_module": "@jupyter-widgets/controls",
      "model_module_version": "2.0.0",
      "model_name": "HTMLStyleModel",
      "state": {
       "description_width": "",
       "font_size": null,
       "text_color": null
      }
     },
     "767689b7dbed4fceb229eac90e77a9f0": {
      "model_module": "@jupyter-widgets/controls",
      "model_module_version": "2.0.0",
      "model_name": "HTMLModel",
      "state": {
       "layout": "IPY_MODEL_44ab0e03e8704ae0a31a2586cc40d829",
       "style": "IPY_MODEL_0893fbe9540b4d91a3989d1de673d9fa",
       "value": "<h5>Job ID</h5>"
      }
     },
     "76e68adcf9fb44fdabeb378c776bc0a7": {
      "model_module": "@jupyter-widgets/base",
      "model_module_version": "2.0.0",
      "model_name": "LayoutModel",
      "state": {}
     },
     "7833f8d086394216897716fcfec4944a": {
      "model_module": "@jupyter-widgets/base",
      "model_module_version": "2.0.0",
      "model_name": "LayoutModel",
      "state": {
       "margin": "0px 0px 0px 37px",
       "width": "600px"
      }
     },
     "7d3f6b25d5574ea3ae406e98aa22ea8d": {
      "model_module": "@jupyter-widgets/controls",
      "model_module_version": "2.0.0",
      "model_name": "HTMLStyleModel",
      "state": {
       "description_width": "",
       "font_size": null,
       "text_color": null
      }
     },
     "b30c838e6ccd49119d2c037d67971495": {
      "model_module": "@jupyter-widgets/controls",
      "model_module_version": "2.0.0",
      "model_name": "HTMLModel",
      "state": {
       "layout": "IPY_MODEL_cddd7196a56d4129acbd04f347f7e402",
       "style": "IPY_MODEL_4c3c859c89bc45079fd1b3b2ad197733",
       "value": "<h5>Queue</h5>"
      }
     },
     "bf4d7a305a3949b0b5a16c0e74b00963": {
      "model_module": "@jupyter-widgets/controls",
      "model_module_version": "2.0.0",
      "model_name": "HTMLStyleModel",
      "state": {
       "description_width": "",
       "font_size": null,
       "text_color": null
      }
     },
     "cddd7196a56d4129acbd04f347f7e402": {
      "model_module": "@jupyter-widgets/base",
      "model_module_version": "2.0.0",
      "model_name": "LayoutModel",
      "state": {
       "width": "70px"
      }
     },
     "d0a0cf73a97142ca9ab65067564f303b": {
      "model_module": "@jupyter-widgets/controls",
      "model_module_version": "2.0.0",
      "model_name": "HTMLModel",
      "state": {
       "layout": "IPY_MODEL_f0cf1922e50145429161fcc35bc4519a",
       "style": "IPY_MODEL_7d3f6b25d5574ea3ae406e98aa22ea8d",
       "value": "<h5>Status</h5>"
      }
     },
     "d545ee5e484b4ce19b4ab01e0a55a98d": {
      "model_module": "@jupyter-widgets/controls",
      "model_module_version": "2.0.0",
      "model_name": "ButtonModel",
      "state": {
       "button_style": "primary",
       "description": "Clear",
       "layout": "IPY_MODEL_3f27073eacd44ceab021770087454f16",
       "style": "IPY_MODEL_03cc4e26a9b64cfc800c1adb04f610cb",
       "tooltip": null
      }
     },
     "e0020d3ccb6443dc8edc121ce06394d1": {
      "model_module": "@jupyter-widgets/base",
      "model_module_version": "2.0.0",
      "model_name": "LayoutModel",
      "state": {
       "grid_template_areas": "\n                                       \". . . . right \"\n                                        ",
       "grid_template_columns": "20% 20% 20% 20% 20%",
       "width": "100%"
      }
     },
     "f0cf1922e50145429161fcc35bc4519a": {
      "model_module": "@jupyter-widgets/base",
      "model_module_version": "2.0.0",
      "model_name": "LayoutModel",
      "state": {
       "width": "95px"
      }
     }
    },
    "version_major": 2,
    "version_minor": 0
   }
  }
 },
 "nbformat": 4,
 "nbformat_minor": 5
}
