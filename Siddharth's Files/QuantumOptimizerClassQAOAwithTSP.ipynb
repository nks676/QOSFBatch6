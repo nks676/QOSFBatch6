{
  "nbformat": 4,
  "nbformat_minor": 0,
  "metadata": {
    "colab": {
      "provenance": []
    },
    "kernelspec": {
      "name": "python3",
      "display_name": "Python 3"
    },
    "language_info": {
      "name": "python"
    }
  },
  "cells": [
    {
      "cell_type": "code",
      "execution_count": null,
      "metadata": {
        "id": "mS9RRL0hM42I"
      },
      "outputs": [],
      "source": [
        "# For the quantum optimizer\n",
        "from qiskit_optimization.algorithms import MinimumEigenOptimizer # Related to the second item installed\n",
        "from qiskit_optimization import QuadraticProgram"
      ]
    },
    {
      "cell_type": "code",
      "source": [
        "# This is the quantum optimizer class being used for QAOA\n",
        "class QuantumOptimizer:\n",
        "    def __init__(self, instance, n, v):\n",
        "      self.instance = instance\n",
        "      self.n = n\n",
        "      self.v = v\n",
        "\n",
        "    def binary_representation(self,x_sol=0): # This function is identical to the one used by the internship and I have been given permission to use this code.\n",
        "      instance = self.instance\n",
        "      n = self.n\n",
        "      v = self.v\n",
        "      A = np.max(instance) * 100  # This is a parameter for the cost function\n",
        "      # Determine the weights w\n",
        "      instance_vec = instance.reshape(n ** 2)\n",
        "      w_list = [instance_vec[x] for x in range(n ** 2) if instance_vec[x] > 0]\n",
        "      w = np.zeros(n * (n - 1))\n",
        "      for ii in range(len(w_list)):\n",
        "        w[ii] = w_list[ii]\n",
        "      # Some other needed variables\n",
        "      Id_n = np.eye(n)\n",
        "      Im_n_1 = np.ones([n - 1, n - 1])\n",
        "      Iv_n_1 = np.ones(n)\n",
        "      Iv_n_1[0] = 0\n",
        "      Iv_n = np.ones(n-1)\n",
        "      neg_Iv_n_1 = np.ones(n) - Iv_n_1\n",
        "      v = np.zeros([n, n*(n-1)])\n",
        "      for ii in range(n):\n",
        "        count = ii-1\n",
        "        for jj in range(n*(n-1)):\n",
        "          if jj//(n-1) == ii:\n",
        "            count = ii\n",
        "          if jj//(n-1) != ii and jj%(n-1) == count:\n",
        "            v[ii][jj] = 1.\n",
        "        vn = np.sum(v[1:], axis=0)\n",
        "\n",
        "        # Q defines the interactions between variables\n",
        "        Q = A*(np.kron(Id_n, Im_n_1) + np.dot(v.T, v))\n",
        "\n",
        "        # g defines the contribution from the individual variables\n",
        "        g = w - 2 * A * (np.kron(Iv_n_1,Iv_n) + vn.T) - \\\n",
        "                2 * A * K * (np.kron(neg_Iv_n_1, Iv_n) + v[0].T)\n",
        "\n",
        "        # c is the constant offset\n",
        "        c = 2 * A * (n-1) + 2 * A * (K ** 2)\n",
        "\n",
        "        try:\n",
        "          max(x_sol)\n",
        "          # Evaluates the cost distance from a binary representation of a path\n",
        "          fun = lambda x: np.dot(np.around(x), np.dot(Q, np.around(x))) + np.dot(g, np.around(x)) + c\n",
        "          cost = fun(x_sol)\n",
        "        except:\n",
        "          cost = 0\n",
        "\n",
        "        return Q, g, c, cost # Final Note: The above function was used from the internship-based code\n",
        "\n",
        "  # This sets up all the variables from the previous function for the final quantum algorithm being run.\n",
        "    def construct_problem(self, Q, g, c) -> QuadraticProgram:\n",
        "      qp = QuadraticProgram()\n",
        "      for i in range(n * (n - 1)):\n",
        "        qp.binary_var(str(i))\n",
        "        qp.objective.quadratic = Q\n",
        "        qp.objective.linear = g\n",
        "        qp.objective.constant = c\n",
        "      return qp\n",
        "\n",
        "    def solve_problem(self, qp): # This function solves the function and allows one the get the optimal solution.\n",
        "      algorithm_globals.random_seed = 10000 # Random number\n",
        "      # This \"quantum instance\" code is used to run any qiskit-aqua based algorithm.\n",
        "      quantum_instance = QuantumInstance(Aer.get_backend('qasm_simulator'),\n",
        "                                       seed_simulator=algorithm_globals.random_seed,\n",
        "                                       seed_transpiler=algorithm_globals.random_seed)\n",
        "      qaoa = QAOA(optimizer = ADAM(), quantum_instance = quantum_instance, initial_point = [0,0])\n",
        "      # ADAM() is a gradient-based optimizer\n",
        "      # Random initial point\n",
        "      optimizer = MinimumEigenOptimizer(min_eigen_solver=qaoa) # This converts the problem into a quantum unconstrained binary optimization (QUBO) problem.\n",
        "      # Used to approxiate the ground state/lowest eneergy of the resulting hamiltonian\n",
        "      result = optimizer.solve(qp)\n",
        "      # used for computing cost of the obtained result (these two lines of code are from the internship code)\n",
        "      _,_,_,level = self.binary_representation(x_sol=result.x) \n",
        "      return result.x, level"
      ],
      "metadata": {
        "id": "YR40jMbqNEo7"
      },
      "execution_count": null,
      "outputs": []
    }
  ]
}