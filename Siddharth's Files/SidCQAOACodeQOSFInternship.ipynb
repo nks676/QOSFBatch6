{
  "nbformat": 4,
  "nbformat_minor": 0,
  "metadata": {
    "colab": {
      "provenance": []
    },
    "kernelspec": {
      "name": "python3",
      "display_name": "Python 3"
    },
    "language_info": {
      "name": "python"
    }
  },
  "cells": [
    {
      "cell_type": "markdown",
      "source": [
        "This is an instance of QAOA for solving the traveling salesman problem (TSP).\n"
      ],
      "metadata": {
        "id": "p-LoL-cvyf8j"
      }
    },
    {
      "cell_type": "code",
      "source": [
        "!pip install qiskit ipywidgets # Installing qiskit for Google Colab\n",
        "!pip install qiskit-optimization # Needed for an optimzer used (see comment for a specific import)\n",
        "!pip install cplex # Needed for the CPLEX - it can solve specific types of optimization problems that can be represented as linear or quadratic functions\n",
        "\n",
        "# This code is related to (not the same) the code made in a separate program, which was an internship I was a part of.\n",
        "# Importing the mandatory, non-qiskit packages\n",
        "\n",
        "import numpy as np\n",
        "import math\n",
        "import matplotlib.pyplot as plt\n",
        "import operator\n",
        "\n",
        "import sys\n",
        "# Just to make sure there are no issues with the python version for the usage of sys.\n",
        "if sys.version_info < (3, 6):\n",
        "    raise Exception('Please use Python version 3.6 or greater.')\n",
        "\n",
        "# this is just to make sure there are no issues no matter which platform is being used.\n",
        "try:\n",
        "    import cplex\n",
        "    from cplex.exceptions import CplexError\n",
        "except:\n",
        "    print(\"Warning: Cplex not found.\")\n",
        "\n",
        "# Importing packages related to qiskit\n",
        "from qiskit import Aer, transpile\n",
        "from qiskit.quantum_info import Pauli\n",
        "from qiskit.utils import *\n",
        "from qiskit.algorithms import NumPyMinimumEigensolver, VQE, QAOA\n",
        "from qiskit.circuit.library import TwoLocal\n",
        "from qiskit.algorithms.optimizers import *\n",
        "\n",
        "# For the quantum optimizer\n",
        "from qiskit_optimization.algorithms import MinimumEigenOptimizer # Related to the second item installed\n",
        "from qiskit_optimization import QuadraticProgram\n"
      ],
      "metadata": {
        "id": "A_SS_ragyjjo",
        "colab": {
          "base_uri": "https://localhost:8080/"
        },
        "outputId": "1bfcd663-04b3-49b0-99cd-dd4968b0cef6"
      },
      "execution_count": null,
      "outputs": [
        {
          "output_type": "stream",
          "name": "stdout",
          "text": [
            "Looking in indexes: https://pypi.org/simple, https://us-python.pkg.dev/colab-wheels/public/simple/\n",
            "Requirement already satisfied: qiskit in /usr/local/lib/python3.8/dist-packages (0.39.4)\n",
            "Requirement already satisfied: ipywidgets in /usr/local/lib/python3.8/dist-packages (7.7.1)\n",
            "Requirement already satisfied: qiskit-aer==0.11.2 in /usr/local/lib/python3.8/dist-packages (from qiskit) (0.11.2)\n",
            "Requirement already satisfied: qiskit-terra==0.22.3 in /usr/local/lib/python3.8/dist-packages (from qiskit) (0.22.3)\n",
            "Requirement already satisfied: qiskit-ibmq-provider==0.19.2 in /usr/local/lib/python3.8/dist-packages (from qiskit) (0.19.2)\n",
            "Requirement already satisfied: scipy>=1.0 in /usr/local/lib/python3.8/dist-packages (from qiskit-aer==0.11.2->qiskit) (1.7.3)\n",
            "Requirement already satisfied: numpy>=1.16.3 in /usr/local/lib/python3.8/dist-packages (from qiskit-aer==0.11.2->qiskit) (1.21.6)\n",
            "Requirement already satisfied: requests-ntlm>=1.1.0 in /usr/local/lib/python3.8/dist-packages (from qiskit-ibmq-provider==0.19.2->qiskit) (1.1.0)\n",
            "Requirement already satisfied: requests>=2.19 in /usr/local/lib/python3.8/dist-packages (from qiskit-ibmq-provider==0.19.2->qiskit) (2.23.0)\n",
            "Requirement already satisfied: python-dateutil>=2.8.0 in /usr/local/lib/python3.8/dist-packages (from qiskit-ibmq-provider==0.19.2->qiskit) (2.8.2)\n",
            "Requirement already satisfied: urllib3>=1.21.1 in /usr/local/lib/python3.8/dist-packages (from qiskit-ibmq-provider==0.19.2->qiskit) (1.24.3)\n",
            "Requirement already satisfied: websocket-client>=1.0.1 in /usr/local/lib/python3.8/dist-packages (from qiskit-ibmq-provider==0.19.2->qiskit) (1.4.2)\n",
            "Requirement already satisfied: websockets>=10.0 in /usr/local/lib/python3.8/dist-packages (from qiskit-ibmq-provider==0.19.2->qiskit) (10.4)\n",
            "Requirement already satisfied: stevedore>=3.0.0 in /usr/local/lib/python3.8/dist-packages (from qiskit-terra==0.22.3->qiskit) (4.1.1)\n",
            "Requirement already satisfied: symengine>=0.9 in /usr/local/lib/python3.8/dist-packages (from qiskit-terra==0.22.3->qiskit) (0.9.2)\n",
            "Requirement already satisfied: tweedledum<2.0,>=1.1 in /usr/local/lib/python3.8/dist-packages (from qiskit-terra==0.22.3->qiskit) (1.1.1)\n",
            "Requirement already satisfied: sympy>=1.3 in /usr/local/lib/python3.8/dist-packages (from qiskit-terra==0.22.3->qiskit) (1.7.1)\n",
            "Requirement already satisfied: dill>=0.3 in /usr/local/lib/python3.8/dist-packages (from qiskit-terra==0.22.3->qiskit) (0.3.6)\n",
            "Requirement already satisfied: ply>=3.10 in /usr/local/lib/python3.8/dist-packages (from qiskit-terra==0.22.3->qiskit) (3.11)\n",
            "Requirement already satisfied: retworkx>=0.11.0 in /usr/local/lib/python3.8/dist-packages (from qiskit-terra==0.22.3->qiskit) (0.12.1)\n",
            "Requirement already satisfied: psutil>=5 in /usr/local/lib/python3.8/dist-packages (from qiskit-terra==0.22.3->qiskit) (5.4.8)\n",
            "Requirement already satisfied: six>=1.5 in /usr/local/lib/python3.8/dist-packages (from python-dateutil>=2.8.0->qiskit-ibmq-provider==0.19.2->qiskit) (1.15.0)\n",
            "Requirement already satisfied: chardet<4,>=3.0.2 in /usr/local/lib/python3.8/dist-packages (from requests>=2.19->qiskit-ibmq-provider==0.19.2->qiskit) (3.0.4)\n",
            "Requirement already satisfied: certifi>=2017.4.17 in /usr/local/lib/python3.8/dist-packages (from requests>=2.19->qiskit-ibmq-provider==0.19.2->qiskit) (2022.9.24)\n",
            "Requirement already satisfied: idna<3,>=2.5 in /usr/local/lib/python3.8/dist-packages (from requests>=2.19->qiskit-ibmq-provider==0.19.2->qiskit) (2.10)\n",
            "Requirement already satisfied: ntlm-auth>=1.0.2 in /usr/local/lib/python3.8/dist-packages (from requests-ntlm>=1.1.0->qiskit-ibmq-provider==0.19.2->qiskit) (1.5.0)\n",
            "Requirement already satisfied: cryptography>=1.3 in /usr/local/lib/python3.8/dist-packages (from requests-ntlm>=1.1.0->qiskit-ibmq-provider==0.19.2->qiskit) (38.0.4)\n",
            "Requirement already satisfied: cffi>=1.12 in /usr/local/lib/python3.8/dist-packages (from cryptography>=1.3->requests-ntlm>=1.1.0->qiskit-ibmq-provider==0.19.2->qiskit) (1.15.1)\n",
            "Requirement already satisfied: pycparser in /usr/local/lib/python3.8/dist-packages (from cffi>=1.12->cryptography>=1.3->requests-ntlm>=1.1.0->qiskit-ibmq-provider==0.19.2->qiskit) (2.21)\n",
            "Requirement already satisfied: rustworkx==0.12.1 in /usr/local/lib/python3.8/dist-packages (from retworkx>=0.11.0->qiskit-terra==0.22.3->qiskit) (0.12.1)\n",
            "Requirement already satisfied: pbr!=2.1.0,>=2.0.0 in /usr/local/lib/python3.8/dist-packages (from stevedore>=3.0.0->qiskit-terra==0.22.3->qiskit) (5.11.0)\n",
            "Requirement already satisfied: mpmath>=0.19 in /usr/local/lib/python3.8/dist-packages (from sympy>=1.3->qiskit-terra==0.22.3->qiskit) (1.2.1)\n",
            "Requirement already satisfied: ipython>=4.0.0 in /usr/local/lib/python3.8/dist-packages (from ipywidgets) (7.9.0)\n",
            "Requirement already satisfied: jupyterlab-widgets>=1.0.0 in /usr/local/lib/python3.8/dist-packages (from ipywidgets) (3.0.3)\n",
            "Requirement already satisfied: ipython-genutils~=0.2.0 in /usr/local/lib/python3.8/dist-packages (from ipywidgets) (0.2.0)\n",
            "Requirement already satisfied: traitlets>=4.3.1 in /usr/local/lib/python3.8/dist-packages (from ipywidgets) (5.6.0)\n",
            "Requirement already satisfied: widgetsnbextension~=3.6.0 in /usr/local/lib/python3.8/dist-packages (from ipywidgets) (3.6.1)\n",
            "Requirement already satisfied: ipykernel>=4.5.1 in /usr/local/lib/python3.8/dist-packages (from ipywidgets) (5.3.4)\n",
            "Requirement already satisfied: jupyter-client in /usr/local/lib/python3.8/dist-packages (from ipykernel>=4.5.1->ipywidgets) (6.1.12)\n",
            "Requirement already satisfied: tornado>=4.2 in /usr/local/lib/python3.8/dist-packages (from ipykernel>=4.5.1->ipywidgets) (6.0.4)\n",
            "Requirement already satisfied: jedi>=0.10 in /usr/local/lib/python3.8/dist-packages (from ipython>=4.0.0->ipywidgets) (0.18.2)\n",
            "Requirement already satisfied: setuptools>=18.5 in /usr/local/lib/python3.8/dist-packages (from ipython>=4.0.0->ipywidgets) (57.4.0)\n",
            "Requirement already satisfied: decorator in /usr/local/lib/python3.8/dist-packages (from ipython>=4.0.0->ipywidgets) (4.4.2)\n",
            "Requirement already satisfied: pexpect in /usr/local/lib/python3.8/dist-packages (from ipython>=4.0.0->ipywidgets) (4.8.0)\n",
            "Requirement already satisfied: pygments in /usr/local/lib/python3.8/dist-packages (from ipython>=4.0.0->ipywidgets) (2.6.1)\n",
            "Requirement already satisfied: backcall in /usr/local/lib/python3.8/dist-packages (from ipython>=4.0.0->ipywidgets) (0.2.0)\n",
            "Requirement already satisfied: prompt-toolkit<2.1.0,>=2.0.0 in /usr/local/lib/python3.8/dist-packages (from ipython>=4.0.0->ipywidgets) (2.0.10)\n",
            "Requirement already satisfied: pickleshare in /usr/local/lib/python3.8/dist-packages (from ipython>=4.0.0->ipywidgets) (0.7.5)\n",
            "Requirement already satisfied: parso<0.9.0,>=0.8.0 in /usr/local/lib/python3.8/dist-packages (from jedi>=0.10->ipython>=4.0.0->ipywidgets) (0.8.3)\n",
            "Requirement already satisfied: wcwidth in /usr/local/lib/python3.8/dist-packages (from prompt-toolkit<2.1.0,>=2.0.0->ipython>=4.0.0->ipywidgets) (0.2.5)\n",
            "Requirement already satisfied: notebook>=4.4.1 in /usr/local/lib/python3.8/dist-packages (from widgetsnbextension~=3.6.0->ipywidgets) (5.7.16)\n",
            "Requirement already satisfied: jinja2<=3.0.0 in /usr/local/lib/python3.8/dist-packages (from notebook>=4.4.1->widgetsnbextension~=3.6.0->ipywidgets) (2.11.3)\n",
            "Requirement already satisfied: terminado>=0.8.1 in /usr/local/lib/python3.8/dist-packages (from notebook>=4.4.1->widgetsnbextension~=3.6.0->ipywidgets) (0.13.3)\n",
            "Requirement already satisfied: prometheus-client in /usr/local/lib/python3.8/dist-packages (from notebook>=4.4.1->widgetsnbextension~=3.6.0->ipywidgets) (0.15.0)\n",
            "Requirement already satisfied: jupyter-core>=4.4.0 in /usr/local/lib/python3.8/dist-packages (from notebook>=4.4.1->widgetsnbextension~=3.6.0->ipywidgets) (5.1.0)\n",
            "Requirement already satisfied: nbformat in /usr/local/lib/python3.8/dist-packages (from notebook>=4.4.1->widgetsnbextension~=3.6.0->ipywidgets) (5.7.0)\n",
            "Requirement already satisfied: Send2Trash in /usr/local/lib/python3.8/dist-packages (from notebook>=4.4.1->widgetsnbextension~=3.6.0->ipywidgets) (1.8.0)\n",
            "Requirement already satisfied: pyzmq>=17 in /usr/local/lib/python3.8/dist-packages (from notebook>=4.4.1->widgetsnbextension~=3.6.0->ipywidgets) (23.2.1)\n",
            "Requirement already satisfied: nbconvert<6.0 in /usr/local/lib/python3.8/dist-packages (from notebook>=4.4.1->widgetsnbextension~=3.6.0->ipywidgets) (5.6.1)\n",
            "Requirement already satisfied: MarkupSafe>=0.23 in /usr/local/lib/python3.8/dist-packages (from jinja2<=3.0.0->notebook>=4.4.1->widgetsnbextension~=3.6.0->ipywidgets) (2.0.1)\n",
            "Requirement already satisfied: platformdirs>=2.5 in /usr/local/lib/python3.8/dist-packages (from jupyter-core>=4.4.0->notebook>=4.4.1->widgetsnbextension~=3.6.0->ipywidgets) (2.5.4)\n",
            "Requirement already satisfied: testpath in /usr/local/lib/python3.8/dist-packages (from nbconvert<6.0->notebook>=4.4.1->widgetsnbextension~=3.6.0->ipywidgets) (0.6.0)\n",
            "Requirement already satisfied: mistune<2,>=0.8.1 in /usr/local/lib/python3.8/dist-packages (from nbconvert<6.0->notebook>=4.4.1->widgetsnbextension~=3.6.0->ipywidgets) (0.8.4)\n",
            "Requirement already satisfied: defusedxml in /usr/local/lib/python3.8/dist-packages (from nbconvert<6.0->notebook>=4.4.1->widgetsnbextension~=3.6.0->ipywidgets) (0.7.1)\n",
            "Requirement already satisfied: bleach in /usr/local/lib/python3.8/dist-packages (from nbconvert<6.0->notebook>=4.4.1->widgetsnbextension~=3.6.0->ipywidgets) (5.0.1)\n",
            "Requirement already satisfied: pandocfilters>=1.4.1 in /usr/local/lib/python3.8/dist-packages (from nbconvert<6.0->notebook>=4.4.1->widgetsnbextension~=3.6.0->ipywidgets) (1.5.0)\n",
            "Requirement already satisfied: entrypoints>=0.2.2 in /usr/local/lib/python3.8/dist-packages (from nbconvert<6.0->notebook>=4.4.1->widgetsnbextension~=3.6.0->ipywidgets) (0.4)\n",
            "Requirement already satisfied: fastjsonschema in /usr/local/lib/python3.8/dist-packages (from nbformat->notebook>=4.4.1->widgetsnbextension~=3.6.0->ipywidgets) (2.16.2)\n",
            "Requirement already satisfied: jsonschema>=2.6 in /usr/local/lib/python3.8/dist-packages (from nbformat->notebook>=4.4.1->widgetsnbextension~=3.6.0->ipywidgets) (4.3.3)\n",
            "Requirement already satisfied: attrs>=17.4.0 in /usr/local/lib/python3.8/dist-packages (from jsonschema>=2.6->nbformat->notebook>=4.4.1->widgetsnbextension~=3.6.0->ipywidgets) (22.1.0)\n",
            "Requirement already satisfied: importlib-resources>=1.4.0 in /usr/local/lib/python3.8/dist-packages (from jsonschema>=2.6->nbformat->notebook>=4.4.1->widgetsnbextension~=3.6.0->ipywidgets) (5.10.0)\n",
            "Requirement already satisfied: pyrsistent!=0.17.0,!=0.17.1,!=0.17.2,>=0.14.0 in /usr/local/lib/python3.8/dist-packages (from jsonschema>=2.6->nbformat->notebook>=4.4.1->widgetsnbextension~=3.6.0->ipywidgets) (0.19.2)\n",
            "Requirement already satisfied: zipp>=3.1.0 in /usr/local/lib/python3.8/dist-packages (from importlib-resources>=1.4.0->jsonschema>=2.6->nbformat->notebook>=4.4.1->widgetsnbextension~=3.6.0->ipywidgets) (3.11.0)\n",
            "Requirement already satisfied: ptyprocess in /usr/local/lib/python3.8/dist-packages (from terminado>=0.8.1->notebook>=4.4.1->widgetsnbextension~=3.6.0->ipywidgets) (0.7.0)\n",
            "Requirement already satisfied: webencodings in /usr/local/lib/python3.8/dist-packages (from bleach->nbconvert<6.0->notebook>=4.4.1->widgetsnbextension~=3.6.0->ipywidgets) (0.5.1)\n",
            "Looking in indexes: https://pypi.org/simple, https://us-python.pkg.dev/colab-wheels/public/simple/\n",
            "Requirement already satisfied: qiskit-optimization in /usr/local/lib/python3.8/dist-packages (0.4.0)\n",
            "Requirement already satisfied: qiskit-terra>=0.20.0 in /usr/local/lib/python3.8/dist-packages (from qiskit-optimization) (0.22.3)\n",
            "Requirement already satisfied: docplex>=2.21.207 in /usr/local/lib/python3.8/dist-packages (from qiskit-optimization) (2.24.232)\n",
            "Requirement already satisfied: scipy>=1.4 in /usr/local/lib/python3.8/dist-packages (from qiskit-optimization) (1.7.3)\n",
            "Requirement already satisfied: numpy>=1.17 in /usr/local/lib/python3.8/dist-packages (from qiskit-optimization) (1.21.6)\n",
            "Requirement already satisfied: networkx>=2.2 in /usr/local/lib/python3.8/dist-packages (from qiskit-optimization) (2.8.8)\n",
            "Requirement already satisfied: setuptools>=40.1.0 in /usr/local/lib/python3.8/dist-packages (from qiskit-optimization) (57.4.0)\n",
            "Requirement already satisfied: six in /usr/local/lib/python3.8/dist-packages (from docplex>=2.21.207->qiskit-optimization) (1.15.0)\n",
            "Requirement already satisfied: psutil>=5 in /usr/local/lib/python3.8/dist-packages (from qiskit-terra>=0.20.0->qiskit-optimization) (5.4.8)\n",
            "Requirement already satisfied: symengine>=0.9 in /usr/local/lib/python3.8/dist-packages (from qiskit-terra>=0.20.0->qiskit-optimization) (0.9.2)\n",
            "Requirement already satisfied: sympy>=1.3 in /usr/local/lib/python3.8/dist-packages (from qiskit-terra>=0.20.0->qiskit-optimization) (1.7.1)\n",
            "Requirement already satisfied: ply>=3.10 in /usr/local/lib/python3.8/dist-packages (from qiskit-terra>=0.20.0->qiskit-optimization) (3.11)\n",
            "Requirement already satisfied: python-dateutil>=2.8.0 in /usr/local/lib/python3.8/dist-packages (from qiskit-terra>=0.20.0->qiskit-optimization) (2.8.2)\n",
            "Requirement already satisfied: retworkx>=0.11.0 in /usr/local/lib/python3.8/dist-packages (from qiskit-terra>=0.20.0->qiskit-optimization) (0.12.1)\n",
            "Requirement already satisfied: dill>=0.3 in /usr/local/lib/python3.8/dist-packages (from qiskit-terra>=0.20.0->qiskit-optimization) (0.3.6)\n",
            "Requirement already satisfied: tweedledum<2.0,>=1.1 in /usr/local/lib/python3.8/dist-packages (from qiskit-terra>=0.20.0->qiskit-optimization) (1.1.1)\n",
            "Requirement already satisfied: stevedore>=3.0.0 in /usr/local/lib/python3.8/dist-packages (from qiskit-terra>=0.20.0->qiskit-optimization) (4.1.1)\n",
            "Requirement already satisfied: rustworkx==0.12.1 in /usr/local/lib/python3.8/dist-packages (from retworkx>=0.11.0->qiskit-terra>=0.20.0->qiskit-optimization) (0.12.1)\n",
            "Requirement already satisfied: pbr!=2.1.0,>=2.0.0 in /usr/local/lib/python3.8/dist-packages (from stevedore>=3.0.0->qiskit-terra>=0.20.0->qiskit-optimization) (5.11.0)\n",
            "Requirement already satisfied: mpmath>=0.19 in /usr/local/lib/python3.8/dist-packages (from sympy>=1.3->qiskit-terra>=0.20.0->qiskit-optimization) (1.2.1)\n",
            "Looking in indexes: https://pypi.org/simple, https://us-python.pkg.dev/colab-wheels/public/simple/\n",
            "Requirement already satisfied: cplex in /usr/local/lib/python3.8/dist-packages (22.1.0.0)\n"
          ]
        }
      ]
    },
    {
      "cell_type": "code",
      "source": [
        "# Setting up the needed nodes + depot and vehicles as the input parameters for TSP\n",
        "n = 3 # Nodes + depot\n",
        "v = 1 # vehicles"
      ],
      "metadata": {
        "id": "gDU620BBz3jM"
      },
      "execution_count": null,
      "outputs": []
    },
    {
      "cell_type": "code",
      "source": [
        "# Create an initializer class that sets up what is needed to visualize potential solutions\n",
        "class Initializer():\n",
        "\n",
        "    def __init__(self, n):\n",
        "        self.n = n\n",
        "\n",
        "    def generate_instance(self):\n",
        "        n = self.n\n",
        "        np.random.seed(1000)\n",
        "        xc = (np.random.rand(n) - 0.5) * 10\n",
        "        yc = (np.random.rand(n) - 0.5) * 10\n",
        "        instance = np.zeros([n, n]) # This is relevant for the below classical optimizer code\n",
        "        for ii in range(0, n):\n",
        "            for jj in range(ii + 1, n): # This for loop is based a previous internship's code\n",
        "                instance[ii, jj] = (xc[ii] - xc[jj]) ** 2 + (yc[ii] - yc[jj]) ** 2\n",
        "                instance[jj, ii] = instance[ii, jj]\n",
        "\n",
        "        return xc, yc, instance"
      ],
      "metadata": {
        "id": "s9RBEQ9UkIYQ"
      },
      "execution_count": null,
      "outputs": []
    },
    {
      "cell_type": "code",
      "source": [
        "# Initialize the problem by randomly generating the instance (based on the initializer class)\n",
        "initializer = Initializer(n) # Initializer object\n",
        "xc,yc,instance = initializer.generate_instance()"
      ],
      "metadata": {
        "id": "0Zr6b_Aqqn3u"
      },
      "execution_count": null,
      "outputs": []
    },
    {
      "cell_type": "code",
      "source": [
        "# Creating a class for the classical optimizer\n",
        "class ClassicalOptimizer:\n",
        "\n",
        "    def __init__(self, instance,n,v):\n",
        "\n",
        "        self.instance = instance\n",
        "        self.n = n  # number of nodes\n",
        "        self.v = v  # number of vehicles\n",
        "\n",
        "\n",
        "    def compute_allowed_combinations(self):\n",
        "        f = math.factorial\n",
        "        return f(self.n) / f(self.v) / f(self.n-self.v)\n",
        "\n",
        "    \"\"\"This uses the classical IBM cplex optimizer. \n",
        "    This function and the one right below it was directly based on internship-related code.\"\"\"\n",
        "    \n",
        "    def cplex_solution(self):\n",
        "\n",
        "        # refactoring\n",
        "        instance = self.instance\n",
        "        n = self.n\n",
        "        v = self.v\n",
        "\n",
        "        my_obj = list(instance.reshape(1, n**2)[0])+[0. for x in range(0,n-1)]\n",
        "        my_ub = [1 for x in range(0,n**2+n-1)]\n",
        "        my_lb = [0 for x in range(0,n**2)] + [0.1 for x in range(0,n-1)]\n",
        "        my_ctype = \"\".join(['I' for x in range(0,n**2)]) + \"\".join(['C' for x in range(0,n-1)])\n",
        "\n",
        "        my_rhs = 2*([v] + [1 for x in range(0,n-1)]) + [1-0.1 for x in range(0,(n-1)**2-(n-1))] + [0 for x in range(0,n)]\n",
        "        my_sense = \"\".join(['E' for x in range(0,2*n)]) + \"\".join(['L' for x in range(0,(n-1)**2-(n-1))])+\"\".join(['E' for x in range(0,n)])\n",
        "\n",
        "        my_prob = cplex.Cplex()\n",
        "        self.populatebyrow(my_prob,my_obj,my_ub,my_lb,my_ctype,my_sense,my_rhs)\n",
        "        my_prob.solve()\n",
        "\n",
        "        x = my_prob.solution.get_values()\n",
        "        x = np.array(x)\n",
        "        cost = my_prob.solution.get_objective_value()\n",
        "\n",
        "        return x,cost\n",
        "\n",
        "\n",
        "    def populatebyrow(self,prob,my_obj,my_ub,my_lb,my_ctype,my_sense,my_rhs):\n",
        "        n = self.n\n",
        "        prob.objective.set_sense(prob.objective.sense.minimize)\n",
        "        prob.variables.add(obj = my_obj, lb = my_lb, ub = my_ub, types = my_ctype)\n",
        "        prob.set_log_stream(None)\n",
        "        prob.set_error_stream(None)\n",
        "        prob.set_warning_stream(None)\n",
        "        prob.set_results_stream(None)\n",
        "        rows = []\n",
        "        for ii in range(0,n):\n",
        "            col = [x for x in range(0+n*ii,n+n*ii)]\n",
        "            coef = [1 for x in range(0,n)]\n",
        "            rows.append([col, coef])\n",
        "\n",
        "        for ii in range(0,n):\n",
        "            col = [x for x in range(0+ii,n**2,n)]\n",
        "            coef = [1 for x in range(0,n)]\n",
        "\n",
        "            rows.append([col, coef])\n",
        "\n",
        "        # Sub-tour elimination constraints below (from internship code)\n",
        "        for ii in range(0, n):\n",
        "          for jj in range(0,n):\n",
        "            if (ii != jj)and(ii*jj>0):\n",
        "              col = [ii+(jj*n), n**2+ii-1, n**2+jj-1]\n",
        "              coef = [1, 1, -1]\n",
        "              rows.append([col, coef])\n",
        "\n",
        "        for ii in range(0,n):\n",
        "          col = [(ii)*(n+1)]\n",
        "          coef = [1]\n",
        "          rows.append([col, coef])\n",
        "\n",
        "        prob.linear_constraints.add(lin_expr=rows, senses=my_sense, rhs=my_rhs)"
      ],
      "metadata": {
        "id": "V4L2TDKz0RnP"
      },
      "execution_count": null,
      "outputs": []
    },
    {
      "cell_type": "code",
      "source": [
        "# Instantiate the classical optimizer class\n",
        "classical_optimizer = ClassicalOptimizer(instance,n,v)\n",
        "\n",
        "# Print number of potential solutions\n",
        "print('Number of potential solutions = ' + str(classical_optimizer.compute_allowed_combinations()))"
      ],
      "metadata": {
        "id": "B2p-qUTGjzD3",
        "colab": {
          "base_uri": "https://localhost:8080/"
        },
        "outputId": "731afbdf-0255-4c3f-983e-0ca30aa87330"
      },
      "execution_count": null,
      "outputs": [
        {
          "output_type": "stream",
          "name": "stdout",
          "text": [
            "Number of potential solutions = 3.0\n"
          ]
        }
      ]
    },
    {
      "cell_type": "code",
      "source": [
        "# Visualize Solution Here\n",
        "def visualize_solution(xc, yc, x, C, n, K, title_str):\n",
        "    plt.figure()\n",
        "    plt.scatter(xc, yc, s=10)\n",
        "    for i in range(len(xc)):\n",
        "      plt.annotate(i, (xc[i] + 0.15, yc[i]), size=16, color='r')\n",
        "    plt.plot(xc[0], yc[0], 'r*', ms=20)\n",
        "    plt.grid()\n",
        "    for ii in range(0, n ** 2): # This loop is from the internship code\n",
        "      if x[ii] > 0:\n",
        "        ix = ii // n\n",
        "        iy = ii % n\n",
        "        plt.arrow(xc[ix], yc[ix], xc[iy] - xc[ix], yc[iy] - yc[ix], length_includes_head=True, head_width=.25)\n",
        "\n",
        "    plt.title(title_str+' cost = ' + str(int(C * 100) / 100.))\n",
        "    plt.show()\n",
        "\n",
        "if x is not None: # In case only a good classical solution has been visualized\n",
        "    visualize_solution(xc, yc, x, classical_cost, n, v, 'Classical')"
      ],
      "metadata": {
        "id": "JykSQPqyj6ma",
        "colab": {
          "base_uri": "https://localhost:8080/",
          "height": 281
        },
        "outputId": "c4a90066-9ad1-4b15-a24c-b0728071a4bf"
      },
      "execution_count": null,
      "outputs": [
        {
          "output_type": "display_data",
          "data": {
            "text/plain": [
              "<Figure size 432x288 with 1 Axes>"
            ],
            "image/png": "[encoded data removed]"
          },
          "metadata": {
            "needs_background": "light"
          }
        }
      ]
    },
    {
      "cell_type": "code",
      "source": [
        "# This is the quantum optimizer class being used for QAOA\n",
        "class quantumOptimizer:\n",
        "  def __init__(self, instance, n, v):\n",
        "    self.instance = instance\n",
        "    self.n = n\n",
        "    self.v = v\n",
        "\n",
        "  def binary_representation(self,x_sol=0): # This function is identical to the one used by the internship and I have been given permission to use this code.\n",
        "    instance = self.instance\n",
        "    n = self.n\n",
        "    v = self.v\n",
        "    A = np.max(instance) * 100  # This is a parameter for the cost function\n",
        "\n",
        "    # Determine the weights w needed\n",
        "    instance_vec = instance.reshape(n ** 2)\n",
        "    w_list = [instance_vec[x] for x in range(n ** 2) if instance_vec[x] > 0]\n",
        "    w = np.zeros(n * (n - 1))\n",
        "    for ii in range(len(w_list)):\n",
        "      w[ii] = w_list[ii]\n",
        "\n",
        "    # Some other needed variables\n",
        "    Id_n = np.eye(n)\n",
        "    Im_n_1 = np.ones([n - 1, n - 1])\n",
        "    Iv_n_1 = np.ones(n)\n",
        "    Iv_n_1[0] = 0\n",
        "    Iv_n = np.ones(n-1)\n",
        "    neg_Iv_n_1 = np.ones(n) - Iv_n_1\n",
        "    v = np.zeros([n, n*(n-1)])\n",
        "\n",
        "    for ii in range(n):\n",
        "      count = ii-1\n",
        "      for jj in range(n*(n-1)):\n",
        "        if jj//(n-1) == ii:\n",
        "          count = ii\n",
        "        if jj//(n-1) != ii and jj%(n-1) == count:\n",
        "          v[ii][jj] = 1.\n",
        "\n",
        "        vn = np.sum(v[1:], axis=0)\n",
        "\n",
        "        # Q defines the interactions between variables\n",
        "        Q = A*(np.kron(Id_n, Im_n_1) + np.dot(v.T, v))\n",
        "\n",
        "        # g defines the contribution from the individual variables\n",
        "        g = w - 2 * A * (np.kron(Iv_n_1,Iv_n) + vn.T) - \\\n",
        "                2 * A * v * (np.kron(neg_Iv_n_1, Iv_n) + v[0].T)\n",
        "\n",
        "        # c is the constant offset\n",
        "        c = 2 * A * (n-1) + 2 * A * (v ** 2)\n",
        "\n",
        "        try:\n",
        "            max(x_sol)\n",
        "            # Evaluates the cost distance from a binary representation of a path\n",
        "            fun = lambda x: np.dot(np.around(x), np.dot(Q, np.around(x))) + np.dot(g, np.around(x)) + c\n",
        "            cost = fun(x_sol)\n",
        "        except:\n",
        "            cost = 0\n",
        "\n",
        "        return Q, g, c, cost # Final Note: The above function was used from the internship-based code\n",
        "  \n",
        " \n",
        "  # This sets up all the variables from the previous function for the final quantum algorithm being run.\n",
        "  def construct_problem(self, Q, g, c):\n",
        "    qp = QuadraticProgram()\n",
        "    for i in range(n * (n - 1)):\n",
        "      qp.binary_var(str(i))\n",
        "      qp.objective.quadratic = Q\n",
        "      qp.objective.linear = g\n",
        "      qp.objective.constant = c\n",
        "    return qp\n",
        "\n",
        "  def solve_problem(self, qp): # This function solves the function and allows one the get the optimal solution.\n",
        "    algorithm_globals.random_seed = 10000 # Random number\n",
        "    # This \"quantum instance\" code is used to run any qiskit-aqua based algorithm.\n",
        "    quantum_instance = QuantumInstance(Aer.get_backend('qasm_simulator'),\n",
        "                                       seed_simulator=algorithm_globals.random_seed,\n",
        "                                       seed_transpiler=algorithm_globals.random_seed)\n",
        "    qaoa = QAOA(optimizer = ADAM(), quantum_instance = quantum_instance, initial_point = [0,0])\n",
        "    # ADAM() is a gradient-based optimizer\n",
        "    # Random initial point\n",
        "    optimizer = MinimumEigenOptimizer(min_eigen_solver=qaoa) # This converts the problem into a quantum unconstrained binary optimization (QUBO) problem.\n",
        "    # Used to approxiate the ground state/lowest eneergy of the resulting hamiltonian\n",
        "    result = optimizer.solve(qp)\n",
        "    # used for computing cost of the obtained result (these two lines of code are from the internship code)\n",
        "    _,_,_,level = self.binary_representation(x_sol=result.x) \n",
        "    return result.x, level\n"
      ],
      "metadata": {
        "id": "qXv6HNF-kHe-"
      },
      "execution_count": null,
      "outputs": []
    },
    {
      "cell_type": "code",
      "source": [
        "# Solve the problem in a classical fashion via CPLEX, hence not putting initial values for x and z.\n",
        "x = None\n",
        "z = None\n",
        "x,classical_cost = classical_optimizer.cplex_solution()\n",
        "# Put the solution in the z variable\n",
        "z = [x[ii] for ii in range(n**2) if ii//n != ii%n] # Had to research to find this line of code\n",
        "# Print the solution\n",
        "print(z)\n"
      ],
      "metadata": {
        "colab": {
          "base_uri": "https://localhost:8080/"
        },
        "id": "dRmXa-MEt-dO",
        "outputId": "5a637918-0921-4cc5-b539-9b2e87fc4975"
      },
      "execution_count": null,
      "outputs": [
        {
          "output_type": "stream",
          "name": "stdout",
          "text": [
            "[0.0, 1.0, 1.0, 0.0, 0.0, 1.0]\n"
          ]
        }
      ]
    },
    {
      "cell_type": "code",
      "source": [
        "# Initializing the quantum optimizer based on the related class and the original inputs (nodes and vehicles).\n",
        "quantum_optimizer =  quantumOptimizer(instance, n, v) "
      ],
      "metadata": {
        "id": "3tsouCspIaZ7"
      },
      "execution_count": null,
      "outputs": []
    },
    {
      "cell_type": "code",
      "source": [
        "# Outputting the binary cost of what was previously run\n",
        "if z is not None:\n",
        "  Q, g, c, binary_cost = quantum_optimizer.binary_representation(x_sol = z)\n",
        "  print(\"Binary cost:\", binary_cost, \"classical cost:\", classical_cost)\n",
        "  if np.abs(binary_cost - classical_cost)  < 0.01:\n",
        "    print('Binary formulation is correct')\n",
        "  else: \n",
        "    print('Error in the binary formulation')\n",
        "else: # In case the binary cost cannot be verified\n",
        "  print('Could not verify the correctness, due to CPLEX solution being unavailable.')\n",
        "  Q, g, c, binary_cost = quantum_optimizer.binary_representation()\n",
        "  print(\"Binary cost:\", binary_cost)"
      ],
      "metadata": {
        "id": "dpfg-bklJGGo",
        "colab": {
          "base_uri": "https://localhost:8080/"
        },
        "outputId": "9b0e8074-5b5b-43b2-adf4-23a438a07617"
      },
      "execution_count": null,
      "outputs": [
        {
          "output_type": "stream",
          "name": "stdout",
          "text": [
            "Binary cost: 0 classical cost: 173.67159502135212\n",
            "Error in the binary formulation\n"
          ]
        }
      ]
    },
    {
      "cell_type": "code",
      "source": [
        "qp = quantum_optimizer.construct_problem(Q, g, c)\n",
        "print(qp)\n",
        "# Printing the equations, variables, and constraints used"
      ],
      "metadata": {
        "id": "KetT6Pu-JyUR",
        "colab": {
          "base_uri": "https://localhost:8080/",
          "height": 370
        },
        "outputId": "9b97b4ed-0705-4c76-f369-534528eb1a56"
      },
      "execution_count": null,
      "outputs": [
        {
          "output_type": "error",
          "ename": "QiskitOptimizationError",
          "evalue": "ignored",
          "traceback": [
            "\u001b[0;31m---------------------------------------------------------------------------\u001b[0m",
            "\u001b[0;31mQiskitOptimizationError\u001b[0m                   Traceback (most recent call last)",
            "\u001b[0;32m<ipython-input-33-258fdccb7be0>\u001b[0m in \u001b[0;36m<module>\u001b[0;34m\u001b[0m\n\u001b[0;32m----> 1\u001b[0;31m \u001b[0mqp\u001b[0m \u001b[0;34m=\u001b[0m \u001b[0mquantum_optimizer\u001b[0m\u001b[0;34m.\u001b[0m\u001b[0mconstruct_problem\u001b[0m\u001b[0;34m(\u001b[0m\u001b[0mQ\u001b[0m\u001b[0;34m,\u001b[0m \u001b[0mg\u001b[0m\u001b[0;34m,\u001b[0m \u001b[0mc\u001b[0m\u001b[0;34m)\u001b[0m\u001b[0;34m\u001b[0m\u001b[0;34m\u001b[0m\u001b[0m\n\u001b[0m\u001b[1;32m      2\u001b[0m \u001b[0mprint\u001b[0m\u001b[0;34m(\u001b[0m\u001b[0mqp\u001b[0m\u001b[0;34m)\u001b[0m\u001b[0;34m\u001b[0m\u001b[0;34m\u001b[0m\u001b[0m\n\u001b[1;32m      3\u001b[0m \u001b[0;31m# Printing the equations, variables, and constraints used\u001b[0m\u001b[0;34m\u001b[0m\u001b[0;34m\u001b[0m\u001b[0;34m\u001b[0m\u001b[0m\n",
            "\u001b[0;32m<ipython-input-29-4462fbf7dfc4>\u001b[0m in \u001b[0;36mconstruct_problem\u001b[0;34m(self, Q, g, c)\u001b[0m\n\u001b[1;32m     65\u001b[0m       \u001b[0mqp\u001b[0m\u001b[0;34m.\u001b[0m\u001b[0mbinary_var\u001b[0m\u001b[0;34m(\u001b[0m\u001b[0mstr\u001b[0m\u001b[0;34m(\u001b[0m\u001b[0mi\u001b[0m\u001b[0;34m)\u001b[0m\u001b[0;34m)\u001b[0m\u001b[0;34m\u001b[0m\u001b[0;34m\u001b[0m\u001b[0m\n\u001b[1;32m     66\u001b[0m       \u001b[0mqp\u001b[0m\u001b[0;34m.\u001b[0m\u001b[0mobjective\u001b[0m\u001b[0;34m.\u001b[0m\u001b[0mquadratic\u001b[0m \u001b[0;34m=\u001b[0m \u001b[0mQ\u001b[0m\u001b[0;34m\u001b[0m\u001b[0;34m\u001b[0m\u001b[0m\n\u001b[0;32m---> 67\u001b[0;31m       \u001b[0mqp\u001b[0m\u001b[0;34m.\u001b[0m\u001b[0mobjective\u001b[0m\u001b[0;34m.\u001b[0m\u001b[0mlinear\u001b[0m \u001b[0;34m=\u001b[0m \u001b[0mg\u001b[0m\u001b[0;34m\u001b[0m\u001b[0;34m\u001b[0m\u001b[0m\n\u001b[0m\u001b[1;32m     68\u001b[0m       \u001b[0mqp\u001b[0m\u001b[0;34m.\u001b[0m\u001b[0mobjective\u001b[0m\u001b[0;34m.\u001b[0m\u001b[0mconstant\u001b[0m \u001b[0;34m=\u001b[0m \u001b[0mc\u001b[0m\u001b[0;34m\u001b[0m\u001b[0;34m\u001b[0m\u001b[0m\n\u001b[1;32m     69\u001b[0m     \u001b[0;32mreturn\u001b[0m \u001b[0mqp\u001b[0m\u001b[0;34m\u001b[0m\u001b[0;34m\u001b[0m\u001b[0m\n",
            "\u001b[0;32m/usr/local/lib/python3.8/dist-packages/qiskit_optimization/problems/quadratic_objective.py\u001b[0m in \u001b[0;36mlinear\u001b[0;34m(self, linear)\u001b[0m\n\u001b[1;32m    113\u001b[0m \u001b[0;34m\u001b[0m\u001b[0m\n\u001b[1;32m    114\u001b[0m         \"\"\"\n\u001b[0;32m--> 115\u001b[0;31m         \u001b[0mself\u001b[0m\u001b[0;34m.\u001b[0m\u001b[0m_linear\u001b[0m \u001b[0;34m=\u001b[0m \u001b[0mLinearExpression\u001b[0m\u001b[0;34m(\u001b[0m\u001b[0mself\u001b[0m\u001b[0;34m.\u001b[0m\u001b[0mquadratic_program\u001b[0m\u001b[0;34m,\u001b[0m \u001b[0mlinear\u001b[0m\u001b[0;34m)\u001b[0m\u001b[0;34m\u001b[0m\u001b[0;34m\u001b[0m\u001b[0m\n\u001b[0m\u001b[1;32m    116\u001b[0m \u001b[0;34m\u001b[0m\u001b[0m\n\u001b[1;32m    117\u001b[0m     \u001b[0;34m@\u001b[0m\u001b[0mproperty\u001b[0m\u001b[0;34m\u001b[0m\u001b[0;34m\u001b[0m\u001b[0m\n",
            "\u001b[0;32m/usr/local/lib/python3.8/dist-packages/qiskit_optimization/problems/linear_expression.py\u001b[0m in \u001b[0;36m__init__\u001b[0;34m(self, quadratic_program, coefficients)\u001b[0m\n\u001b[1;32m     55\u001b[0m         \"\"\"\n\u001b[1;32m     56\u001b[0m         \u001b[0msuper\u001b[0m\u001b[0;34m(\u001b[0m\u001b[0;34m)\u001b[0m\u001b[0;34m.\u001b[0m\u001b[0m__init__\u001b[0m\u001b[0;34m(\u001b[0m\u001b[0mquadratic_program\u001b[0m\u001b[0;34m)\u001b[0m\u001b[0;34m\u001b[0m\u001b[0;34m\u001b[0m\u001b[0m\n\u001b[0;32m---> 57\u001b[0;31m         \u001b[0mself\u001b[0m\u001b[0;34m.\u001b[0m\u001b[0mcoefficients\u001b[0m \u001b[0;34m=\u001b[0m \u001b[0mcoefficients\u001b[0m\u001b[0;34m\u001b[0m\u001b[0;34m\u001b[0m\u001b[0m\n\u001b[0m\u001b[1;32m     58\u001b[0m \u001b[0;34m\u001b[0m\u001b[0m\n\u001b[1;32m     59\u001b[0m     \u001b[0;32mdef\u001b[0m \u001b[0m__getitem__\u001b[0m\u001b[0;34m(\u001b[0m\u001b[0mself\u001b[0m\u001b[0;34m,\u001b[0m \u001b[0mi\u001b[0m\u001b[0;34m:\u001b[0m \u001b[0mUnion\u001b[0m\u001b[0;34m[\u001b[0m\u001b[0mint\u001b[0m\u001b[0;34m,\u001b[0m \u001b[0mstr\u001b[0m\u001b[0;34m]\u001b[0m\u001b[0;34m)\u001b[0m \u001b[0;34m->\u001b[0m \u001b[0mfloat\u001b[0m\u001b[0;34m:\u001b[0m\u001b[0;34m\u001b[0m\u001b[0;34m\u001b[0m\u001b[0m\n",
            "\u001b[0;32m/usr/local/lib/python3.8/dist-packages/qiskit_optimization/problems/linear_expression.py\u001b[0m in \u001b[0;36mcoefficients\u001b[0;34m(self, coefficients)\u001b[0m\n\u001b[1;32m    127\u001b[0m             \u001b[0mcoefficients\u001b[0m\u001b[0;34m:\u001b[0m \u001b[0mThe\u001b[0m \u001b[0mcoefficients\u001b[0m \u001b[0mof\u001b[0m \u001b[0mthe\u001b[0m \u001b[0mlinear\u001b[0m \u001b[0mexpression\u001b[0m\u001b[0;34m.\u001b[0m\u001b[0;34m\u001b[0m\u001b[0;34m\u001b[0m\u001b[0m\n\u001b[1;32m    128\u001b[0m         \"\"\"\n\u001b[0;32m--> 129\u001b[0;31m         \u001b[0mself\u001b[0m\u001b[0;34m.\u001b[0m\u001b[0m_coefficients\u001b[0m \u001b[0;34m=\u001b[0m \u001b[0mself\u001b[0m\u001b[0;34m.\u001b[0m\u001b[0m_coeffs_to_dok_matrix\u001b[0m\u001b[0;34m(\u001b[0m\u001b[0mcoefficients\u001b[0m\u001b[0;34m)\u001b[0m\u001b[0;34m\u001b[0m\u001b[0;34m\u001b[0m\u001b[0m\n\u001b[0m\u001b[1;32m    130\u001b[0m \u001b[0;34m\u001b[0m\u001b[0m\n\u001b[1;32m    131\u001b[0m     \u001b[0;32mdef\u001b[0m \u001b[0mto_array\u001b[0m\u001b[0;34m(\u001b[0m\u001b[0mself\u001b[0m\u001b[0;34m)\u001b[0m \u001b[0;34m->\u001b[0m \u001b[0mndarray\u001b[0m\u001b[0;34m:\u001b[0m\u001b[0;34m\u001b[0m\u001b[0;34m\u001b[0m\u001b[0m\n",
            "\u001b[0;32m/usr/local/lib/python3.8/dist-packages/qiskit_optimization/problems/linear_expression.py\u001b[0m in \u001b[0;36m_coeffs_to_dok_matrix\u001b[0;34m(self, coefficients)\u001b[0m\n\u001b[1;32m    105\u001b[0m             \u001b[0mcoefficients\u001b[0m \u001b[0;34m=\u001b[0m \u001b[0mcoeffs\u001b[0m\u001b[0;34m\u001b[0m\u001b[0;34m\u001b[0m\u001b[0m\n\u001b[1;32m    106\u001b[0m         \u001b[0;32melse\u001b[0m\u001b[0;34m:\u001b[0m\u001b[0;34m\u001b[0m\u001b[0;34m\u001b[0m\u001b[0m\n\u001b[0;32m--> 107\u001b[0;31m             \u001b[0;32mraise\u001b[0m \u001b[0mQiskitOptimizationError\u001b[0m\u001b[0;34m(\u001b[0m\u001b[0;34m\"Unsupported format for coefficients.\"\u001b[0m\u001b[0;34m)\u001b[0m\u001b[0;34m\u001b[0m\u001b[0;34m\u001b[0m\u001b[0m\n\u001b[0m\u001b[1;32m    108\u001b[0m         \u001b[0;32mreturn\u001b[0m \u001b[0mcoefficients\u001b[0m\u001b[0;34m\u001b[0m\u001b[0;34m\u001b[0m\u001b[0m\n\u001b[1;32m    109\u001b[0m \u001b[0;34m\u001b[0m\u001b[0m\n",
            "\u001b[0;31mQiskitOptimizationError\u001b[0m: 'Unsupported format for coefficients.'"
          ]
        }
      ]
    },
    {
      "cell_type": "code",
      "source": [
        "quantum_solution, quantum_cost = quantum_optimizer.solve_problem(qp)\n",
        "print(quantum_solution, quantum_cost)\n",
        "# Printing the quantum solution and the quantum cost\n",
        "# The quantum solution is based on the variables and constraints used (see above printout for more information)"
      ],
      "metadata": {
        "id": "D-vAeaK7KDM8"
      },
      "execution_count": null,
      "outputs": []
    },
    {
      "cell_type": "code",
      "source": [
        " # Put the solution in a way that is compatible with the classical variables\n",
        " # This function was used from the internship, after some explanation from the mentor.\n",
        "x_quantum = np.zeros(n**2)\n",
        "b = 0\n",
        "for a in range(n * n):\n",
        "  if a // n != a % n: # if the larger float less than or equal to the division of a/n does not equal the remainder of a divided by n...\n",
        "    x_quantum[a] = quantum_solution[b] # quantum_solution was created from the solve_problem method of the quantum_optimizer class\n",
        "    b +=  1"
      ],
      "metadata": {
        "id": "1gtzvyMKK4u0"
      },
      "execution_count": null,
      "outputs": []
    },
    {
      "cell_type": "code",
      "source": [
        "# visualize the quantum solution\n",
        "visualize_solution(xc, yc, x_quantum, quantum_cost, n, v, 'Quantum')"
      ],
      "metadata": {
        "id": "KbPmC1umLwED"
      },
      "execution_count": null,
      "outputs": []
    },
    {
      "cell_type": "code",
      "source": [
        "# and visualize the classical solution for comparison\n",
        "if x is not None:\n",
        "    visualize_solution(xc, yc, x, classical_cost, n, v, 'Classical')"
      ],
      "metadata": {
        "id": "Ar3Ddy5bLzEM"
      },
      "execution_count": null,
      "outputs": []
    },
    {
      "cell_type": "code",
      "source": [
        " print(xc,yc) # printing out two arrays, one housing all x-coordinates of the quantum solution graph and one housing\n",
        " # all of the respective y-coordinates"
      ],
      "metadata": {
        "id": "zuwRybRWMAfM"
      },
      "execution_count": null,
      "outputs": []
    }
  ]
}