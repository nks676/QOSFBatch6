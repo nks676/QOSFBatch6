{
 "cells": [
  {
   "cell_type": "code",
   "execution_count": 1,
   "id": "59963b1a-159a-47be-8faa-94f5df410056",
   "metadata": {
    "tags": []
   },
   "outputs": [],
   "source": [
    "# Importing standard Qiskit libraries\n",
    "from qiskit import QuantumCircuit, transpile\n",
    "from qiskit.tools.jupyter import *\n",
    "from qiskit.visualization import *\n",
    "from ibm_quantum_widgets import *\n",
    "\n",
    "# qiskit-ibmq-provider has been deprecated.\n",
    "# Please see the Migration Guides in https://ibm.biz/provider_migration_guide for more detail.\n",
    "from qiskit_ibm_runtime import QiskitRuntimeService, Sampler, Estimator, Session, Options\n",
    "\n",
    "# Loading your IBM Quantum account(s)\n",
    "service = QiskitRuntimeService(channel=\"ibm_quantum\")\n",
    "\n",
    "# Invoke a primitive. For more details see https://qiskit.org/documentation/partners/qiskit_ibm_runtime/tutorials.html\n",
    "# result = Sampler(\"ibmq_qasm_simulator\").run(circuits).result()"
   ]
  },
  {
   "cell_type": "code",
   "execution_count": 2,
   "id": "53c4507e-5f37-4f5e-b8b2-56dbf5ae4ab8",
   "metadata": {
    "tags": []
   },
   "outputs": [],
   "source": [
    "from qiskit import Aer\n",
    "from collections import defaultdict\n",
    "from qiskit import QuantumCircuit, transpile,execute, Aer\n",
    "import networkx as nx\n",
    "from qiskit.circuit.quantumcircuit import QuantumCircuit\n",
    "from qiskit.circuit import QuantumCircuit, ParameterVector\n",
    "import numpy as np\n",
    "#from qiskit.optimization.applications.ising import tsp\n",
    "from qiskit_optimization.applications import Tsp\n",
    "#from qiskit.aqua.algorithms import NumPyMinimumEigensolver, QAOA\n",
    "from qiskit.algorithms.minimum_eigensolvers import QAOA , NumPyMinimumEigensolver\n",
    "#from qiskit.aqua import aqua_globals, QuantumInstance\n",
    "from qiskit.utils import QuantumInstance\n",
    "from qiskit_optimization.algorithms import MinimumEigenOptimizer\n",
    "#from qiskit.optimization.problems import QuadraticProgram\n",
    "from qiskit_optimization import QuadraticProgram\n",
    "from qiskit_optimization.converters import QuadraticProgramToQubo\n",
    "from qiskit.primitives import Sampler\n",
    "from qiskit.circuit.library.n_local.qaoa_ansatz import QAOAAnsatz\n",
    "from qiskit.quantum_info.operators import Operator # Generating a TSP instance of n cities\n",
    "import itertools\n",
    "#THE BELOW FUNCTION CALCULATES TSP CLASSICALLY\n",
    "\n",
    "def tsp_brute_force(distances):\n",
    "    num_cities = len(distances)\n",
    "    all_cities = set(range(num_cities))\n",
    "    shortest_path = None\n",
    "    shortest_distance = float('inf')\n",
    "\n",
    "    for permutation in itertools.permutations(all_cities):\n",
    "        distance = 0\n",
    "        for i in range(num_cities - 1):\n",
    "            current_city = permutation[i]\n",
    "            next_city = permutation[i + 1]\n",
    "            distance += distances[current_city][next_city]\n",
    "\n",
    "        # Add the last leg of the path to complete the cycle\n",
    "        distance += distances[permutation[-1]][permutation[0]]\n",
    "\n",
    "        if distance < shortest_distance:\n",
    "            shortest_distance = distance\n",
    "            shortest_path = permutation\n",
    "\n",
    "    return  shortest_distance #,shortest_path\n",
    "def invert_counts(counts):\n",
    "    return {k[::-1]:v for k, v in counts.items()} #MSB most significant bit\n",
    "\n",
    "def tsp_obj( result, adj_matrix: np.ndarray) -> float:\n",
    "    x = result\n",
    "    n = int(np.sqrt(len(x)))\n",
    "    total_cost = 0.0\n",
    "\n",
    "    for p__ in range(n):\n",
    "        for i in range(n):\n",
    "            if x[i * n + p__]:\n",
    "                total_cost += adj_matrix[i, p__]\n",
    "\n",
    "    return total_cost"
   ]
  },
  {
   "cell_type": "code",
   "execution_count": 105,
   "id": "4c928f7d-9083-4b27-b8fc-bf3cc01f0dfa",
   "metadata": {
    "tags": []
   },
   "outputs": [
    {
     "name": "stdout",
     "output_type": "stream",
     "text": [
      "distance\n",
      " [[ 0. 62. 29.]\n",
      " [62.  0. 76.]\n",
      " [29. 76.  0.]]\n",
      "Problem name: TSP\n",
      "\n",
      "Minimize\n",
      "  62*x_0_0*x_1_1 + 62*x_0_0*x_1_2 + 29*x_0_0*x_2_1 + 29*x_0_0*x_2_2\n",
      "  + 62*x_0_1*x_1_0 + 62*x_0_1*x_1_2 + 29*x_0_1*x_2_0 + 29*x_0_1*x_2_2\n",
      "  + 62*x_0_2*x_1_0 + 62*x_0_2*x_1_1 + 29*x_0_2*x_2_0 + 29*x_0_2*x_2_1\n",
      "  + 76*x_1_0*x_2_1 + 76*x_1_0*x_2_2 + 76*x_1_1*x_2_0 + 76*x_1_1*x_2_2\n",
      "  + 76*x_1_2*x_2_0 + 76*x_1_2*x_2_1\n",
      "\n",
      "Subject to\n",
      "  Linear constraints (6)\n",
      "    x_0_0 + x_0_1 + x_0_2 == 1  'c0'\n",
      "    x_1_0 + x_1_1 + x_1_2 == 1  'c1'\n",
      "    x_2_0 + x_2_1 + x_2_2 == 1  'c2'\n",
      "    x_0_0 + x_1_0 + x_2_0 == 1  'c3'\n",
      "    x_0_1 + x_1_1 + x_2_1 == 1  'c4'\n",
      "    x_0_2 + x_1_2 + x_2_2 == 1  'c5'\n",
      "\n",
      "  Binary variables (9)\n",
      "    x_0_0 x_0_1 x_0_2 x_1_0 x_1_1 x_1_2 x_2_0 x_2_1 x_2_2\n",
      "\n",
      "-1048.5 * IIIIIIIIZ\n",
      "- 1048.5 * IIIIIIIZI\n",
      "- 1048.5 * IIIIIIZII\n",
      "- 1072.0 * IIIIIZIII\n",
      "- 1072.0 * IIIIZIIII\n",
      "- 1072.0 * IIIZIIIII\n",
      "- 1055.5 * IIZIIIIII\n",
      "- 1055.5 * IZIIIIIII\n",
      "- 1055.5 * ZIIIIIIII\n",
      "+ 501.5 * IIIIIIIZZ\n",
      "+ 501.5 * IIIIIIZIZ\n",
      "+ 501.5 * IIIIIIZZI\n",
      "+ 501.5 * IIIIIZIIZ\n",
      "+ 15.5 * IIIIIZIZI\n",
      "+ 15.5 * IIIIIZZII\n",
      "+ 15.5 * IIIIZIIIZ\n",
      "+ 501.5 * IIIIZIIZI\n",
      "+ 15.5 * IIIIZIZII\n",
      "+ 501.5 * IIIIZZIII\n",
      "+ 15.5 * IIIZIIIIZ\n",
      "+ 15.5 * IIIZIIIZI\n",
      "+ 501.5 * IIIZIIZII\n",
      "+ 501.5 * IIIZIZIII\n",
      "+ 501.5 * IIIZZIIII\n",
      "+ 501.5 * IIZIIIIIZ\n",
      "+ 7.25 * IIZIIIIZI\n",
      "+ 7.25 * IIZIIIZII\n",
      "+ 501.5 * IIZIIZIII\n",
      "+ 19.0 * IIZIZIIII\n",
      "+ 19.0 * IIZZIIIII\n",
      "+ 7.25 * IZIIIIIIZ\n",
      "+ 501.5 * IZIIIIIZI\n",
      "+ 7.25 * IZIIIIZII\n",
      "+ 19.0 * IZIIIZIII\n",
      "+ 501.5 * IZIIZIIII\n",
      "+ 19.0 * IZIZIIIII\n",
      "+ 501.5 * IZZIIIIII\n",
      "+ 7.25 * ZIIIIIIIZ\n",
      "+ 7.25 * ZIIIIIIZI\n",
      "+ 501.5 * ZIIIIIZII\n",
      "+ 19.0 * ZIIIIZIII\n",
      "+ 19.0 * ZIIIZIIII\n",
      "+ 501.5 * ZIIZIIIII\n",
      "+ 501.5 * ZIZIIIIII\n",
      "+ 501.5 * ZZIIIIIII 6268.5\n"
     ]
    }
   ],
   "source": [
    "#THIS PART CREATES AN INSTANCE OF TSP THEN IT CONVERTS THAT INTO PAULI OPERATOR LIST(IN SHORT THIS WHERE ENCODING PART IS DONE)\n",
    "n = 3\n",
    "num_qubits = n ** 2\n",
    "tsp =Tsp.create_random_instance(n, seed=46516)\n",
    "adj_matrix = nx.to_numpy_array(tsp.graph)\n",
    "print(\"distance\\n\", adj_matrix)\n",
    "\n",
    "# Create a random TSP Hamiltonian\n",
    "qp = tsp.to_quadratic_program()\n",
    "print(qp.prettyprint())\n",
    "\n",
    "qp2qubo = QuadraticProgramToQubo()\n",
    "qubo = qp2qubo.convert(qp)\n",
    "qubitOp, offset = qubo.to_ising()\n",
    "print(qubitOp, offset)\n",
    "\n"
   ]
  },
  {
   "cell_type": "code",
   "execution_count": 102,
   "id": "e90b1f50-11dc-478c-86a7-79b8c2115577",
   "metadata": {
    "tags": []
   },
   "outputs": [],
   "source": [
    "def getckt(qubitOp, theta, p,num_qubits):\n",
    "    circuit = QAOAAnsatz( cost_operator=qubitOp, reps=p)  #CREATES STANDARD QAOA CIRCUIT\n",
    "    circuit =circuit.decompose( reps=3) # DECOMPOSES FOR VISUALIZATION PURPOSES\n",
    "    bind_dict = {}     # THESE LINES ASSIGNS THE PARAMETERS OF BETA AND GAMMA TO THE QAOA CIRCUIT\n",
    "    phi = ParameterVector('φ',num_qubits)\n",
    "    circuit.parameters\n",
    "    \n",
    "    param =theta #[beta:p,gamma:p,alpha:2**n]\n",
    "\n",
    "    \n",
    "    for i in range(num_qubits - 1):\n",
    "    \n",
    "        # THE BELOW LINES CONSTRUCTS THE PROBLEM INDEPENDENT LAYER WITH passed PARAMETERS \n",
    "        circuit.crz(phi[i], i, i+1)\n",
    "        circuit.x(range(num_qubits))\n",
    "\n",
    "\n",
    "    for i, key in enumerate(circuit.parameters):\n",
    "        bind_dict[key] = param[i]\n",
    "\n",
    "        \n",
    "    circuit = circuit.bind_parameters(bind_dict)\n",
    "    circuit.measure_all()\n",
    "    return circuit\n"
   ]
  },
  {
   "cell_type": "code",
   "execution_count": 20,
   "id": "243ff985-fd63-4b33-a120-e8ae41feca18",
   "metadata": {
    "tags": []
   },
   "outputs": [],
   "source": [
    "def compute_tsp_energy(counts, distances):\n",
    "    energy = 0\n",
    "    total_counts = 0\n",
    "    #counts =  correct_dict(counts, adj_matrix)\n",
    "    \n",
    "    for meas, meas_count in counts.items():\n",
    "        binary_list = [int(bit) for bit in meas]\n",
    "        meas_arr = np.array(binary_list)\n",
    "        obj_for_meas = tsp_obj(meas_arr,adj_matrix)\n",
    "        energy += obj_for_meas * meas_count\n",
    "        total_counts += meas_count\n",
    "    return (energy /total_counts)\n",
    "    "
   ]
  },
  {
   "cell_type": "code",
   "execution_count": 21,
   "id": "59bafffa-af6d-455e-91b8-242222b68020",
   "metadata": {
    "tags": []
   },
   "outputs": [],
   "source": [
    "def get_black_box_objective(adj_matrix,p):\n",
    "    backend = Aer.get_backend('qasm_simulator')\n",
    "    def f(theta):\n",
    "        # let's assume first half is betas, second half is gammas\n",
    "        circuit = getckt(qubitOp, theta , p,num_qubits)\n",
    "        counts = execute(circuit, backend, seed_simulator=10,shots = 5048).result().get_counts()\n",
    "        \n",
    "        # return the energy\n",
    "        return -compute_tsp_energy(invert_counts(counts), adj_matrix)\n",
    "    return f\n"
   ]
  },
  {
   "cell_type": "code",
   "execution_count": 48,
   "id": "ad47d567-edea-4075-8cfa-ff74ddf29d1e",
   "metadata": {
    "tags": []
   },
   "outputs": [
    {
     "name": "stdout",
     "output_type": "stream",
     "text": [
      "['Nelder-Mead', 'Powell', 'CG', 'BFGS', 'L-BFGS-B', 'TNC', 'COBYLA', 'SLSQP', 'trust-constr']\n"
     ]
    }
   ],
   "source": [
    "methods = ['Nelder-Mead',\n",
    "           'Powell',\n",
    "           'CG',\n",
    "           'BFGS',\n",
    "           'L-BFGS-B',\n",
    "           'TNC',\n",
    "           'COBYLA',\n",
    "           'SLSQP',\n",
    "           'trust-constr']\n",
    "\n",
    "print(methods)\n",
    "op_fun =  [203.973059,240.024960, 203.642235, 203.642235,203.64223454833598,204.4033203125\n",
    "           , 231.6748046875,199.2294921875, 199.103515625]\n",
    "op_fun_time = [47.573213, 176.164262, 2.730547,2.695026, 2.754663,2.631764,28.988978,2.708305,2.667684]"
   ]
  },
  {
   "cell_type": "code",
   "execution_count": 200,
   "id": "dd151db1-ad31-4471-8c9a-c1a9ca19d377",
   "metadata": {
    "tags": []
   },
   "outputs": [
    {
     "name": "stdout",
     "output_type": "stream",
     "text": [
      "Optimization time: 2.531979 seconds\n"
     ]
    },
    {
     "name": "stderr",
     "output_type": "stream",
     "text": [
      "/tmp/ipykernel_608/2172968632.py:15: DeprecationWarning: 'maxiter' has been deprecated in favor of 'maxfun' and will be removed in SciPy 1.11.0.\n",
      "  res_sample = minimize(obj, init_point, method= 'TNC', options={'maxiter':2500, 'disp': True})\n",
      "  NIT   NF   F                       GTG\n",
      "    0    1 -1.682555467511886E+02   0.00000000E+00\n",
      "tnc: |pg| = 0 -> local minimum\n",
      "    0    1 -1.682555467511886E+02   0.00000000E+00\n",
      "tnc: Local minima reach (|pg| ~= 0)\n"
     ]
    }
   ],
   "source": [
    "from scipy.optimize import minimize\n",
    "import time\n",
    "\n",
    "# Record the start time\n",
    "start_time = time.time()\n",
    "# p is the number of QAOA alternating operators\n",
    "p = 1\n",
    "obj = get_black_box_objective(adj_matrix, p)\n",
    "random_params = []\n",
    "for i in range((num_qubits + (2 * p)) - 1):\n",
    "    random_value = np.random.uniform(low=-(-0.00000001 * np.pi), high=-0.00000001 *np.pi * np.pi)\n",
    "    random_params.append(random_value)\n",
    "init_point = np.array(random_params)\n",
    "# We are going to limit the number of iterations to 2500\n",
    "res_sample = minimize(obj, init_point, method= 'TNC', options={'maxiter':2500, 'disp': True})\n",
    "#print(res_sample)\n",
    "end_time = time.time()\n",
    "\n",
    "# Calculate the running time\n",
    "running_time = end_time - start_time\n",
    "\n",
    "print(f\"Optimization time: {running_time:.6f} seconds\")"
   ]
  },
  {
   "cell_type": "code",
   "execution_count": 201,
   "id": "83b935cf-f80e-426e-a840-084d72a6de8c",
   "metadata": {
    "tags": []
   },
   "outputs": [
    {
     "name": "stdout",
     "output_type": "stream",
     "text": [
      "obtained_cost 168.2555467511886\n",
      "correct_cost 167.0\n",
      "approximation_ratio 0.9925378581839844\n",
      "error % 0.7518244019093434\n"
     ]
    }
   ],
   "source": [
    "obtained_cost =-1*res_sample['fun']\n",
    "correct_cost = tsp_brute_force(adj_matrix)\n",
    "approximation_ratio = correct_cost/obtained_cost\n",
    "error = ((obtained_cost-correct_cost)/correct_cost)*100\n",
    "print('obtained_cost',obtained_cost)\n",
    "print('correct_cost',correct_cost)\n",
    "\n",
    "print('approximation_ratio',approximation_ratio)\n",
    "print('error %',abs(error))"
   ]
  },
  {
   "cell_type": "code",
   "execution_count": 43,
   "id": "f753f646-4c24-4894-a6ce-77a6b13009ab",
   "metadata": {
    "tags": []
   },
   "outputs": [
    {
     "name": "stdout",
     "output_type": "stream",
     "text": [
      "[0.9916559367329394]\n"
     ]
    }
   ],
   "source": [
    "approx_list = []\n",
    "n_cities = []\n",
    "approx_list.append(approximation_ratio)\n",
    "n_cities.append(n)\n",
    "print(approx_list)"
   ]
  },
  {
   "cell_type": "code",
   "execution_count": 77,
   "id": "38076024-00fe-48a5-8752-e8f9050cdb01",
   "metadata": {},
   "outputs": [
    {
     "name": "stdout",
     "output_type": "stream",
     "text": [
      "Max value: 193.0\n",
      "Index of max value: 0\n",
      "Minimum value: 91.0\n",
      "Index of minimum value: 0\n"
     ]
    }
   ],
   "source": [
    "seed_list = []  # Initialize seed_list outside the loop\n",
    "\n",
    "for i in range(0, 10):\n",
    "    tsp = Tsp.create_random_instance(n, seed=i)\n",
    "    adj_matrix = nx.to_numpy_array(tsp.graph)\n",
    "    added_val = tsp_brute_force(adj_matrix)\n",
    "    seed_list.append(added_val)\n",
    "\n",
    "min_value = min(seed_list)\n",
    "min_index = seed_list.index(min_value)\n",
    "\n",
    "max_value = max(seed_list)\n",
    "max_index = seed_list.index(min_value)\n",
    "\n",
    "\n",
    "print(\"Max value:\", max_value)\n",
    "print(\"Index of max value:\", max_index)\n",
    "\n",
    "print(\"Minimum value:\", min_value)\n",
    "print(\"Index of minimum value:\", min_index)\n"
   ]
  },
  {
   "cell_type": "code",
   "execution_count": 230,
   "id": "aef98a9a-867c-4de5-82d5-cb080cbaec24",
   "metadata": {
    "tags": []
   },
   "outputs": [
    {
     "name": "stderr",
     "output_type": "stream",
     "text": [
      "/tmp/ipykernel_608/2164073902.py:43: DeprecationWarning: 'maxiter' has been deprecated in favor of 'maxfun' and will be removed in SciPy 1.11.0.\n",
      "  res_sample = minimize(obj, init_point, method='TNC', options={'maxiter': 2500, 'disp': True})\n",
      "  NIT   NF   F                       GTG\n",
      "    0    1 -1.682555467511886E+02   0.00000000E+00\n",
      "tnc: |pg| = 0 -> local minimum\n",
      "    0    1 -1.682555467511886E+02   0.00000000E+00\n",
      "tnc: Local minima reach (|pg| ~= 0)\n",
      "  NIT   NF   F                       GTG\n",
      "    0    1 -1.682555467511886E+02   0.00000000E+00\n",
      "tnc: |pg| = 0 -> local minimum\n",
      "    0    1 -1.682555467511886E+02   0.00000000E+00\n",
      "tnc: Local minima reach (|pg| ~= 0)\n",
      "  NIT   NF   F                       GTG\n",
      "    0    1 -1.682555467511886E+02   0.00000000E+00\n",
      "tnc: |pg| = 0 -> local minimum\n",
      "    0    1 -1.682555467511886E+02   0.00000000E+00\n",
      "tnc: Local minima reach (|pg| ~= 0)\n",
      "  NIT   NF   F                       GTG\n",
      "    0    1 -1.682555467511886E+02   0.00000000E+00\n",
      "tnc: |pg| = 0 -> local minimum\n",
      "    0    1 -1.682555467511886E+02   0.00000000E+00\n",
      "tnc: Local minima reach (|pg| ~= 0)\n",
      "  NIT   NF   F                       GTG\n",
      "    0    1 -1.682555467511886E+02   0.00000000E+00\n",
      "tnc: |pg| = 0 -> local minimum\n",
      "    0    1 -1.682555467511886E+02   0.00000000E+00\n",
      "tnc: Local minima reach (|pg| ~= 0)\n",
      "  NIT   NF   F                       GTG\n",
      "    0    1 -1.683112123613312E+02   0.00000000E+00\n",
      "tnc: |pg| = 0 -> local minimum\n",
      "    0    1 -1.683112123613312E+02   0.00000000E+00\n",
      "tnc: Local minima reach (|pg| ~= 0)\n",
      "  NIT   NF   F                       GTG\n",
      "    0    1 -1.684859350237718E+02   0.00000000E+00\n",
      "tnc: |pg| = 0 -> local minimum\n",
      "    0    1 -1.684859350237718E+02   0.00000000E+00\n",
      "tnc: Local minima reach (|pg| ~= 0)\n",
      "  NIT   NF   F                       GTG\n",
      "    0    1 -1.682012678288431E+02   0.00000000E+00\n",
      "tnc: |pg| = 0 -> local minimum\n",
      "    0    1 -1.682012678288431E+02   0.00000000E+00\n",
      "tnc: Local minima reach (|pg| ~= 0)\n",
      "  NIT   NF   F                       GTG\n",
      "    0    1 -1.614175911251981E+02   0.00000000E+00\n",
      "tnc: |pg| = 0 -> local minimum\n",
      "    0    1 -1.614175911251981E+02   0.00000000E+00\n",
      "tnc: Local minima reach (|pg| ~= 0)\n",
      "  NIT   NF   F                       GTG\n",
      "    0    1 -1.682248415213946E+02   0.00000000E+00\n",
      "tnc: |pg| = 0 -> local minimum\n",
      "    0    1 -1.682248415213946E+02   0.00000000E+00\n",
      "tnc: Local minima reach (|pg| ~= 0)\n",
      "  NIT   NF   F                       GTG\n",
      "    0    1 -1.672704041204437E+02   3.24970619E+12\n",
      "tnc: fscale = 1.4649e-07\n",
      "    0   30 -1.672704041204437E+02   3.24970619E+12\n",
      "tnc: Linear search failed\n",
      "  NIT   NF   F                       GTG\n",
      "    0    1 -1.680653724247227E+02   0.00000000E+00\n",
      "tnc: |pg| = 0 -> local minimum\n",
      "    0    1 -1.680653724247227E+02   0.00000000E+00\n",
      "tnc: Local minima reach (|pg| ~= 0)\n",
      "  NIT   NF   F                       GTG\n",
      "    0    1 -1.684904912836767E+02   0.00000000E+00\n",
      "tnc: |pg| = 0 -> local minimum\n",
      "    0    1 -1.684904912836767E+02   0.00000000E+00\n",
      "tnc: Local minima reach (|pg| ~= 0)\n",
      "  NIT   NF   F                       GTG\n",
      "    0    1 -1.689772187004754E+02   0.00000000E+00\n",
      "tnc: |pg| = 0 -> local minimum\n",
      "    0    1 -1.689772187004754E+02   0.00000000E+00\n",
      "tnc: Local minima reach (|pg| ~= 0)\n",
      "  NIT   NF   F                       GTG\n",
      "    0    1 -1.594013470681458E+02   3.30220109E+11\n",
      "tnc: fscale = 2.83292e-11\n",
      "tnc: |xn-xn-1] = 6.9699e-09 -> convergence\n",
      "    1    3 -1.671541204437401E+02   0.00000000E+00\n",
      "tnc: Converged (|x_n-x_(n-1)| ~= 0)\n",
      "  NIT   NF   F                       GTG\n",
      "    0    1 -1.694094690966720E+02   4.26355626E+11\n",
      "tnc: fscale = 1.79976e-12\n",
      "tnc: |xn-xn-1] = 6.09792e-10 -> convergence\n",
      "    1    3 -1.841404516640254E+02   0.00000000E+00\n",
      "tnc: Converged (|x_n-x_(n-1)| ~= 0)\n",
      "  NIT   NF   F                       GTG\n",
      "    0    1 -1.690885499207607E+02   4.26355626E+11\n",
      "tnc: fscale = 5.79658e-12\n",
      "tnc: |xn-xn-1] = 1.96027e-09 -> convergence\n",
      "    1    3 -1.706063787638669E+02   0.00000000E+00\n",
      "tnc: Converged (|x_n-x_(n-1)| ~= 0)\n",
      "  NIT   NF   F                       GTG\n",
      "    0    1 -1.687603011093503E+02   0.00000000E+00\n",
      "tnc: |pg| = 0 -> local minimum\n",
      "    0    1 -1.687603011093503E+02   0.00000000E+00\n",
      "tnc: Local minima reach (|pg| ~= 0)\n",
      "  NIT   NF   F                       GTG\n",
      "    0    1 -1.697676307448494E+02   5.94534511E+11\n",
      "tnc: fscale = 3.03458e-14\n",
      "tnc: |xn-xn-1] = 1.28793e-12 -> convergence\n",
      "    1    6 -1.703722266244057E+02   1.65487020E+13\n",
      "tnc: Converged (|x_n-x_(n-1)| ~= 0)\n",
      "  NIT   NF   F                       GTG\n",
      "    0    1 -1.674480982567353E+02   2.14036618E-01\n",
      "tnc: fscale = 8.05122e-09\n",
      "    1   31 -1.768383518225040E+02   7.29009751E+01\n",
      "tnc: |xn-xn-1] = 1.57468e-09 -> convergence\n",
      "    2   35 -1.769520602218701E+02   1.66575008E+02\n",
      "tnc: Converged (|x_n-x_(n-1)| ~= 0)\n",
      "  NIT   NF   F                       GTG\n",
      "    0    1 -1.682226624405705E+02   2.90114939E-06\n",
      "tnc: fscale = 1.60362e-08\n",
      "    1   29 -1.907969492868463E+02   9.74775998E-04\n",
      "tnc: fscale = 5.91044e-10\n",
      "tnc: |xn-xn-1] = 3.06133e-14 -> convergence\n",
      "    2   51 -1.959167987321711E+02   3.24051183E-03\n",
      "tnc: Converged (|x_n-x_(n-1)| ~= 0)\n",
      "  NIT   NF   F                       GTG\n",
      "    0    1 -1.559336370839937E+02   7.43278464E-06\n",
      "tnc: fscale = 4.66795e-10\n",
      "tnc: |xn-xn-1] = 1.40354e-08 -> convergence\n",
      "    1    5 -1.693215134706815E+02   1.41894337E-08\n",
      "tnc: Converged (|x_n-x_(n-1)| ~= 0)\n",
      "  NIT   NF   F                       GTG\n",
      "    0    1 -1.643448890649762E+02   2.93860358E-09\n",
      "tnc: fscale = 2.05885e-09\n",
      "tnc: |xn-xn-1] = 1.38305e-08 -> convergence\n",
      "    1    4 -1.704114500792393E+02   5.30390405E-08\n",
      "tnc: Converged (|x_n-x_(n-1)| ~= 0)\n",
      "  NIT   NF   F                       GTG\n",
      "    0    1 -1.691010301109350E+02   2.55963104E-12\n",
      "tnc: fscale = 8.24779e-08\n",
      "tnc: |xn-xn-1] = 1.90348e-10 -> convergence\n",
      "    1    7 -1.695635895404120E+02   7.41730293E-10\n",
      "tnc: Converged (|x_n-x_(n-1)| ~= 0)\n",
      "  NIT   NF   F                       GTG\n",
      "    0    1 -1.735122820919176E+02   1.46893213E-11\n",
      "tnc: fscale = 5.026e-10\n",
      "tnc: |xn-xn-1] = 4.96395e-10 -> convergence\n",
      "    1    9 -1.799643423137876E+02   3.59477160E-12\n",
      "tnc: Converged (|x_n-x_(n-1)| ~= 0)\n",
      "  NIT   NF   F                       GTG\n",
      "    0    1 -1.691810618066561E+02   1.45678056E-16\n",
      "tnc: fscale = 1.92142e-08\n",
      "tnc: |xn-xn-1] = 3.03246e-10 -> convergence\n",
      "    1    4 -1.725857765451664E+02   5.76400920E-14\n",
      "tnc: Converged (|x_n-x_(n-1)| ~= 0)\n",
      "  NIT   NF   F                       GTG\n",
      "    0    1 -1.688015055467512E+02   8.18593301E-19\n",
      "tnc: fscale = 2.90453e-08\n",
      "tnc: |xn-xn-1] = 2.88872e-09 -> convergence\n",
      "    1    6 -1.918139857369255E+02   4.32455856E-15\n",
      "tnc: Converged (|x_n-x_(n-1)| ~= 0)\n",
      "  NIT   NF   F                       GTG\n",
      "    0    1 -1.690651743264659E+02   7.68985841E-20\n",
      "tnc: fscale = 1.32568e-08\n",
      "tnc: |xn-xn-1] = 9.80701e-09 -> convergence\n",
      "    1    7 -1.718952060221870E+02   1.35106886E-17\n",
      "tnc: Converged (|x_n-x_(n-1)| ~= 0)\n",
      "  NIT   NF   F                       GTG\n",
      "    0    1 -1.565845879556260E+02   5.44383306E-14\n",
      "tnc: fscale = 5.48824e-10\n",
      "    1    5 -1.683090332805071E+02   3.21686557E-19\n",
      "tnc: fscale = 1.56702e-07\n",
      "tnc: |xn-xn-1] = 1.30817e-10 -> convergence\n",
      "    2    8 -1.698837163232964E+02   5.01041290E-16\n",
      "tnc: Converged (|x_n-x_(n-1)| ~= 0)\n",
      "  NIT   NF   F                       GTG\n",
      "    0    1 -1.687379160063391E+02   2.29813388E-23\n",
      "tnc: fscale = 1.15175e-08\n",
      "tnc: |xn-xn-1] = 8.04072e-09 -> convergence\n",
      "    1   13 -1.825132725832012E+02   8.87985792E-22\n",
      "tnc: Converged (|x_n-x_(n-1)| ~= 0)\n"
     ]
    }
   ],
   "source": [
    "import numpy as np\n",
    "import time\n",
    "from scipy.optimize import minimize\n",
    "\n",
    "# Define the initial and final bounds\n",
    "initial_lb = -0.0000000001 *(np.pi)**2\n",
    "initial_ub = 0.00000000001 *(np.pi)**2\n",
    "\n",
    "final_lb = -100000 *(np.pi)**2\n",
    "final_ub = 100000 *(np.pi)**2\n",
    "\n",
    "# Define the number of iterations\n",
    "num_iterations = 30\n",
    "\n",
    "# Calculate the step sizes to increase the bounds in each iteration\n",
    "lb_step = 100\n",
    "ub_step = 100\n",
    "\n",
    "# Start with the initial bounds range\n",
    "lb = initial_lb\n",
    "ub = initial_ub\n",
    "ap_list = []\n",
    "t_list = []\n",
    "cost_list = []\n",
    "b_list = []\n",
    "for i in range(num_iterations):\n",
    "    # Your code here - you can use 'lb' and 'ub' as the lower and upper bounds for your optimization\n",
    "\n",
    "    # Record the start time\n",
    "    start_time = time.time()\n",
    "\n",
    "    # p is the number of QAOA alternating operators\n",
    "    p = 1\n",
    "    obj = get_black_box_objective(adj_matrix, p)\n",
    "\n",
    "    random_params = []\n",
    "    for i in range((num_qubits + (2 * p)) - 1):\n",
    "        random_value = np.random.uniform(low=lb, high=ub)\n",
    "        random_params.append(random_value)\n",
    "    init_point = np.array(random_params)\n",
    "\n",
    "    # We are going to limit the number of iterations to 2500\n",
    "    res_sample = minimize(obj, init_point, method='TNC', options={'maxiter': 2500, 'disp': True})\n",
    "\n",
    "    # Calculate the running time\n",
    "    end_time = time.time()\n",
    "    running_time = end_time - start_time\n",
    "\n",
    "    obtained_cost = -1 * res_sample['fun']\n",
    "\n",
    "    ap_list.append(correct_cost / obtained_cost)\n",
    "    t_list.append(running_time)\n",
    "    cost_list.append(obtained_cost)\n",
    "    b_list.append(abs(ub))\n",
    "\n",
    "    # After running the optimization, you can adjust the bounds range for the next iteration\n",
    "    lb *= 10\n",
    "    ub *= 10\n"
   ]
  },
  {
   "cell_type": "code",
   "execution_count": 117,
   "id": "7e2bc8f7-7736-4c9a-aa86-44ffa51df505",
   "metadata": {
    "tags": []
   },
   "outputs": [
    {
     "name": "stdout",
     "output_type": "stream",
     "text": [
      "Number of numbers between 0.01 and 100 (excluding endpoints): 9\n"
     ]
    }
   ],
   "source": [
    "lower_bound = 0.1\n",
    "upper_bound = 10\n",
    "\n",
    "# Exclude the endpoints and count the numbers in between\n",
    "count = int(upper_bound) - int(lower_bound) - 1\n",
    "\n",
    "print(\"Number of numbers between 0.01 and 100 (excluding endpoints):\", count)\n"
   ]
  },
  {
   "cell_type": "code",
   "execution_count": 231,
   "id": "a5cd8efb-91eb-4413-b7e1-cd26d22f8db8",
   "metadata": {
    "tags": []
   },
   "outputs": [
    {
     "name": "stdout",
     "output_type": "stream",
     "text": [
      "[0.9925378581839844, 0.9925378581839844, 0.9925378581839844, 0.9925378581839844, 0.9925378581839844, 0.9922095958852919, 0.991180658352508, 0.9928581523531352, 1.0345836462797422, 0.9927190211010611, 0.9983834311762108, 0.9936609641275163, 0.9911538551978742, 0.9882989037476099, 0.999077974007874, 0.906916424342767, 0.9788614072346123, 0.9895692227509736, 0.9802067115561038, 0.9437584382493669, 0.8524026580706743, 0.9862893177417562, 0.9799810982322313, 0.98488124987587, 0.9279616053541159, 0.9676347804727432, 0.8706351591538373, 0.9715221492474015, 0.9830253517776328, 0.915001948276779]\n"
     ]
    }
   ],
   "source": [
    "print(ap_list)"
   ]
  },
  {
   "cell_type": "code",
   "execution_count": 181,
   "id": "9093653f-3a2d-470b-a4fc-f84f0a8ec516",
   "metadata": {
    "tags": []
   },
   "outputs": [
    {
     "name": "stdout",
     "output_type": "stream",
     "text": [
      "[2.3502676486968994, 2.529364824295044, 2.3466947078704834, 4.807341814041138, 66.68801879882812, 2.254000425338745, 2.3870768547058105, 2.3323278427124023]\n"
     ]
    }
   ],
   "source": [
    "print(t_list)"
   ]
  },
  {
   "cell_type": "code",
   "execution_count": 208,
   "id": "b9321003-a500-417e-978a-c6a3252410c5",
   "metadata": {
    "tags": []
   },
   "outputs": [
    {
     "name": "stdout",
     "output_type": "stream",
     "text": [
      "[168.2555467511886, 168.2555467511886, 168.2555467511886, 168.2555467511886, 168.2555467511886, 168.26782884310617, 168.3930269413629, 168.5818145800317, 170.20443740095087, 169.05586370839936, 169.17729793977813, 148.93363708399366, 105.36925515055468, 170.1562995245642, 166.64560221870047, 169.85637876386687, 169.07309825673534, 168.72167194928684, 243.0235736925515, 182.95820126782885, 169.04338351822503, 169.61073692551506, 176.6553090332805, 183.40649762282092, 190.73573692551506, 168.62876386687796, 173.45602218700475, 170.5986529318542, 191.71572900158478, 177.56557052297939]\n",
      "167.0\n"
     ]
    }
   ],
   "source": [
    "print(cost_list)\n",
    "print(correct_cost)"
   ]
  },
  {
   "cell_type": "code",
   "execution_count": 232,
   "id": "ec68bafb-fb8e-4703-a218-39b434a60ee9",
   "metadata": {
    "tags": []
   },
   "outputs": [
    {
     "name": "stdout",
     "output_type": "stream",
     "text": [
      "[9.869604401089358e-11, 9.869604401089357e-10, 9.869604401089357e-09, 9.869604401089357e-08, 9.869604401089357e-07, 9.869604401089357e-06, 9.869604401089357e-05, 0.0009869604401089357, 0.009869604401089357, 0.09869604401089357, 0.9869604401089358, 9.869604401089358, 98.69604401089359, 986.9604401089359, 9869.60440108936, 98696.0440108936, 986960.440108936, 9869604.401089361, 98696044.01089361, 986960440.1089361, 9869604401.089361, 98696044010.89362, 986960440108.9362, 9869604401089.361, 98696044010893.61, 986960440108936.1, 9869604401089362.0, 9.869604401089362e+16, 9.869604401089362e+17, 9.869604401089362e+18]\n"
     ]
    }
   ],
   "source": [
    "print(b_list)"
   ]
  },
  {
   "cell_type": "code",
   "execution_count": 227,
   "id": "20bb8f7b-a77d-4745-b990-f4296be5cf62",
   "metadata": {
    "tags": []
   },
   "outputs": [
    {
     "data": {
      "image/png": "[encoded data removed]",
      "text/plain": [
       "<Figure size 1000x600 with 1 Axes>"
      ]
     },
     "metadata": {},
     "output_type": "display_data"
    }
   ],
   "source": [
    "import matplotlib.pyplot as plt\n",
    "\n",
    "# Assuming you have b_list and ap_list containing the data\n",
    "plt.figure(figsize=(10, 6))  # Increase the figure size for better readability\n",
    "plt.errorbar(b_list, ap_list, marker='o', linestyle='-', capsize=1, label='Approximation Ratio')\n",
    "plt.xlabel('Bound Values (b_list)')\n",
    "plt.ylabel('Approximation Ratio')\n",
    "plt.title('Approximation Ratio vs. Bound Values')\n",
    "plt.grid(True)\n",
    "\n",
    "\n",
    "\n",
    "# Set custom tick locations and labels for the x-axis\n",
    "plt.xticks(b_list, [\"{:.6f}\".format(val) for val in b_list])\n",
    "\n",
    "# Add a legend\n",
    "plt.legend()\n",
    "\n",
    "plt.show()\n"
   ]
  },
  {
   "cell_type": "code",
   "execution_count": 204,
   "id": "b6556659-de12-4882-91e2-08854acbdd56",
   "metadata": {
    "tags": []
   },
   "outputs": [
    {
     "data": {
      "text/plain": [
       "<function matplotlib.pyplot.show(close=None, block=None)>"
      ]
     },
     "execution_count": 204,
     "metadata": {},
     "output_type": "execute_result"
    },
    {
     "data": {
      "image/png": "[encoded data removed]",
      "text/plain": [
       "<Figure size 640x480 with 1 Axes>"
      ]
     },
     "metadata": {},
     "output_type": "display_data"
    }
   ],
   "source": [
    "plt.plot(t_list,ap_list )\n",
    "plt.show"
   ]
  },
  {
   "cell_type": "code",
   "execution_count": 159,
   "id": "90094812-eded-4dc8-9608-c81c8e9d1ecb",
   "metadata": {
    "tags": []
   },
   "outputs": [
    {
     "name": "stderr",
     "output_type": "stream",
     "text": [
      "/tmp/ipykernel_608/1454428835.py:43: DeprecationWarning: 'maxiter' has been deprecated in favor of 'maxfun' and will be removed in SciPy 1.11.0.\n",
      "  res_sample = minimize(obj, init_point, method='TNC', options={'maxiter': 2500, 'disp': True})\n",
      "  NIT   NF   F                       GTG\n",
      "    0    1 -1.682555467511886E+02   0.00000000E+00\n",
      "tnc: |pg| = 0 -> local minimum\n",
      "    0    1 -1.682555467511886E+02   0.00000000E+00\n",
      "tnc: Local minima reach (|pg| ~= 0)\n",
      "  NIT   NF   F                       GTG\n",
      "    0    1 -1.683674722662441E+02   0.00000000E+00\n",
      "tnc: |pg| = 0 -> local minimum\n",
      "    0    1 -1.683674722662441E+02   0.00000000E+00\n",
      "tnc: Local minima reach (|pg| ~= 0)\n",
      "  NIT   NF   F                       GTG\n",
      "    0    1 -1.688870839936609E+02   0.00000000E+00\n",
      "tnc: |pg| = 0 -> local minimum\n",
      "    0    1 -1.688870839936609E+02   0.00000000E+00\n",
      "tnc: Local minima reach (|pg| ~= 0)\n",
      "  NIT   NF   F                       GTG\n",
      "    0    1 -1.652105784469097E+02   0.00000000E+00\n",
      "tnc: |pg| = 0 -> local minimum\n",
      "    0    1 -1.652105784469097E+02   0.00000000E+00\n",
      "tnc: Local minima reach (|pg| ~= 0)\n",
      "  NIT   NF   F                       GTG\n",
      "    0    1 -1.713831220285261E+02   8.92890220E+13\n",
      "tnc: fscale = 9.79205e-08\n",
      "tnc: |xn-xn-1] = 1.49012e-08 -> convergence\n",
      "    1    3 -1.714710776545167E+02   0.00000000E+00\n",
      "tnc: Converged (|x_n-x_(n-1)| ~= 0)\n",
      "  NIT   NF   F                       GTG\n",
      "    0    1 -1.674154120443740E+02   6.03399121E+12\n",
      "tnc: fscale = 2.48327e-07\n",
      "    1    3 -1.674768225039620E+02   0.00000000E+00\n",
      "tnc: |pg| = 0 -> local minimum\n",
      "    1    3 -1.674768225039620E+02   0.00000000E+00\n",
      "tnc: Local minima reach (|pg| ~= 0)\n",
      "  NIT   NF   F                       GTG\n",
      "    0    1 -1.502286053882726E+02   9.18638652E+12\n",
      "tnc: fscale = 4.06421e-09\n",
      "    0   26 -1.502286053882726E+02   9.18638652E+12\n",
      "tnc: Linear search failed\n",
      "  NIT   NF   F                       GTG\n",
      "    0    1 -1.685320919175911E+02   0.00000000E+00\n",
      "tnc: |pg| = 0 -> local minimum\n",
      "    0    1 -1.685320919175911E+02   0.00000000E+00\n",
      "tnc: Local minima reach (|pg| ~= 0)\n",
      "  NIT   NF   F                       GTG\n",
      "    0    1 -1.693399366085578E+02   0.00000000E+00\n",
      "tnc: |pg| = 0 -> local minimum\n",
      "    0    1 -1.693399366085578E+02   0.00000000E+00\n",
      "tnc: Local minima reach (|pg| ~= 0)\n",
      "  NIT   NF   F                       GTG\n",
      "    0    1 -1.609033280507132E+02   0.00000000E+00\n",
      "tnc: |pg| = 0 -> local minimum\n",
      "    0    1 -1.609033280507132E+02   0.00000000E+00\n",
      "tnc: Local minima reach (|pg| ~= 0)\n"
     ]
    }
   ],
   "source": []
  },
  {
   "cell_type": "code",
   "execution_count": 206,
   "id": "396383e7-69a1-473d-b08e-4bd811fe6340",
   "metadata": {
    "tags": []
   },
   "outputs": [
    {
     "name": "stdout",
     "output_type": "stream",
     "text": [
      "Traceback \u001b[1;36m(most recent call last)\u001b[0m:\n",
      "\u001b[0m  Cell \u001b[0;32mIn[206], line 23\u001b[0m\n",
      "    root = tk.Tk()\u001b[0m\n",
      "\u001b[1;36m  File \u001b[1;32m/opt/conda/lib/python3.10/tkinter/__init__.py:2299\u001b[1;36m in \u001b[1;35m__init__\u001b[1;36m\n",
      "\u001b[1;33m    self.tk = _tkinter.create(screenName, baseName, className, interactive, wantobjects, useTk, sync, use)\u001b[1;36m\n",
      "\u001b[1;31mTclError\u001b[0m\u001b[1;31m:\u001b[0m no display name and no $DISPLAY environment variable\n",
      "\n",
      "Use %tb to get the full traceback.\n"
     ]
    },
    {
     "data": {
      "text/html": [
       "\n",
       "<style>\n",
       ".button {\n",
       "  border: none;\n",
       "  color: white;\n",
       "  padding: 4px 8px;\n",
       "  text-align: center;\n",
       "  text-decoration: none;\n",
       "  display: inline-block;\n",
       "  font-size: 12px;\n",
       "  margin: 4px 2px;\n",
       "  transition-duration: 0.2s;\n",
       "  cursor: pointer;\n",
       "}\n",
       ".iqx-button {\n",
       "  background-color: #0f62fe; \n",
       "  color: white; \n",
       "}\n",
       ".iqx-button:hover {\n",
       "  background-color: #0043ce;\n",
       "  color: white;\n",
       "}\n",
       "</style>\n",
       "<a href=\"https://stackoverflow.com/search?q=TclError: no display name and no $DISPLAY environment variable\" target='_blank'><button class='button iqx-button'>Search for solution online</button></a>\n"
      ],
      "text/plain": [
       "<IPython.core.display.HTML object>"
      ]
     },
     "metadata": {},
     "output_type": "display_data"
    },
    {
     "data": {
      "image/png": "[encoded data removed]",
      "text/plain": [
       "<Figure size 1000x600 with 1 Axes>"
      ]
     },
     "metadata": {},
     "output_type": "display_data"
    }
   ],
   "source": [
    "import matplotlib.pyplot as plt\n",
    "import tkinter as tk\n",
    "from matplotlib.backends.backend_tkagg import FigureCanvasTkAgg, NavigationToolbar2Tk\n",
    "\n",
    "# Assuming you have b_list and ap_list containing the data\n",
    "plt.figure(figsize=(10, 6))  # Increase the figure size for better readability\n",
    "plt.errorbar(b_list, ap_list, marker='o', linestyle='-', capsize=5, label='Approximation Ratio')\n",
    "plt.xlabel('Bound Values (b_list)')\n",
    "plt.ylabel('Approximation Ratio')\n",
    "plt.title('Approximation Ratio vs. Bound Values')\n",
    "plt.grid(True)\n",
    "\n",
    "# Set a logarithmic scale for the y-axis to handle a wide range of values\n",
    "plt.yscale('log')\n",
    "\n",
    "# Set custom tick locations and labels for the x-axis\n",
    "plt.xticks(b_list, [\"{:.6f}\".format(val) for val in b_list])\n",
    "\n",
    "# Add a legend\n",
    "plt.legend()\n",
    "\n",
    "# Embed the plot in a Tkinter window\n",
    "root = tk.Tk()\n",
    "root.title(\"Interactive Plot\")\n",
    "\n",
    "# Create a FigureCanvasTkAgg object\n",
    "canvas = FigureCanvasTkAgg(plt.gcf(), master=root)\n",
    "canvas.draw()\n",
    "\n",
    "# Add NavigationToolbar2Tk to the plot window\n",
    "toolbar = NavigationToolbar2Tk(canvas, root)\n",
    "toolbar.update()\n",
    "\n",
    "# Pack the canvas and toolbar\n",
    "canvas.get_tk_widget().pack(side=tk.TOP, fill=tk.BOTH, expand=True)\n",
    "toolbar.pack(side=tk.BOTTOM, fill=tk.BOTH, expand=True)\n",
    "\n",
    "# Run the Tkinter event loop\n",
    "root.mainloop()\n"
   ]
  },
  {
   "cell_type": "code",
   "execution_count": null,
   "id": "850bee6c-b539-4b5e-a005-18da0b32ea1a",
   "metadata": {},
   "outputs": [],
   "source": []
  }
 ],
 "metadata": {
  "kernelspec": {
   "display_name": "Python 3 (ipykernel)",
   "language": "python",
   "name": "python3"
  },
  "language_info": {
   "codemirror_mode": {
    "name": "ipython",
    "version": 3
   },
   "file_extension": ".py",
   "mimetype": "text/x-python",
   "name": "python",
   "nbconvert_exporter": "python",
   "pygments_lexer": "ipython3",
   "version": "3.10.8"
  },
  "widgets": {
   "application/vnd.jupyter.widget-state+json": {
    "state": {},
    "version_major": 2,
    "version_minor": 0
   }
  }
 },
 "nbformat": 4,
 "nbformat_minor": 5
}
