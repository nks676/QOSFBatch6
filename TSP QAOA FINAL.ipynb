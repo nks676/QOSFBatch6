{
 "cells": [
  {
   "cell_type": "code",
   "execution_count": 2,
   "id": "cb60b99f",
   "metadata": {},
   "outputs": [],
   "source": [
    "import numpy as np\n",
    "import matplotlib.pyplot as plt\n",
    "\n",
    "from qiskit.tools.visualization import plot_histogram\n",
    "from qiskit import QuantumCircuit, QuantumRegister, ClassicalRegister,execute, Aer"
   ]
  },
  {
   "cell_type": "code",
   "execution_count": 3,
   "id": "428a4895",
   "metadata": {},
   "outputs": [],
   "source": [
    "# Function to create the cost Hamiltonian for the TSP\n",
    "def create_cost_Hamiltonian(distances):\n",
    "    n_cities = len(distances)\n",
    "    H = np.zeros((n_cities, n_cities))\n",
    "    for i in range(n_cities):\n",
    "        for j in range(n_cities):\n",
    "            if i != j:\n",
    "                H[i][j] = distances[i][j]\n",
    "    return H"
   ]
  },
  {
   "cell_type": "code",
   "execution_count": 4,
   "id": "e9572fc8",
   "metadata": {},
   "outputs": [],
   "source": [
    "# Function to create the mixer Hamiltonian for the TSP\n",
    "def create_mixer_Hamiltonian(n_cities):\n",
    "    H = np.ones((n_cities, n_cities)) - np.eye(n_cities)\n",
    "    return H"
   ]
  },
  {
   "cell_type": "code",
   "execution_count": 5,
   "id": "ed01f15f",
   "metadata": {},
   "outputs": [],
   "source": [
    "# Function to create the QAOA circuit for the TSP\n",
    "def create_QAOA_circuit(distances, p):\n",
    "    n_cities = len(distances)\n",
    "    \n",
    "    # Create quantum registers and classical register\n",
    "    qr = QuantumRegister(n_cities)\n",
    "    cr = ClassicalRegister(n_cities)\n",
    "    \n",
    "    # Create quantum circuit\n",
    "    qc = QuantumCircuit(qr, cr)\n",
    "    \n",
    "    # Create cost and mixer Hamiltonians\n",
    "    cost_H = create_cost_Hamiltonian(distances)\n",
    "    mixer_H = create_mixer_Hamiltonian(n_cities)\n",
    "    \n",
    "    # Apply QAOA steps\n",
    "    for i in range(p):\n",
    "        # Apply cost Hamiltonian\n",
    "        for j in range(n_cities):\n",
    "            for k in range(j+1, n_cities):\n",
    "                qc.cx(qr[j], qr[k])\n",
    "                qc.p(-cost_H[j][k], qr[k])\n",
    "                qc.cx(qr[j], qr[k])\n",
    "        # Apply mixer Hamiltonian\n",
    "        for j in range(n_cities):\n",
    "            qc.h(qr[j])\n",
    "            qc.x(qr[j])\n",
    "        qc.barrier()\n",
    "        for j in range(n_cities):\n",
    "            for k in range(j+1, n_cities):\n",
    "                qc.cx(qr[j], qr[k])\n",
    "                qc.p(-mixer_H[j][k], qr[k])\n",
    "                qc.cx(qr[j], qr[k])\n",
    "        for j in range(n_cities):\n",
    "            qc.x(qr[j])\n",
    "            qc.h(qr[j])\n",
    "    \n",
    "    # Measure qubits\n",
    "    for j in range(n_cities):\n",
    "        qc.measure(qr[j], cr[j])\n",
    "    \n",
    "    \n",
    "    return qc"
   ]
  },
  {
   "cell_type": "code",
   "execution_count": 6,
   "id": "242fcd7c",
   "metadata": {},
   "outputs": [],
   "source": [
    "cities = ['A', 'B', 'C', 'D']\n",
    "distances= [[0, 45, 20, 5], [45, 0, 35, 25], [20, 30, 0, 30], [5, 25, 30, 0]]\n",
    "\n",
    "cv = create_QAOA_circuit(distances, 200)\n",
    "# cv.draw(output = 'mpl')"
   ]
  },
  {
   "cell_type": "code",
   "execution_count": 7,
   "id": "2b8eb668",
   "metadata": {},
   "outputs": [
    {
     "data": {
      "image/png": "[encoded data removed]",
      "text/plain": [
       "<Figure size 640x480 with 1 Axes>"
      ]
     },
     "metadata": {},
     "output_type": "display_data"
    },
    {
     "name": "stdout",
     "output_type": "stream",
     "text": [
      "[90, 0, 180, 90, 0, 180, 90, 90]\n"
     ]
    }
   ],
   "source": [
    "# Execute the circuit on a simulator backend\n",
    "backend = Aer.get_backend('qasm_simulator')\n",
    "result = execute(cv, backend , shots=2047).result()\n",
    "\n",
    "# Extract the results from the execution object\n",
    "counts = result.get_counts()\n",
    "\n",
    "# Initialize the list of optimal costs\n",
    "optimal_costs = []\n",
    "\n",
    "# Iterate over the results\n",
    "for bitstring, count in counts.items():\n",
    "    # Convert the bitstring to a list of integers\n",
    "    path = [int(x) for x in bitstring]\n",
    "    \n",
    "    # Compute the cost of the path\n",
    "    cost = 0\n",
    "    for i in range(len(path)-1):\n",
    "        cost += distances[path[i]][path[i+1]]\n",
    "    cost += distances[path[-1]][path[0]]\n",
    "    \n",
    "    # Append the cost to the list\n",
    "    optimal_costs.append(cost)\n",
    "\n",
    "# Plot the histogram of optimal costs\n",
    "plt.hist(optimal_costs, bins=20)\n",
    "plt.show()\n",
    "print(optimal_costs)"
   ]
  },
  {
   "cell_type": "code",
   "execution_count": 9,
   "id": "cb986f96",
   "metadata": {},
   "outputs": [],
   "source": [
    "# useful additional packages\n",
    "import matplotlib.pyplot as plt\n",
    "import numpy as np\n",
    "import networkx as nx\n",
    "\n",
    "\n",
    "from qiskit_aer import Aer\n",
    "from qiskit.tools.visualization import plot_histogram\n",
    "from qiskit.circuit.library import TwoLocal\n",
    "from qiskit_optimization.applications import Maxcut, Tsp\n",
    "from qiskit.algorithms.minimum_eigensolvers import SamplingVQE, NumPyMinimumEigensolver\n",
    "from qiskit.algorithms.optimizers import SPSA\n",
    "from qiskit.utils import algorithm_globals\n",
    "from qiskit.primitives import Sampler\n",
    "from qiskit_optimization.algorithms import MinimumEigenOptimizer"
   ]
  },
  {
   "cell_type": "code",
   "execution_count": 10,
   "id": "dfa95423",
   "metadata": {},
   "outputs": [],
   "source": [
    "def draw_graph(G, colors, pos):\n",
    "    default_axes = plt.axes(frameon=True)\n",
    "    nx.draw_networkx(G, node_color=colors, node_size=600, alpha=0.8, ax=default_axes, pos=pos)\n",
    "    edge_labels = nx.get_edge_attributes(G, \"weight\")\n",
    "    nx.draw_networkx_edge_labels(G, pos=pos, edge_labels=edge_labels)\n",
    "\n",
    "def draw_tsp_solution(G, order, colors, pos):\n",
    "    G2 = nx.DiGraph()\n",
    "    G2.add_nodes_from(G)\n",
    "    n = len(order)\n",
    "    for i in range(n):\n",
    "        j = (i + 1) % n\n",
    "        G2.add_edge(order[i], order[j], weight=G[order[i]][order[j]][\"weight\"])\n",
    "    default_axes = plt.axes(frameon=True)\n",
    "    nx.draw_networkx(\n",
    "        G2, node_color=colors, edge_color=\"b\", node_size=600, alpha=0.8, ax=default_axes, pos=pos\n",
    "    )\n",
    "    edge_labels = nx.get_edge_attributes(G2, \"weight\")\n",
    "    nx.draw_networkx_edge_labels(G2, pos, font_color=\"b\", edge_labels=edge_labels)"
   ]
  }
 ],
 "metadata": {
  "kernelspec": {
   "display_name": "qosf",
   "language": "python",
   "name": "python3"
  },
  "language_info": {
   "codemirror_mode": {
    "name": "ipython",
    "version": 3
   },
   "file_extension": ".py",
   "mimetype": "text/x-python",
   "name": "python",
   "nbconvert_exporter": "python",
   "pygments_lexer": "ipython3",
   "version": "3.10.9"
  },
  "vscode": {
   "interpreter": {
    "hash": "92f31067783948e584e2c3ccfddfd0d760b91a65ced1b897951d7ecd285cc58f"
   }
  }
 },
 "nbformat": 4,
 "nbformat_minor": 5
}
